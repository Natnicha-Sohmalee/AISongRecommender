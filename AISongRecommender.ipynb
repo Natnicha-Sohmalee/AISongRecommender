{
 "nbformat": 4,
 "nbformat_minor": 2,
 "metadata": {
  "language_info": {
   "name": "python",
   "codemirror_mode": {
    "name": "ipython",
    "version": 3
   },
   "version": "3.6.6-final"
  },
  "orig_nbformat": 2,
  "file_extension": ".py",
  "mimetype": "text/x-python",
  "name": "python",
  "npconvert_exporter": "python",
  "pygments_lexer": "ipython3",
  "version": 3,
  "kernelspec": {
   "name": "csc466",
   "display_name": "CSC466"
  }
 },
 "cells": [
  {
   "cell_type": "code",
   "execution_count": 1,
   "metadata": {},
   "outputs": [],
   "source": [
    "import pandas as pd\n",
    "import numpy as np\n",
    "import SpotipyWrapper"
   ]
  },
  {
   "cell_type": "code",
   "execution_count": 2,
   "metadata": {},
   "outputs": [
    {
     "name": "stdout",
     "output_type": "stream",
     "text": "Help on module SpotipyWrapper:\n\nNAME\n    SpotipyWrapper\n\nCLASSES\n    builtins.object\n        WrapperClass\n    \n    class WrapperClass(builtins.object)\n     |  Methods defined here:\n     |  \n     |  __init__(self)\n     |      Initialize self.  See help(type(self)) for accurate signature.\n     |  \n     |  doAuth(self)\n     |      Funtion: Setup and initialization of credentials manager and \n     |      master Spotify object\n     |      \n     |      Returns: Spotify Object\n     |  \n     |  getSongsFromPlaylist(self, uri, username, name='')\n     |      Function: Get list of songs from certain playlist\n     |      \n     |      Returns: Dataframe containing [song name, uri]\n     |  \n     |  getUsersPlaylists(self, username='mikeydays')\n     |      Function: Get a list of users playlist names\n     |      \n     |      Returns: A list of names\n     |  \n     |  ----------------------------------------------------------------------\n     |  Data descriptors defined here:\n     |  \n     |  __dict__\n     |      dictionary for instance variables (if defined)\n     |  \n     |  __weakref__\n     |      list of weak references to the object (if defined)\n\nDATA\n    CLIENT_ID = '57a43e229eb045f7902cfb5a723d0e59'\n    CLIENT_SECRET = 'f301225d3cc3449ba674a36ee64a1cbf'\n    sp = None\n\nFILE\n    /Users/MichaelMoschitto/Desktop/466/AISongRecommender/SpotipyWrapper.py\n\n\n"
    }
   ],
   "source": [
    "help(SpotipyWrapper)"
   ]
  },
  {
   "cell_type": "code",
   "execution_count": 3,
   "metadata": {},
   "outputs": [
    {
     "data": {
      "text/html": "<div>\n<style scoped>\n    .dataframe tbody tr th:only-of-type {\n        vertical-align: middle;\n    }\n\n    .dataframe tbody tr th {\n        vertical-align: top;\n    }\n\n    .dataframe thead th {\n        text-align: right;\n    }\n</style>\n<table border=\"1\" class=\"dataframe\">\n  <thead>\n    <tr style=\"text-align: right;\">\n      <th></th>\n      <th>name</th>\n      <th>uri</th>\n    </tr>\n  </thead>\n  <tbody>\n    <tr>\n      <th>0</th>\n      <td>wholesome bangers</td>\n      <td>52Z4shkqqeHL1AzX1NUgzY</td>\n    </tr>\n    <tr>\n      <th>1</th>\n      <td>Throwback Dingers</td>\n      <td>6v3WpQVrQbgfpU2EVxm3eW</td>\n    </tr>\n    <tr>\n      <th>2</th>\n      <td>eminem</td>\n      <td>2Zfrz2ddkRw64NSG3nRsf3</td>\n    </tr>\n    <tr>\n      <th>3</th>\n      <td>not country</td>\n      <td>3EaIcfySntnbcOWrBAnb96</td>\n    </tr>\n    <tr>\n      <th>4</th>\n      <td>country</td>\n      <td>0ZB9jG1uyCbs4rnQ1V5ro6</td>\n    </tr>\n  </tbody>\n</table>\n</div>",
      "text/plain": "                name                     uri\n0  wholesome bangers  52Z4shkqqeHL1AzX1NUgzY\n1  Throwback Dingers  6v3WpQVrQbgfpU2EVxm3eW\n2            eminem   2Zfrz2ddkRw64NSG3nRsf3\n3       not country   3EaIcfySntnbcOWrBAnb96\n4            country  0ZB9jG1uyCbs4rnQ1V5ro6"
     },
     "execution_count": 3,
     "metadata": {},
     "output_type": "execute_result"
    }
   ],
   "source": [
    "wrapper = SpotipyWrapper.WrapperClass()\n",
    "playlistDF = wrapper.getUsersPlaylists('mikeydays')\n",
    "playlistDF\n"
   ]
  },
  {
   "cell_type": "code",
   "execution_count": null,
   "metadata": {},
   "outputs": [],
   "source": []
  }
 ]
}