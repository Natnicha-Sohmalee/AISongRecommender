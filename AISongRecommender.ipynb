{
 "nbformat": 4,
 "nbformat_minor": 2,
 "metadata": {
  "language_info": {
   "name": "python",
   "codemirror_mode": {
    "name": "ipython",
    "version": 3
   },
   "version": "3.6.6-final"
  },
  "orig_nbformat": 2,
  "file_extension": ".py",
  "mimetype": "text/x-python",
  "name": "python",
  "npconvert_exporter": "python",
  "pygments_lexer": "ipython3",
  "version": 3,
  "kernelspec": {
   "name": "csc466",
   "display_name": "CSC466"
  }
 },
 "cells": [
  {
   "cell_type": "code",
   "execution_count": 9,
   "metadata": {},
   "outputs": [],
   "source": [
    "import pandas as pd\n",
    "import numpy as np\n",
    "import spotipy\n",
    "import SpotipyWrapper"
   ]
  },
  {
   "cell_type": "code",
   "execution_count": 10,
   "metadata": {},
   "outputs": [
    {
     "name": "stdout",
     "output_type": "stream",
     "text": "Help on module SpotipyWrapper:\n\nNAME\n    SpotipyWrapper\n\nCLASSES\n    builtins.object\n        WrapperClass\n    \n    class WrapperClass(builtins.object)\n     |  Methods defined here:\n     |  \n     |  __init__(self)\n     |      Initialize self.  See help(type(self)) for accurate signature.\n     |  \n     |  doAuth(self)\n     |      Funtion: Setup and initialization of credentials manager and \n     |      master Spotify object\n     |      \n     |      Returns: Spotify Object\n     |  \n     |  getSongsFromPlaylist(self, uri, username, name='')\n     |      Function: Get list of songs from certain playlist\n     |      \n     |      Returns: Dataframe containing [song name, uri]\n     |  \n     |  getUsersPlaylists(self, username='mikeydays')\n     |      Function: Get a list of users playlist names\n     |      \n     |      Returns: A list of names\n     |  \n     |  ----------------------------------------------------------------------\n     |  Data descriptors defined here:\n     |  \n     |  __dict__\n     |      dictionary for instance variables (if defined)\n     |  \n     |  __weakref__\n     |      list of weak references to the object (if defined)\n\nDATA\n    CLIENT_ID = '57a43e229eb045f7902cfb5a723d0e59'\n    CLIENT_SECRET = 'f301225d3cc3449ba674a36ee64a1cbf'\n    sp = None\n    w = <SpotipyWrapper.WrapperClass object>\n\nFILE\n    /Users/MichaelMoschitto/Desktop/466/AISongRecommender/SpotipyWrapper.py\n\n\n"
    }
   ],
   "source": [
    "help(SpotipyWrapper)"
   ]
  },
  {
   "cell_type": "code",
   "execution_count": 11,
   "metadata": {},
   "outputs": [],
   "source": [
    "wrapper = SpotipyWrapper.WrapperClass()\n",
    "sp = wrapper.doAuth()"
   ]
  },
  {
   "cell_type": "code",
   "execution_count": 12,
   "metadata": {},
   "outputs": [
    {
     "data": {
      "text/html": "<div>\n<style scoped>\n    .dataframe tbody tr th:only-of-type {\n        vertical-align: middle;\n    }\n\n    .dataframe tbody tr th {\n        vertical-align: top;\n    }\n\n    .dataframe thead th {\n        text-align: right;\n    }\n</style>\n<table border=\"1\" class=\"dataframe\">\n  <thead>\n    <tr style=\"text-align: right;\">\n      <th></th>\n      <th>name</th>\n      <th>uri</th>\n    </tr>\n  </thead>\n  <tbody>\n    <tr>\n      <th>0</th>\n      <td>wholesome bangers</td>\n      <td>52Z4shkqqeHL1AzX1NUgzY</td>\n    </tr>\n    <tr>\n      <th>1</th>\n      <td>Throwback Dingers</td>\n      <td>6v3WpQVrQbgfpU2EVxm3eW</td>\n    </tr>\n    <tr>\n      <th>2</th>\n      <td>eminem</td>\n      <td>2Zfrz2ddkRw64NSG3nRsf3</td>\n    </tr>\n    <tr>\n      <th>3</th>\n      <td>not country</td>\n      <td>3EaIcfySntnbcOWrBAnb96</td>\n    </tr>\n    <tr>\n      <th>4</th>\n      <td>country</td>\n      <td>0ZB9jG1uyCbs4rnQ1V5ro6</td>\n    </tr>\n  </tbody>\n</table>\n</div>",
      "text/plain": "                name                     uri\n0  wholesome bangers  52Z4shkqqeHL1AzX1NUgzY\n1  Throwback Dingers  6v3WpQVrQbgfpU2EVxm3eW\n2            eminem   2Zfrz2ddkRw64NSG3nRsf3\n3       not country   3EaIcfySntnbcOWrBAnb96\n4            country  0ZB9jG1uyCbs4rnQ1V5ro6"
     },
     "execution_count": 12,
     "metadata": {},
     "output_type": "execute_result"
    }
   ],
   "source": [
    "\n",
    "playlistDF = wrapper.getUsersPlaylists('mikeydays')\n",
    "playlistDF\n"
   ]
  },
  {
   "cell_type": "code",
   "execution_count": 13,
   "metadata": {},
   "outputs": [
    {
     "data": {
      "text/html": "<div>\n<style scoped>\n    .dataframe tbody tr th:only-of-type {\n        vertical-align: middle;\n    }\n\n    .dataframe tbody tr th {\n        vertical-align: top;\n    }\n\n    .dataframe thead th {\n        text-align: right;\n    }\n</style>\n<table border=\"1\" class=\"dataframe\">\n  <thead>\n    <tr style=\"text-align: right;\">\n      <th></th>\n      <th>name</th>\n      <th>uri</th>\n    </tr>\n  </thead>\n  <tbody>\n    <tr>\n      <th>0</th>\n      <td>2:00 AM</td>\n      <td>4tN3rZ7cChj4Wns2Wt2Nj6</td>\n    </tr>\n    <tr>\n      <th>1</th>\n      <td>2:15</td>\n      <td>4HsOm6VNKZtGh8W8GhdNu4</td>\n    </tr>\n    <tr>\n      <th>2</th>\n      <td>2:54</td>\n      <td>3LsQKoRgMc8VEkQn66jfAQ</td>\n    </tr>\n    <tr>\n      <th>3</th>\n      <td>4:20</td>\n      <td>5KCG0FDMDPzQpxcohGUnyH</td>\n    </tr>\n    <tr>\n      <th>4</th>\n      <td>6:30</td>\n      <td>5abblGojcZoe3zZBhJFBUi</td>\n    </tr>\n    <tr>\n      <th>...</th>\n      <td>...</td>\n      <td>...</td>\n    </tr>\n    <tr>\n      <th>81317</th>\n      <td>黃曉明</td>\n      <td>53F8atvCmVFVOvnKwZXBd3</td>\n    </tr>\n    <tr>\n      <th>81318</th>\n      <td>黃玠瑋</td>\n      <td>6VI0p0xTjBKKxQN8i8vGpD</td>\n    </tr>\n    <tr>\n      <th>81319</th>\n      <td>黃義達</td>\n      <td>7kaq0LysuRSgBZSorlZ7Vj</td>\n    </tr>\n    <tr>\n      <th>81320</th>\n      <td>黃顯忠 (Huang Xianzhong)</td>\n      <td>7MuuEryyseo5cvReO6gdPF</td>\n    </tr>\n    <tr>\n      <th>81321</th>\n      <td>#ERROR!</td>\n      <td>1easDqNuXyccZdonMosEiU</td>\n    </tr>\n  </tbody>\n</table>\n<p>81322 rows × 2 columns</p>\n</div>",
      "text/plain": "                        name                     uri\n0                    2:00 AM  4tN3rZ7cChj4Wns2Wt2Nj6\n1                       2:15  4HsOm6VNKZtGh8W8GhdNu4\n2                       2:54  3LsQKoRgMc8VEkQn66jfAQ\n3                       4:20  5KCG0FDMDPzQpxcohGUnyH\n4                       6:30  5abblGojcZoe3zZBhJFBUi\n...                      ...                     ...\n81317                    黃曉明  53F8atvCmVFVOvnKwZXBd3\n81318                    黃玠瑋  6VI0p0xTjBKKxQN8i8vGpD\n81319                    黃義達  7kaq0LysuRSgBZSorlZ7Vj\n81320  黃顯忠 (Huang Xianzhong)  7MuuEryyseo5cvReO6gdPF\n81321                #ERROR!  1easDqNuXyccZdonMosEiU\n\n[81322 rows x 2 columns]"
     },
     "execution_count": 13,
     "metadata": {},
     "output_type": "execute_result"
    }
   ],
   "source": [
    "artistsDF = pd.read_csv('artist-uris.csv')\n",
    "artistsDF.columns=['name', 'uri']\n",
    "artistsDF['uri'] = artistsDF['uri'].apply(lambda uri: uri.split(':')[2])\n",
    "\n",
    "artistsDF"
   ]
  },
  {
   "cell_type": "code",
   "execution_count": 14,
   "metadata": {},
   "outputs": [
    {
     "data": {
      "text/html": "<div>\n<style scoped>\n    .dataframe tbody tr th:only-of-type {\n        vertical-align: middle;\n    }\n\n    .dataframe tbody tr th {\n        vertical-align: top;\n    }\n\n    .dataframe thead th {\n        text-align: right;\n    }\n</style>\n<table border=\"1\" class=\"dataframe\">\n  <thead>\n    <tr style=\"text-align: right;\">\n      <th></th>\n      <th>name</th>\n      <th>uri</th>\n    </tr>\n  </thead>\n  <tbody>\n    <tr>\n      <th>0</th>\n      <td>I Love This Life</td>\n      <td>5d0iu7Mc64GwJIMBGjDt2U</td>\n    </tr>\n    <tr>\n      <th>1</th>\n      <td>Sunday Morning</td>\n      <td>0BzIw053LdsgAu8Sb1baIn</td>\n    </tr>\n    <tr>\n      <th>2</th>\n      <td>Sun Daze</td>\n      <td>0El2Zyt68nYySFDG87hZgM</td>\n    </tr>\n    <tr>\n      <th>3</th>\n      <td>Courtesy Of The Red, White And Blue (The Angry...</td>\n      <td>0M7mWKqwTIaVjYyxfZmtTa</td>\n    </tr>\n    <tr>\n      <th>4</th>\n      <td>Loving You Easy</td>\n      <td>4ieqNz8S9pvnA0inetRkE3</td>\n    </tr>\n    <tr>\n      <th>...</th>\n      <td>...</td>\n      <td>...</td>\n    </tr>\n    <tr>\n      <th>379</th>\n      <td>Joe Bought a Bar</td>\n      <td>7vCgVAQ0VFf8EqDCfgJK1Y</td>\n    </tr>\n    <tr>\n      <th>380</th>\n      <td>Is Anybody Loving You These Days</td>\n      <td>69u3mt4KCFagJZFmJ3Ged6</td>\n    </tr>\n    <tr>\n      <th>381</th>\n      <td>Country Folks - Livin' Loud</td>\n      <td>1P7fYBkHMxj3rQI8rUzIZo</td>\n    </tr>\n    <tr>\n      <th>382</th>\n      <td>Wine, Beer, Whiskey</td>\n      <td>5avVDmK9FVJpd3MDO8I3Zl</td>\n    </tr>\n    <tr>\n      <th>383</th>\n      <td>Home Run</td>\n      <td>3WcQxf3f924vU8Ae6GNJ16</td>\n    </tr>\n  </tbody>\n</table>\n<p>384 rows × 2 columns</p>\n</div>",
      "text/plain": "                                                  name                     uri\n0                                     I Love This Life  5d0iu7Mc64GwJIMBGjDt2U\n1                                       Sunday Morning  0BzIw053LdsgAu8Sb1baIn\n2                                             Sun Daze  0El2Zyt68nYySFDG87hZgM\n3    Courtesy Of The Red, White And Blue (The Angry...  0M7mWKqwTIaVjYyxfZmtTa\n4                                      Loving You Easy  4ieqNz8S9pvnA0inetRkE3\n..                                                 ...                     ...\n379                                   Joe Bought a Bar  7vCgVAQ0VFf8EqDCfgJK1Y\n380                   Is Anybody Loving You These Days  69u3mt4KCFagJZFmJ3Ged6\n381                        Country Folks - Livin' Loud  1P7fYBkHMxj3rQI8rUzIZo\n382                                Wine, Beer, Whiskey  5avVDmK9FVJpd3MDO8I3Zl\n383                                           Home Run  3WcQxf3f924vU8Ae6GNJ16\n\n[384 rows x 2 columns]"
     },
     "execution_count": 14,
     "metadata": {},
     "output_type": "execute_result"
    }
   ],
   "source": [
    "uri = playlistDF[playlistDF['name'] == 'country']['uri'].values[0]\n",
    "\n",
    "songsDF = wrapper.getSongsFromPlaylist(uri, 'mikeydays')\n",
    "songsDF"
   ]
  },
  {
   "cell_type": "code",
   "execution_count": 15,
   "metadata": {},
   "outputs": [
    {
     "data": {
      "text/plain": "ion_ms': 203064,\n   'explicit': False,\n   'external_ids': {'isrc': 'GBAHT2000942'},\n   'external_urls': {'spotify': 'https://open.spotify.com/track/5nujrmhLynf4yMoMtj8AQF'},\n   'href': 'https://api.spotify.com/v1/tracks/5nujrmhLynf4yMoMtj8AQF',\n   'id': '5nujrmhLynf4yMoMtj8AQF',\n   'is_local': False,\n   'is_playable': True,\n   'name': 'Levitating (feat. DaBaby)',\n   'popularity': 89,\n   'preview_url': 'https://p.scdn.co/mp3-preview/cc617f669fd1e3ee33a4ac0c66346fefd15286e7?cid=57a43e229eb045f7902cfb5a723d0e59',\n   'track_number': 12,\n   'type': 'track',\n   'uri': 'spotify:track:5nujrmhLynf4yMoMtj8AQF'},\n  {'album': {'album_type': 'album',\n    'artists': [{'external_urls': {'spotify': 'https://open.spotify.com/artist/4r63FhuTkUYltbVAg5TQnk'},\n      'href': 'https://api.spotify.com/v1/artists/4r63FhuTkUYltbVAg5TQnk',\n      'id': '4r63FhuTkUYltbVAg5TQnk',\n      'name': 'DaBaby',\n      'type': 'artist',\n      'uri': 'spotify:artist:4r63FhuTkUYltbVAg5TQnk'}],\n    'external_urls': {'spotify': 'https://open.spotify.com/album/623PL2MBg50Br5dLXC9E9e'},\n    'href': 'https://api.spotify.com/v1/albums/623PL2MBg50Br5dLXC9E9e',\n    'id': '623PL2MBg50Br5dLXC9E9e',\n    'images': [{'height': 640,\n      'url': 'https://i.scdn.co/image/ab67616d0000b27320e08c8cc23f404d723b5647',\n      'width': 640},\n     {'height': 300,\n      'url': 'https://i.scdn.co/image/ab67616d00001e0220e08c8cc23f404d723b5647',\n      'width': 300},\n     {'height': 64,\n      'url': 'https://i.scdn.co/image/ab67616d0000485120e08c8cc23f404d723b5647',\n      'width': 64}],\n    'name': 'BLAME IT ON BABY',\n    'release_date': '2020-04-17',\n    'release_date_precision': 'day',\n    'total_tracks': 13,\n    'type': 'album',\n    'uri': 'spotify:album:623PL2MBg50Br5dLXC9E9e'},\n   'artists': [{'external_urls': {'spotify': 'https://open.spotify.com/artist/4r63FhuTkUYltbVAg5TQnk'},\n     'href': 'https://api.spotify.com/v1/artists/4r63FhuTkUYltbVAg5TQnk',\n     'id': '4r63FhuTkUYltbVAg5TQnk',\n     'name': 'DaBaby',\n     'type': 'artist',\n     'uri': 'spotify:artist:4r63FhuTkUYltbVAg5TQnk'},\n    {'external_urls': {'spotify': 'https://open.spotify.com/artist/757aE44tKEUQEqRuT6GnEB'},\n     'href': 'https://api.spotify.com/v1/artists/757aE44tKEUQEqRuT6GnEB',\n     'id': '757aE44tKEUQEqRuT6GnEB',\n     'name': 'Roddy Ricch',\n     'type': 'artist',\n     'uri': 'spotify:artist:757aE44tKEUQEqRuT6GnEB'}],\n   'disc_number': 1,\n   'duration_ms': 181733,\n   'explicit': True,\n   'external_ids': {'isrc': 'USUM72007941'},\n   'external_urls': {'spotify': 'https://open.spotify.com/track/7ytR5pFWmSjzHJIeQkgog4'},\n   'href': 'https://api.spotify.com/v1/tracks/7ytR5pFWmSjzHJIeQkgog4',\n   'id': '7ytR5pFWmSjzHJIeQkgog4',\n   'is_local': False,\n   'is_playable': True,\n   'name': 'ROCKSTAR (feat. Roddy Ricch)',\n   'popularity': 89,\n   'preview_url': None,\n   'track_number': 7,\n   'type': 'track',\n   'uri': 'spotify:track:7ytR5pFWmSjzHJIeQkgog4'},\n  {'album': {'album_type': 'album',\n    'artists': [{'external_urls': {'spotify': 'https://open.spotify.com/artist/4r63FhuTkUYltbVAg5TQnk'},\n      'href': 'https://api.spotify.com/v1/artists/4r63FhuTkUYltbVAg5TQnk',\n      'id': '4r63FhuTkUYltbVAg5TQnk',\n      'name': 'DaBaby',\n      'type': 'artist',\n      'uri': 'spotify:artist:4r63FhuTkUYltbVAg5TQnk'}],\n    'external_urls': {'spotify': 'https://open.spotify.com/album/1NsTSXjVNE7XmZ8PmyW0wl'},\n    'href': 'https://api.spotify.com/v1/albums/1NsTSXjVNE7XmZ8PmyW0wl',\n    'id': '1NsTSXjVNE7XmZ8PmyW0wl',\n    'images': [{'height': 640,\n      'url': 'https://i.scdn.co/image/ab67616d0000b273f2b94b2fda4f08836d6371ba',\n      'width': 640},\n     {'height': 300,\n      'url': 'https://i.scdn.co/image/ab67616d00001e02f2b94b2fda4f08836d6371ba',\n      'width': 300},\n     {'height': 64,\n      'url': 'https://i.scdn.co/image/ab67616d00004851f2b94b2fda4f08836d6371ba',\n      'width': 64}],\n    'name': 'KIRK',\n    'release_date': '2019-09-27',\n    'release_date_precision': 'day',\n    'total_tracks': 13,\n    'type': 'album',\n    'uri': 'spotify:album:1NsTSXjVNE7XmZ8PmyW0wl'},\n   'artists': [{'external_urls': {'spotify': 'https://open.spotify.com/artist/4r63FhuTkUYltbVAg5TQnk'},\n     'href': 'https://api.spotify.com/v1/artists/4r63FhuTkUYltbVAg5TQnk',\n     'id': '4r63FhuTkUYltbVAg5TQnk',\n     'name': 'DaBaby',\n     'type': 'artist',\n     'uri': 'spotify:artist:4r63FhuTkUYltbVAg5TQnk'}],\n   'disc_number': 1,\n   'duration_ms': 159714,\n   'explicit': True,\n   'external_ids': {'isrc': 'USUM71918972'},\n   'external_urls': {'spotify': 'https://open.spotify.com/track/6Ozh9Ok6h4Oi1wUSLtBseN'},\n   'href': 'https://api.spotify.com/v1/tracks/6Ozh9Ok6h4Oi1wUSLtBseN',\n   'id': '6Ozh9Ok6h4Oi1wUSLtBseN',\n   'is_local': False,\n   'is_playable': True,\n   'name': 'BOP',\n   'popularity': 83,\n   'preview_url': None,\n   'track_number': 3,\n   'type': 'track',\n   'uri': 'spotify:track:6Ozh9Ok6h4Oi1wUSLtBseN'},\n  {'album': {'album_type': 'single',\n    'artists': [{'external_urls': {'spotify': 'https://open.spotify.com/artist/3Y2MLcrD3ZQXRXmtn4fZQx'},\n      'href': 'https://api.spotify.com/v1/artists/3Y2MLcrD3ZQXRXmtn4fZQx',\n      'id': '3Y2MLcrD3ZQXRXmtn4fZQx',\n      'name': 'SpotemGottem',\n      'type': 'artist',\n      'uri': 'spotify:artist:3Y2MLcrD3ZQXRXmtn4fZQx'}],\n    'external_urls': {'spotify': 'https://open.spotify.com/album/6QqwWNpKYbROin3Gq5pIrV'},\n    'href': 'https://api.spotify.com/v1/albums/6QqwWNpKYbROin3Gq5pIrV',\n    'id': '6QqwWNpKYbROin3Gq5pIrV',\n    'images': [{'height': 640,\n      'url': 'https://i.scdn.co/image/ab67616d0000b273637d8f4420da84bb0b50e757',\n      'width': 640},\n     {'height': 300,\n      'url': 'https://i.scdn.co/image/ab67616d00001e02637d8f4420da84bb0b50e757',\n      'width': 300},\n     {'height': 64,\n      'url': 'https://i.scdn.co/image/ab67616d00004851637d8f4420da84bb0b50e757',\n      'width': 64}],\n    'name': 'Beat Box 3 (feat. DaBaby)',\n    'release_date': '2021-02-26',\n    'release_date_precision': 'day',\n    'total_tracks': 1,\n    'type': 'album',\n    'uri': 'spotify:album:6QqwWNpKYbROin3Gq5pIrV'},\n   'artists': [{'external_urls': {'spotify': 'https://open.spotify.com/artist/3Y2MLcrD3ZQXRXmtn4fZQx'},\n     'href': 'https://api.spotify.com/v1/artists/3Y2MLcrD3ZQXRXmtn4fZQx',\n     'id': '3Y2MLcrD3ZQXRXmtn4fZQx',\n     'name': 'SpotemGottem',\n     'type': 'artist',\n     'uri': 'spotify:artist:3Y2MLcrD3ZQXRXmtn4fZQx'},\n    {'external_urls': {'spotify': 'https://open.spotify.com/artist/4r63FhuTkUYltbVAg5TQnk'},\n     'href': 'https://api.spotify.com/v1/artists/4r63FhuTkUYltbVAg5TQnk',\n     'id': '4r63FhuTkUYltbVAg5TQnk',\n     'name': 'DaBaby',\n     'type': 'artist',\n     'uri': 'spotify:artist:4r63FhuTkUYltbVAg5TQnk'}],\n   'disc_number': 1,\n   'duration_ms': 200424,\n   'explicit': True,\n   'external_ids': {'isrc': 'USUM72102809'},\n   'external_urls': {'spotify': 'https://open.spotify.com/track/6toQdWWc4noiOk3Eo5mVDS'},\n   'href': 'https://api.spotify.com/v1/tracks/6toQdWWc4noiOk3Eo5mVDS',\n   'id': '6toQdWWc4noiOk3Eo5mVDS',\n   'is_local': False,\n   'is_playable': True,\n   'name': 'Beat Box 3 (feat. DaBaby)',\n   'popularity': 82,\n   'preview_url': None,\n   'track_number': 1,\n   'type': 'track',\n   'uri': 'spotify:track:6toQdWWc4noiOk3Eo5mVDS'},\n  {'album': {'album_type': 'single',\n    'artists': [{'external_urls': {'spotify': 'https://open.spotify.com/artist/4r63FhuTkUYltbVAg5TQnk'},\n      'href': 'https://api.spotify.com/v1/artists/4r63FhuTkUYltbVAg5TQnk',\n      'id': '4r63FhuTkUYltbVAg5TQnk',\n      'name': 'DaBaby',\n      'type': 'artist',\n      'uri': 'spotify:artist:4r63FhuTkUYltbVAg5TQnk'}],\n    'external_urls': {'spotify': 'https://open.spotify.com/album/6kaYDcX9dNmJE5OU71IUby'},\n    'href': 'https://api.spotify.com/v1/albums/6kaYDcX9dNmJE5OU71IUby',\n    'id': '6kaYDcX9dNmJE5OU71IUby',\n    'images': [{'height': 640,\n      'url': 'https://i.scdn.co/image/ab67616d0000b2737b41da110df7023757e8f8fa',\n      'width': 640},\n     {'height': 300,\n      'url': 'https://i.scdn.co/image/ab67616d00001e027b41da110df7023757e8f8fa',\n      'width': 300},\n     {'height': 64,\n      'url': 'https://i.scdn.co/image/ab67616d000048517b41da110df7023757e8f8fa',\n      'width': 64}],\n    'name': 'Masterpiece',\n    'release_date': '2021-01-15',\n    'release_date_precision': 'day',\n    'total_tracks': 1,\n    'type': 'album',\n    'uri': 'spotify:album:6kaYDcX9dNmJE5OU71IUby'},\n   'artists': [{'external_urls': {'spotify': 'https://open.spotify.com/artist/4r63FhuTkUYltbVAg5TQnk'},\n     'href': 'https://api.spotify.com/v1/artists/4r63FhuTkUYltbVAg5TQnk',\n     'id': '4r63FhuTkUYltbVAg5TQnk',\n     'name': 'DaBaby',\n     'type': 'artist',\n     'uri': 'spotify:artist:4r63FhuTkUYltbVAg5TQnk'}],\n   'disc_number': 1,\n   'duration_ms': 181714,\n   'explicit': True,\n   'external_ids': {'isrc': 'USUM72100156'},\n   'external_urls': {'spotify': 'https://open.spotify.com/track/26UxwWl9xCb83OynXELJcL'},\n   'href': 'https://api.spotify.com/v1/tracks/26UxwWl9xCb83OynXELJcL',\n   'id': '26UxwWl9xCb83OynXELJcL',\n   'is_local': False,\n   'is_playable': True,\n   'name': 'Masterpiece',\n   'popularity': 79,\n   'preview_url': None,\n   'track_number': 1,\n   'type': 'track',\n   'uri': 'spotify:track:26UxwWl9xCb83OynXELJcL'},\n  {'album': {'album_type': 'album',\n    'artists': [{'external_urls': {'spotify': 'https://open.spotify.com/artist/4r63FhuTkUYltbVAg5TQnk'},\n      'href': 'https://api.spotify.com/v1/artists/4r63FhuTkUYltbVAg5TQnk',\n      'id': '4r63FhuTkUYltbVAg5TQnk',\n      'name': 'DaBaby',\n      'type': 'artist',\n      'uri': 'spotify:artist:4r63FhuTkUYltbVAg5TQnk'}],\n    'external_urls': {'spotify': 'https://open.spotify.com/album/0O1PJ0t69iTO5yWrIeIga0'},\n    'href': 'https://api.spotify.com/v1/albums/0O1PJ0t69iTO5yWrIeIga0',\n    'id': '0O1PJ0t69iTO5yWrIeIga0',\n    'images': [{'height': 640,\n      'url': 'https://i.scdn.co/image/ab67616d0000b27374d72ebd51dd5781d5f83ffd',\n      'width': 640},\n     {'height': 300,\n      'url': 'https://i.scdn.co/image/ab67616d00001e0274d72ebd51dd5781d5f83ffd',\n      'width': 300},\n     {'height': 64,\n      'url': 'https://i.scdn.co/image/ab67616d0000485174d72ebd51dd5781d5f83ffd',\n      'width': 64}],\n    'name': 'Baby On Baby',\n    'release_date': '2019-03-01',\n    'release_date_precision': 'day',\n    'total_tracks': 13,\n    'type': 'album',\n    'uri': 'spotify:album:0O1PJ0t69iTO5yWrIeIga0'},\n   'artists': [{'external_urls': {'spotify': 'https://open.spotify.com/artist/4r63FhuTkUYltbVAg5TQnk'},\n     'href': 'https://api.spotify.com/v1/artists/4r63FhuTkUYltbVAg5TQnk',\n     'id': '4r63FhuTkUYltbVAg5TQnk',\n     'name': 'DaBaby',\n     'type': 'artist',\n     'uri': 'spotify:artist:4r63FhuTkUYltbVAg5TQnk'}],\n   'disc_number': 1,\n   'duration_ms': 163320,\n   'explicit': True,\n   'external_ids': {'isrc': 'USUM71902966'},\n   'external_urls': {'spotify': 'https://open.spotify.com/track/2gwkD6igEhQbDQegRCcdoB'},\n   'href': 'https://api.spotify.com/v1/tracks/2gwkD6igEhQbDQegRCcdoB',\n   'id': '2gwkD6igEhQbDQegRCcdoB',\n   'is_local': False,\n   'is_playable': True,\n   'name': 'Suge',\n   'popularity': 79,\n   'preview_url': None,\n   'track_number': 2,\n   'type': 'track',\n   'uri': 'spotify:track:2gwkD6igEhQbDQegRCcdoB'},\n  {'album': {'album_type': 'album',\n    'artists': [{'external_urls': {'spotify': 'https://open.spotify.com/artist/4r63FhuTkUYltbVAg5TQnk'},\n      'href': 'https://api.spotify.com/v1/artists/4r63FhuTkUYltbVAg5TQnk',\n      'id': '4r63FhuTkUYltbVAg5TQnk',\n      'name': 'DaBaby',\n      'type': 'artist',\n      'uri': 'spotify:artist:4r63FhuTkUYltbVAg5TQnk'}],\n    'external_urls': {'spotify': 'https://open.spotify.com/album/1NsTSXjVNE7XmZ8PmyW0wl'},\n    'href': 'https://api.spotify.com/v1/albums/1NsTSXjVNE7XmZ8PmyW0wl',\n    'id': '1NsTSXjVNE7XmZ8PmyW0wl',\n    'images': [{'height': 640,\n      'url': 'https://i.scdn.co/image/ab67616d0000b273f2b94b2fda4f08836d6371ba',\n      'width': 640},\n     {'height': 300,\n      'url': 'https://i.scdn.co/image/ab67616d00001e02f2b94b2fda4f08836d6371ba',\n      'width': 300},\n     {'height': 64,\n      'url': 'https://i.scdn.co/image/ab67616d00004851f2b94b2fda4f08836d6371ba',\n      'width': 64}],\n    'name': 'KIRK',\n    'release_date': '2019-09-27',\n    'release_date_precision': 'day',\n    'total_tracks': 13,\n    'type': 'album',\n    'uri': 'spotify:album:1NsTSXjVNE7XmZ8PmyW0wl'},\n   'artists': [{'external_urls': {'spotify': 'https://open.spotify.com/artist/4r63FhuTkUYltbVAg5TQnk'},\n     'href': 'https://api.spotify.com/v1/artists/4r63FhuTkUYltbVAg5TQnk',\n     'id': '4r63FhuTkUYltbVAg5TQnk',\n     'name': 'DaBaby',\n     'type': 'artist',\n     'uri': 'spotify:artist:4r63FhuTkUYltbVAg5TQnk'}],\n   'disc_number': 1,\n   'duration_ms': 144935,\n   'explicit': True,\n   'external_ids': {'isrc': 'USUM71919281'},\n   'external_urls': {'spotify': 'https://open.spotify.com/track/0fySG6A6qLE8IvDpayb5bM'},\n   'href': 'https://api.spotify.com/v1/tracks/0fySG6A6qLE8IvDpayb5bM',\n   'id': '0fySG6A6qLE8IvDpayb5bM',\n   'is_local': False,\n   'is_playable': True,\n   'name': 'VIBEZ',\n   'popularity': 78,\n   'preview_url': None,\n   'track_number': 4,\n   'type': 'track',\n   'uri': 'spotify:track:0fySG6A6qLE8IvDpayb5bM'},\n  {'album': {'album_type': 'album',\n    'artists': [{'external_urls': {'spotify': 'https://open.spotify.com/artist/4r63FhuTkUYltbVAg5TQnk'},\n      'href': 'https://api.spotify.com/v1/artists/4r63FhuTkUYltbVAg5TQnk',\n      'id': '4r63FhuTkUYltbVAg5TQnk',\n      'name': 'DaBaby',\n      'type': 'artist',\n      'uri': 'spotify:artist:4r63FhuTkUYltbVAg5TQnk'}],\n    'external_urls': {'spotify': 'https://open.spotify.com/album/6SL49HqoUwu2hhfukBAK3Q'},\n    'href': 'https://api.spotify.com/v1/albums/6SL49HqoUwu2hhfukBAK3Q',\n    'id': '6SL49HqoUwu2hhfukBAK3Q',\n    'images': [{'height': 640,\n      'url': 'https://i.scdn.co/image/ab67616d0000b273e818d05b79be19f4d49f1ebf',\n      'width': 640},\n     {'height': 300,\n      'url': 'https://i.scdn.co/image/ab67616d00001e02e818d05b79be19f4d49f1ebf',\n      'width': 300},\n     {'height': 64,\n      'url': 'https://i.scdn.co/image/ab67616d00004851e818d05b79be19f4d49f1ebf',\n      'width': 64}],\n    'name': 'BLAME IT ON BABY (DELUXE)',\n    'release_date': '2020-08-04',\n    'release_date_precision': 'day',\n    'total_tracks': 24,\n    'type': 'album',\n    'uri': 'spotify:album:6SL49HqoUwu2hhfukBAK3Q'},\n   'artists': [{'external_urls': {'spotify': 'https://open.spotify.com/artist/4r63FhuTkUYltbVAg5TQnk'},\n     'href': 'https://api.spotify.com/v1/artists/4r63FhuTkUYltbVAg5TQnk',\n     'id': '4r63FhuTkUYltbVAg5TQnk',\n     'name': 'DaBaby',\n     'type': 'artist',\n     'uri': 'spotify:artist:4r63FhuTkUYltbVAg5TQnk'}],\n   'disc_number': 1,\n   'duration_ms': 122586,\n   'explicit': True,\n   'external_ids': {'isrc': 'USUM72015072'},\n   'external_urls': {'spotify': 'https://open.spotify.com/track/4Z5FyQlevoHoa5FsIVKZju'},\n   'href': 'https://api.spotify.com/v1/tracks/4Z5FyQlevoHoa5FsIVKZju',\n   'id': '4Z5FyQlevoHoa5FsIVKZju',\n   'is_local': False,\n   'is_playable': True,\n   'name': 'PRACTICE',\n   'popularity': 77,\n   'preview_url': None,\n   'track_number': 2,\n   'type': 'track',\n   'uri': 'spotify:track:4Z5FyQlevoHoa5FsIVKZju'},\n  {'album': {'album_type': 'album',\n    'artists': [{'external_urls': {'spotify': 'https://open.spotify.com/artist/6fWVd57NKTalqvmjRd2t8Z'},\n      'href': 'https://api.spotify.com/v1/artists/6fWVd57NKTalqvmjRd2t8Z',\n      'id': '6fWVd57NKTalqvmjRd2t8Z',\n      'name': '24kGoldn',\n      'type': 'artist',\n      'uri': 'spotify:artist:6fWVd57NKTalqvmjRd2t8Z'}],\n    'external_urls': {'spotify': 'https://open.spotify.com/album/270o30h7cAlEhBnbuSpFZq'},\n    'href': 'https://api.spotify.com/v1/albums/270o30h7cAlEhBnbuSpFZq',\n    'id': '270o30h7cAlEhBnbuSpFZq',\n    'images': [{'height': 640,\n      'url': 'https://i.scdn.co/image/ab67616d0000b27384c53fa832dfa265192419c5',\n      'width': 640},\n     {'height': 300,\n      'url': 'https://i.scdn.co/image/ab67616d00001e0284c53fa832dfa265192419c5',\n      'width': 300},\n     {'height': 64,\n      'url': 'https://i.scdn.co/image/ab67616d0000485184c53fa832dfa265192419c5',\n      'width': 64}],\n    'name': 'El Dorado',\n    'release_date': '2021-03-26',\n    'release_date_precision': 'day',\n    'total_tracks': 13,\n    'type': 'album',\n    'uri': 'spotify:album:270o30h7cAlEhBnbuSpFZq'},\n   'artists': [{'external_urls': {'spotify': 'https://open.spotify.com/artist/6fWVd57NKTalqvmjRd2t8Z'},\n     'href': 'https://api.spotify.com/v1/artists/6fWVd57NKTalqvmjRd2t8Z',\n     'id': '6fWVd57NKTalqvmjRd2t8Z',\n     'name': '24kGoldn',\n     'type': 'artist',\n     'uri': 'spotify:artist:6fWVd57NKTalqvmjRd2t8Z'},\n    {'external_urls': {'spotify': 'https://open.spotify.com/artist/4r63FhuTkUYltbVAg5TQnk'},\n     'href': 'https://api.spotify.com/v1/artists/4r63FhuTkUYltbVAg5TQnk',\n     'id': '4r63FhuTkUYltbVAg5TQnk',\n     'name': 'DaBaby',\n     'type': 'artist',\n     'uri': 'spotify:artist:4r63FhuTkUYltbVAg5TQnk'}],\n   'disc_number': 1,\n   'duration_ms': 142000,\n   'explicit': True,\n   'external_ids': {'isrc': 'USQX92004163'},\n   'external_urls': {'spotify': 'https://open.spotify.com/track/6MGRweoLPBAaPcXTMpMWsA'},\n   'href': 'https://api.spotify.com/v1/tracks/6MGRweoLPBAaPcXTMpMWsA',\n   'id': '6MGRweoLPBAaPcXTMpMWsA',\n   'is_local': False,\n   'is_playable': True,\n   'name': 'Coco (feat. DaBaby)',\n   'popularity': 76,\n   'preview_url': 'https://p.scdn.co/mp3-preview/c47ca2e92db60ace13452856889f07a9d2713d2c?cid=57a43e229eb045f7902cfb5a723d0e59',\n   'track_number': 5,\n   'type': 'track',\n   'uri': 'spotify:track:6MGRweoLPBAaPcXTMpMWsA'},\n  {'album': {'album_type': 'album',\n    'artists': [{'external_urls': {'spotify': 'https://open.spotify.com/artist/4r63FhuTkUYltbVAg5TQnk'},\n      'href': 'https://api.spotify.com/v1/artists/4r63FhuTkUYltbVAg5TQnk',\n      'id': '4r63FhuTkUYltbVAg5TQnk',\n      'name': 'DaBaby',\n      'type': 'artist',\n      'uri': 'spotify:artist:4r63FhuTkUYltbVAg5TQnk'}],\n    'external_urls': {'spotify': 'https://open.spotify.com/album/1NsTSXjVNE7XmZ8PmyW0wl'},\n    'href': 'https://api.spotify.com/v1/albums/1NsTSXjVNE7XmZ8PmyW0wl',\n    'id': '1NsTSXjVNE7XmZ8PmyW0wl',\n    'images': [{'height': 640,\n      'url': 'https://i.scdn.co/image/ab67616d0000b273f2b94b2fda4f08836d6371ba',\n      'width': 640},\n     {'height': 300,\n      'url': 'https://i.scdn.co/image/ab67616d00001e02f2b94b2fda4f08836d6371ba',\n      'width': 300},\n     {'height': 64,\n      'url': 'https://i.scdn.co/image/ab67616d00004851f2b94b2fda4f08836d6371ba',\n      'width': 64}],\n    'name': 'KIRK',\n    'release_date': '2019-09-27',\n    'release_date_precision': 'day',\n    'total_tracks': 13,\n    'type': 'album',\n    'uri': 'spotify:album:1NsTSXjVNE7XmZ8PmyW0wl'},\n   'artists': [{'external_urls': {'spotify': 'https://open.spotify.com/artist/4r63FhuTkUYltbVAg5TQnk'},\n     'href': 'https://api.spotify.com/v1/artists/4r63FhuTkUYltbVAg5TQnk',\n     'id': '4r63FhuTkUYltbVAg5TQnk',\n     'name': 'DaBaby',\n     'type': 'artist',\n     'uri': 'spotify:artist:4r63FhuTkUYltbVAg5TQnk'},\n    {'external_urls': {'spotify': 'https://open.spotify.com/artist/5f7VJjfbwm532GiveGC0ZK'},\n     'href': 'https://api.spotify.com/v1/artists/5f7VJjfbwm532GiveGC0ZK',\n     'id': '5f7VJjfbwm532GiveGC0ZK',\n     'name': 'Lil Baby',\n     'type': 'artist',\n     'uri': 'spotify:artist:5f7VJjfbwm532GiveGC0ZK'},\n    {'external_urls': {'spotify': 'https://open.spotify.com/artist/3tJoFztHeIJkJWMrx0td2f'},\n     'href': 'https://api.spotify.com/v1/artists/3tJoFztHeIJkJWMrx0td2f',\n     'id': '3tJoFztHeIJkJWMrx0td2f',\n     'name': 'Moneybagg Yo',\n     'type': 'artist',\n     'uri': 'spotify:artist:3tJoFztHeIJkJWMrx0td2f'}],\n   'disc_number': 1,\n   'duration_ms': 136366,\n   'explicit': True,\n   'external_ids': {'isrc': 'USUM71919280'},\n   'external_urls': {'spotify': 'https://open.spotify.com/track/2FvD20Z8aoWIePi7PoN8sG'},\n   'href': 'https://api.spotify.com/v1/tracks/2FvD20Z8aoWIePi7PoN8sG',\n   'id': '2FvD20Z8aoWIePi7PoN8sG',\n   'is_local': False,\n   'is_playable': True,\n   'name': 'TOES (feat. Lil Baby & Moneybagg Yo)',\n   'popularity': 75,\n   'preview_url': None,\n   'track_number': 8,\n   'type': 'track',\n   'uri': 'spotify:track:2FvD20Z8aoWIePi7PoN8sG'}]}"
     },
     "execution_count": 15,
     "metadata": {},
     "output_type": "execute_result"
    }
   ],
   "source": [
    "id = artistsDF.loc[artistsDF['name'] == 'DaBaby']['uri'].values[0]\n",
    "\n",
    "sp.artist_top_tracks(id)"
   ]
  },
  {
   "cell_type": "code",
   "execution_count": 41,
   "metadata": {},
   "outputs": [
    {
     "data": {
      "text/html": "<div>\n<style scoped>\n    .dataframe tbody tr th:only-of-type {\n        vertical-align: middle;\n    }\n\n    .dataframe tbody tr th {\n        vertical-align: top;\n    }\n\n    .dataframe thead th {\n        text-align: right;\n    }\n</style>\n<table border=\"1\" class=\"dataframe\">\n  <thead>\n    <tr style=\"text-align: right;\">\n      <th></th>\n      <th>name</th>\n      <th>acousticness</th>\n      <th>danceability</th>\n      <th>energy</th>\n      <th>instrumentalness</th>\n      <th>liveness</th>\n      <th>loudness</th>\n      <th>speechiness</th>\n      <th>tempo</th>\n      <th>valence</th>\n      <th>timeSignature</th>\n    </tr>\n  </thead>\n  <tbody>\n    <tr>\n      <th>0</th>\n      <td>I Love This Life</td>\n      <td>0.01640</td>\n      <td>0.586</td>\n      <td>0.927</td>\n      <td>0.000007</td>\n      <td>0.1530</td>\n      <td>-3.014</td>\n      <td>0.0547</td>\n      <td>111.977</td>\n      <td>0.549</td>\n      <td>4</td>\n    </tr>\n    <tr>\n      <th>1</th>\n      <td>Sunday Morning</td>\n      <td>0.00733</td>\n      <td>0.584</td>\n      <td>0.716</td>\n      <td>0.000000</td>\n      <td>0.0879</td>\n      <td>-4.737</td>\n      <td>0.0342</td>\n      <td>90.005</td>\n      <td>0.525</td>\n      <td>4</td>\n    </tr>\n    <tr>\n      <th>2</th>\n      <td>Sun Daze</td>\n      <td>0.09810</td>\n      <td>0.476</td>\n      <td>0.952</td>\n      <td>0.000003</td>\n      <td>0.4380</td>\n      <td>-3.783</td>\n      <td>0.0410</td>\n      <td>170.062</td>\n      <td>0.849</td>\n      <td>4</td>\n    </tr>\n    <tr>\n      <th>3</th>\n      <td>Courtesy Of The Red, White And Blue (The Angry...</td>\n      <td>0.52100</td>\n      <td>0.424</td>\n      <td>0.661</td>\n      <td>0.000002</td>\n      <td>0.0719</td>\n      <td>-5.547</td>\n      <td>0.0425</td>\n      <td>111.762</td>\n      <td>0.384</td>\n      <td>4</td>\n    </tr>\n    <tr>\n      <th>4</th>\n      <td>Loving You Easy</td>\n      <td>0.01250</td>\n      <td>0.717</td>\n      <td>0.591</td>\n      <td>0.000000</td>\n      <td>0.0691</td>\n      <td>-3.939</td>\n      <td>0.0267</td>\n      <td>99.003</td>\n      <td>0.388</td>\n      <td>4</td>\n    </tr>\n    <tr>\n      <th>...</th>\n      <td>...</td>\n      <td>...</td>\n      <td>...</td>\n      <td>...</td>\n      <td>...</td>\n      <td>...</td>\n      <td>...</td>\n      <td>...</td>\n      <td>...</td>\n      <td>...</td>\n      <td>...</td>\n    </tr>\n    <tr>\n      <th>379</th>\n      <td>Joe Bought a Bar</td>\n      <td>0.14600</td>\n      <td>0.516</td>\n      <td>0.914</td>\n      <td>0.000000</td>\n      <td>0.2130</td>\n      <td>-4.510</td>\n      <td>0.1090</td>\n      <td>146.101</td>\n      <td>0.485</td>\n      <td>4</td>\n    </tr>\n    <tr>\n      <th>380</th>\n      <td>Is Anybody Loving You These Days</td>\n      <td>0.06610</td>\n      <td>0.699</td>\n      <td>0.573</td>\n      <td>0.000005</td>\n      <td>0.2290</td>\n      <td>-8.773</td>\n      <td>0.0276</td>\n      <td>119.908</td>\n      <td>0.618</td>\n      <td>4</td>\n    </tr>\n    <tr>\n      <th>381</th>\n      <td>Country Folks - Livin' Loud</td>\n      <td>0.23000</td>\n      <td>0.527</td>\n      <td>0.841</td>\n      <td>0.000000</td>\n      <td>0.0912</td>\n      <td>-2.854</td>\n      <td>0.0505</td>\n      <td>79.927</td>\n      <td>0.762</td>\n      <td>4</td>\n    </tr>\n    <tr>\n      <th>382</th>\n      <td>Wine, Beer, Whiskey</td>\n      <td>0.61700</td>\n      <td>0.727</td>\n      <td>0.914</td>\n      <td>0.000000</td>\n      <td>0.5960</td>\n      <td>-5.850</td>\n      <td>0.0743</td>\n      <td>106.021</td>\n      <td>0.784</td>\n      <td>4</td>\n    </tr>\n    <tr>\n      <th>383</th>\n      <td>Home Run</td>\n      <td>0.04350</td>\n      <td>0.600</td>\n      <td>0.745</td>\n      <td>0.000000</td>\n      <td>0.3620</td>\n      <td>-5.677</td>\n      <td>0.0315</td>\n      <td>104.023</td>\n      <td>0.424</td>\n      <td>4</td>\n    </tr>\n  </tbody>\n</table>\n<p>384 rows × 11 columns</p>\n</div>",
      "text/plain": "                                                  name  acousticness  \\\n0                                     I Love This Life       0.01640   \n1                                       Sunday Morning       0.00733   \n2                                             Sun Daze       0.09810   \n3    Courtesy Of The Red, White And Blue (The Angry...       0.52100   \n4                                      Loving You Easy       0.01250   \n..                                                 ...           ...   \n379                                   Joe Bought a Bar       0.14600   \n380                   Is Anybody Loving You These Days       0.06610   \n381                        Country Folks - Livin' Loud       0.23000   \n382                                Wine, Beer, Whiskey       0.61700   \n383                                           Home Run       0.04350   \n\n     danceability  energy  instrumentalness  liveness  loudness  speechiness  \\\n0           0.586   0.927          0.000007    0.1530    -3.014       0.0547   \n1           0.584   0.716          0.000000    0.0879    -4.737       0.0342   \n2           0.476   0.952          0.000003    0.4380    -3.783       0.0410   \n3           0.424   0.661          0.000002    0.0719    -5.547       0.0425   \n4           0.717   0.591          0.000000    0.0691    -3.939       0.0267   \n..            ...     ...               ...       ...       ...          ...   \n379         0.516   0.914          0.000000    0.2130    -4.510       0.1090   \n380         0.699   0.573          0.000005    0.2290    -8.773       0.0276   \n381         0.527   0.841          0.000000    0.0912    -2.854       0.0505   \n382         0.727   0.914          0.000000    0.5960    -5.850       0.0743   \n383         0.600   0.745          0.000000    0.3620    -5.677       0.0315   \n\n       tempo  valence  timeSignature  \n0    111.977    0.549              4  \n1     90.005    0.525              4  \n2    170.062    0.849              4  \n3    111.762    0.384              4  \n4     99.003    0.388              4  \n..       ...      ...            ...  \n379  146.101    0.485              4  \n380  119.908    0.618              4  \n381   79.927    0.762              4  \n382  106.021    0.784              4  \n383  104.023    0.424              4  \n\n[384 rows x 11 columns]"
     },
     "execution_count": 41,
     "metadata": {},
     "output_type": "execute_result"
    }
   ],
   "source": [
    "names = []\n",
    "\n",
    "featureList = []\n",
    "acousticness = []\n",
    "danceability = []\n",
    "energy = []\n",
    "instrumentalness = []\n",
    "liveness = []\n",
    "loudness = []\n",
    "speechiness = []\n",
    "tempo = []\n",
    "valence = []\n",
    "popularity = []\n",
    "timeSignature = []\n",
    "\n",
    "for index, row in songsDF.iloc[:].iterrows():\n",
    "    uri = row['uri']\n",
    "    name = row['name']\n",
    "    features = sp.audio_features(uri)\n",
    "    if features != [None]:\n",
    "        names.append(name)\n",
    "\n",
    "        acousticness.append(features[0]['acousticness'])\n",
    "        danceability.append(features[0]['danceability'])\n",
    "        energy.append(features[0]['energy'])\n",
    "        instrumentalness.append(features[0]['instrumentalness'])\n",
    "        liveness.append(features[0]['liveness'])\n",
    "        loudness.append(features[0]['loudness'])\n",
    "        speechiness.append(features[0]['speechiness'])\n",
    "        tempo.append(features[0]['tempo'])\n",
    "        valence.append(features[0]['valence'])\n",
    "        timeSignature.append(features[0]['time_signature'])\n",
    "\n",
    "\n",
    "\n",
    "        # popularity.append(features[0]['popularity'])\n",
    "\n",
    "data = {\n",
    "    'name' : names,\n",
    "    'acousticness' : acousticness,\n",
    "    'danceability' : danceability,\n",
    "    'energy' : energy,\n",
    "    'instrumentalness' : instrumentalness,\n",
    "    'liveness' : liveness,\n",
    "    'loudness' : loudness,\n",
    "    'speechiness' : speechiness,\n",
    "    'tempo' : tempo,\n",
    "    'valence' : valence,\n",
    "    'timeSignature' : timeSignature\n",
    "    \n",
    "}\n",
    "\n",
    "audioFeaturesDF = pd.DataFrame(data)\n",
    "audioFeaturesDF\n"
   ]
  },
  {
   "cell_type": "code",
   "execution_count": 50,
   "metadata": {},
   "outputs": [],
   "source": [
    "import os\n",
    "\n",
    "username = 'mikeydays'\n",
    "playlist = 'country'\n",
    "\n",
    "path = './Data/{}/{}'.format(username, playlist)\n",
    "\n",
    "if not os.path.exists(path):\n",
    "    os.makedirs(path)\n",
    "\n",
    "csvPath = os.path.join(path, 'SongFeatures.csv')    \n",
    "audioFeaturesDF.to_csv(csvPath, index=False)\n",
    "# audioFeaturesDF.to_csv(r'./{}/{}/SongFeatures.csv'.format('mikeydays', 'country'))"
   ]
  },
  {
   "cell_type": "code",
   "execution_count": 51,
   "metadata": {},
   "outputs": [
    {
     "data": {
      "text/html": "<div>\n<style scoped>\n    .dataframe tbody tr th:only-of-type {\n        vertical-align: middle;\n    }\n\n    .dataframe tbody tr th {\n        vertical-align: top;\n    }\n\n    .dataframe thead th {\n        text-align: right;\n    }\n</style>\n<table border=\"1\" class=\"dataframe\">\n  <thead>\n    <tr style=\"text-align: right;\">\n      <th></th>\n      <th>name</th>\n      <th>acousticness</th>\n      <th>danceability</th>\n      <th>energy</th>\n      <th>instrumentalness</th>\n      <th>liveness</th>\n      <th>loudness</th>\n      <th>speechiness</th>\n      <th>tempo</th>\n      <th>valence</th>\n      <th>timeSignature</th>\n    </tr>\n  </thead>\n  <tbody>\n    <tr>\n      <th>0</th>\n      <td>I Love This Life</td>\n      <td>0.01640</td>\n      <td>0.586</td>\n      <td>0.927</td>\n      <td>0.000007</td>\n      <td>0.1530</td>\n      <td>-3.014</td>\n      <td>0.0547</td>\n      <td>111.977</td>\n      <td>0.549</td>\n      <td>4</td>\n    </tr>\n    <tr>\n      <th>1</th>\n      <td>Sunday Morning</td>\n      <td>0.00733</td>\n      <td>0.584</td>\n      <td>0.716</td>\n      <td>0.000000</td>\n      <td>0.0879</td>\n      <td>-4.737</td>\n      <td>0.0342</td>\n      <td>90.005</td>\n      <td>0.525</td>\n      <td>4</td>\n    </tr>\n    <tr>\n      <th>2</th>\n      <td>Sun Daze</td>\n      <td>0.09810</td>\n      <td>0.476</td>\n      <td>0.952</td>\n      <td>0.000003</td>\n      <td>0.4380</td>\n      <td>-3.783</td>\n      <td>0.0410</td>\n      <td>170.062</td>\n      <td>0.849</td>\n      <td>4</td>\n    </tr>\n    <tr>\n      <th>3</th>\n      <td>Courtesy Of The Red, White And Blue (The Angry...</td>\n      <td>0.52100</td>\n      <td>0.424</td>\n      <td>0.661</td>\n      <td>0.000002</td>\n      <td>0.0719</td>\n      <td>-5.547</td>\n      <td>0.0425</td>\n      <td>111.762</td>\n      <td>0.384</td>\n      <td>4</td>\n    </tr>\n    <tr>\n      <th>4</th>\n      <td>Loving You Easy</td>\n      <td>0.01250</td>\n      <td>0.717</td>\n      <td>0.591</td>\n      <td>0.000000</td>\n      <td>0.0691</td>\n      <td>-3.939</td>\n      <td>0.0267</td>\n      <td>99.003</td>\n      <td>0.388</td>\n      <td>4</td>\n    </tr>\n    <tr>\n      <th>...</th>\n      <td>...</td>\n      <td>...</td>\n      <td>...</td>\n      <td>...</td>\n      <td>...</td>\n      <td>...</td>\n      <td>...</td>\n      <td>...</td>\n      <td>...</td>\n      <td>...</td>\n      <td>...</td>\n    </tr>\n    <tr>\n      <th>379</th>\n      <td>Joe Bought a Bar</td>\n      <td>0.14600</td>\n      <td>0.516</td>\n      <td>0.914</td>\n      <td>0.000000</td>\n      <td>0.2130</td>\n      <td>-4.510</td>\n      <td>0.1090</td>\n      <td>146.101</td>\n      <td>0.485</td>\n      <td>4</td>\n    </tr>\n    <tr>\n      <th>380</th>\n      <td>Is Anybody Loving You These Days</td>\n      <td>0.06610</td>\n      <td>0.699</td>\n      <td>0.573</td>\n      <td>0.000005</td>\n      <td>0.2290</td>\n      <td>-8.773</td>\n      <td>0.0276</td>\n      <td>119.908</td>\n      <td>0.618</td>\n      <td>4</td>\n    </tr>\n    <tr>\n      <th>381</th>\n      <td>Country Folks - Livin' Loud</td>\n      <td>0.23000</td>\n      <td>0.527</td>\n      <td>0.841</td>\n      <td>0.000000</td>\n      <td>0.0912</td>\n      <td>-2.854</td>\n      <td>0.0505</td>\n      <td>79.927</td>\n      <td>0.762</td>\n      <td>4</td>\n    </tr>\n    <tr>\n      <th>382</th>\n      <td>Wine, Beer, Whiskey</td>\n      <td>0.61700</td>\n      <td>0.727</td>\n      <td>0.914</td>\n      <td>0.000000</td>\n      <td>0.5960</td>\n      <td>-5.850</td>\n      <td>0.0743</td>\n      <td>106.021</td>\n      <td>0.784</td>\n      <td>4</td>\n    </tr>\n    <tr>\n      <th>383</th>\n      <td>Home Run</td>\n      <td>0.04350</td>\n      <td>0.600</td>\n      <td>0.745</td>\n      <td>0.000000</td>\n      <td>0.3620</td>\n      <td>-5.677</td>\n      <td>0.0315</td>\n      <td>104.023</td>\n      <td>0.424</td>\n      <td>4</td>\n    </tr>\n  </tbody>\n</table>\n<p>384 rows × 11 columns</p>\n</div>",
      "text/plain": "                                                  name  acousticness  \\\n0                                     I Love This Life       0.01640   \n1                                       Sunday Morning       0.00733   \n2                                             Sun Daze       0.09810   \n3    Courtesy Of The Red, White And Blue (The Angry...       0.52100   \n4                                      Loving You Easy       0.01250   \n..                                                 ...           ...   \n379                                   Joe Bought a Bar       0.14600   \n380                   Is Anybody Loving You These Days       0.06610   \n381                        Country Folks - Livin' Loud       0.23000   \n382                                Wine, Beer, Whiskey       0.61700   \n383                                           Home Run       0.04350   \n\n     danceability  energy  instrumentalness  liveness  loudness  speechiness  \\\n0           0.586   0.927          0.000007    0.1530    -3.014       0.0547   \n1           0.584   0.716          0.000000    0.0879    -4.737       0.0342   \n2           0.476   0.952          0.000003    0.4380    -3.783       0.0410   \n3           0.424   0.661          0.000002    0.0719    -5.547       0.0425   \n4           0.717   0.591          0.000000    0.0691    -3.939       0.0267   \n..            ...     ...               ...       ...       ...          ...   \n379         0.516   0.914          0.000000    0.2130    -4.510       0.1090   \n380         0.699   0.573          0.000005    0.2290    -8.773       0.0276   \n381         0.527   0.841          0.000000    0.0912    -2.854       0.0505   \n382         0.727   0.914          0.000000    0.5960    -5.850       0.0743   \n383         0.600   0.745          0.000000    0.3620    -5.677       0.0315   \n\n       tempo  valence  timeSignature  \n0    111.977    0.549              4  \n1     90.005    0.525              4  \n2    170.062    0.849              4  \n3    111.762    0.384              4  \n4     99.003    0.388              4  \n..       ...      ...            ...  \n379  146.101    0.485              4  \n380  119.908    0.618              4  \n381   79.927    0.762              4  \n382  106.021    0.784              4  \n383  104.023    0.424              4  \n\n[384 rows x 11 columns]"
     },
     "execution_count": 51,
     "metadata": {},
     "output_type": "execute_result"
    }
   ],
   "source": [
    "pd.read_csv(csvPath)"
   ]
  },
  {
   "cell_type": "code",
   "execution_count": 52,
   "metadata": {},
   "outputs": [
    {
     "data": {
      "text/html": "<div>\n<style scoped>\n    .dataframe tbody tr th:only-of-type {\n        vertical-align: middle;\n    }\n\n    .dataframe tbody tr th {\n        vertical-align: top;\n    }\n\n    .dataframe thead th {\n        text-align: right;\n    }\n</style>\n<table border=\"1\" class=\"dataframe\">\n  <thead>\n    <tr style=\"text-align: right;\">\n      <th></th>\n      <th>acousticness</th>\n      <th>danceability</th>\n      <th>energy</th>\n      <th>instrumentalness</th>\n      <th>liveness</th>\n      <th>loudness</th>\n      <th>speechiness</th>\n      <th>tempo</th>\n      <th>valence</th>\n      <th>timeSignature</th>\n    </tr>\n  </thead>\n  <tbody>\n    <tr>\n      <th>acousticness</th>\n      <td>1.000000</td>\n      <td>0.073467</td>\n      <td>-0.418762</td>\n      <td>0.048331</td>\n      <td>-0.110608</td>\n      <td>-0.349025</td>\n      <td>-0.067729</td>\n      <td>-0.041548</td>\n      <td>-0.181438</td>\n      <td>-0.124385</td>\n    </tr>\n    <tr>\n      <th>danceability</th>\n      <td>0.073467</td>\n      <td>1.000000</td>\n      <td>-0.065375</td>\n      <td>0.018389</td>\n      <td>0.038782</td>\n      <td>-0.105101</td>\n      <td>-0.120034</td>\n      <td>-0.215571</td>\n      <td>0.178695</td>\n      <td>0.131045</td>\n    </tr>\n    <tr>\n      <th>energy</th>\n      <td>-0.418762</td>\n      <td>-0.065375</td>\n      <td>1.000000</td>\n      <td>-0.125690</td>\n      <td>0.193224</td>\n      <td>0.553686</td>\n      <td>0.255709</td>\n      <td>0.100377</td>\n      <td>0.368879</td>\n      <td>0.167531</td>\n    </tr>\n    <tr>\n      <th>instrumentalness</th>\n      <td>0.048331</td>\n      <td>0.018389</td>\n      <td>-0.125690</td>\n      <td>1.000000</td>\n      <td>-0.026750</td>\n      <td>-0.208062</td>\n      <td>-0.088640</td>\n      <td>-0.037598</td>\n      <td>-0.096578</td>\n      <td>-0.012608</td>\n    </tr>\n    <tr>\n      <th>liveness</th>\n      <td>-0.110608</td>\n      <td>0.038782</td>\n      <td>0.193224</td>\n      <td>-0.026750</td>\n      <td>1.000000</td>\n      <td>0.116693</td>\n      <td>0.100897</td>\n      <td>0.025425</td>\n      <td>0.140031</td>\n      <td>0.022560</td>\n    </tr>\n    <tr>\n      <th>loudness</th>\n      <td>-0.349025</td>\n      <td>-0.105101</td>\n      <td>0.553686</td>\n      <td>-0.208062</td>\n      <td>0.116693</td>\n      <td>1.000000</td>\n      <td>0.133523</td>\n      <td>0.113101</td>\n      <td>0.212681</td>\n      <td>0.069268</td>\n    </tr>\n    <tr>\n      <th>speechiness</th>\n      <td>-0.067729</td>\n      <td>-0.120034</td>\n      <td>0.255709</td>\n      <td>-0.088640</td>\n      <td>0.100897</td>\n      <td>0.133523</td>\n      <td>1.000000</td>\n      <td>0.105271</td>\n      <td>0.130681</td>\n      <td>0.062880</td>\n    </tr>\n    <tr>\n      <th>tempo</th>\n      <td>-0.041548</td>\n      <td>-0.215571</td>\n      <td>0.100377</td>\n      <td>-0.037598</td>\n      <td>0.025425</td>\n      <td>0.113101</td>\n      <td>0.105271</td>\n      <td>1.000000</td>\n      <td>0.046249</td>\n      <td>-0.096537</td>\n    </tr>\n    <tr>\n      <th>valence</th>\n      <td>-0.181438</td>\n      <td>0.178695</td>\n      <td>0.368879</td>\n      <td>-0.096578</td>\n      <td>0.140031</td>\n      <td>0.212681</td>\n      <td>0.130681</td>\n      <td>0.046249</td>\n      <td>1.000000</td>\n      <td>0.172659</td>\n    </tr>\n    <tr>\n      <th>timeSignature</th>\n      <td>-0.124385</td>\n      <td>0.131045</td>\n      <td>0.167531</td>\n      <td>-0.012608</td>\n      <td>0.022560</td>\n      <td>0.069268</td>\n      <td>0.062880</td>\n      <td>-0.096537</td>\n      <td>0.172659</td>\n      <td>1.000000</td>\n    </tr>\n  </tbody>\n</table>\n</div>",
      "text/plain": "                  acousticness  danceability    energy  instrumentalness  \\\nacousticness          1.000000      0.073467 -0.418762          0.048331   \ndanceability          0.073467      1.000000 -0.065375          0.018389   \nenergy               -0.418762     -0.065375  1.000000         -0.125690   \ninstrumentalness      0.048331      0.018389 -0.125690          1.000000   \nliveness             -0.110608      0.038782  0.193224         -0.026750   \nloudness             -0.349025     -0.105101  0.553686         -0.208062   \nspeechiness          -0.067729     -0.120034  0.255709         -0.088640   \ntempo                -0.041548     -0.215571  0.100377         -0.037598   \nvalence              -0.181438      0.178695  0.368879         -0.096578   \ntimeSignature        -0.124385      0.131045  0.167531         -0.012608   \n\n                  liveness  loudness  speechiness     tempo   valence  \\\nacousticness     -0.110608 -0.349025    -0.067729 -0.041548 -0.181438   \ndanceability      0.038782 -0.105101    -0.120034 -0.215571  0.178695   \nenergy            0.193224  0.553686     0.255709  0.100377  0.368879   \ninstrumentalness -0.026750 -0.208062    -0.088640 -0.037598 -0.096578   \nliveness          1.000000  0.116693     0.100897  0.025425  0.140031   \nloudness          0.116693  1.000000     0.133523  0.113101  0.212681   \nspeechiness       0.100897  0.133523     1.000000  0.105271  0.130681   \ntempo             0.025425  0.113101     0.105271  1.000000  0.046249   \nvalence           0.140031  0.212681     0.130681  0.046249  1.000000   \ntimeSignature     0.022560  0.069268     0.062880 -0.096537  0.172659   \n\n                  timeSignature  \nacousticness          -0.124385  \ndanceability           0.131045  \nenergy                 0.167531  \ninstrumentalness      -0.012608  \nliveness               0.022560  \nloudness               0.069268  \nspeechiness            0.062880  \ntempo                 -0.096537  \nvalence                0.172659  \ntimeSignature          1.000000  "
     },
     "execution_count": 52,
     "metadata": {},
     "output_type": "execute_result"
    }
   ],
   "source": [
    "audioFeaturesDF.corr(method='kendall')"
   ]
  },
  {
   "cell_type": "code",
   "execution_count": 106,
   "metadata": {},
   "outputs": [
    {
     "data": {
      "text/html": "\n<div id=\"altair-viz-5da7203ad5ad4871b77d47658d737504\"></div>\n<script type=\"text/javascript\">\n  (function(spec, embedOpt){\n    let outputDiv = document.currentScript.previousElementSibling;\n    if (outputDiv.id !== \"altair-viz-5da7203ad5ad4871b77d47658d737504\") {\n      outputDiv = document.getElementById(\"altair-viz-5da7203ad5ad4871b77d47658d737504\");\n    }\n    const paths = {\n      \"vega\": \"https://cdn.jsdelivr.net/npm//vega@5?noext\",\n      \"vega-lib\": \"https://cdn.jsdelivr.net/npm//vega-lib?noext\",\n      \"vega-lite\": \"https://cdn.jsdelivr.net/npm//vega-lite@4.8.1?noext\",\n      \"vega-embed\": \"https://cdn.jsdelivr.net/npm//vega-embed@6?noext\",\n    };\n\n    function loadScript(lib) {\n      return new Promise(function(resolve, reject) {\n        var s = document.createElement('script');\n        s.src = paths[lib];\n        s.async = true;\n        s.onload = () => resolve(paths[lib]);\n        s.onerror = () => reject(`Error loading script: ${paths[lib]}`);\n        document.getElementsByTagName(\"head\")[0].appendChild(s);\n      });\n    }\n\n    function showError(err) {\n      outputDiv.innerHTML = `<div class=\"error\" style=\"color:red;\">${err}</div>`;\n      throw err;\n    }\n\n    function displayChart(vegaEmbed) {\n      vegaEmbed(outputDiv, spec, embedOpt)\n        .catch(err => showError(`Javascript Error: ${err.message}<br>This usually means there's a typo in your chart specification. See the javascript console for the full traceback.`));\n    }\n\n    if(typeof define === \"function\" && define.amd) {\n      requirejs.config({paths});\n      require([\"vega-embed\"], displayChart, err => showError(`Error loading script: ${err.message}`));\n    } else if (typeof vegaEmbed === \"function\") {\n      displayChart(vegaEmbed);\n    } else {\n      loadScript(\"vega\")\n        .then(() => loadScript(\"vega-lite\"))\n        .then(() => loadScript(\"vega-embed\"))\n        .catch(showError)\n        .then(() => displayChart(vegaEmbed));\n    }\n  })({\"config\": {\"view\": {\"continuousWidth\": 400, \"continuousHeight\": 300}}, \"data\": {\"name\": \"data-6f6346879c784560fe88b24f68d57c06\"}, \"mark\": \"bar\", \"encoding\": {\"x\": {\"type\": \"nominal\", \"field\": \"index\"}, \"y\": {\"type\": \"quantitative\", \"field\": \"Mean\"}}, \"$schema\": \"https://vega.github.io/schema/vega-lite/v4.8.1.json\", \"datasets\": {\"data-6f6346879c784560fe88b24f68d57c06\": [{\"index\": \"acousticness\", \"Mean\": 0.24647369791666665}, {\"index\": \"danceability\", \"Mean\": 0.5787526041666666}, {\"index\": \"energy\", \"Mean\": 0.6652161458333333}, {\"index\": \"instrumentalness\", \"Mean\": 0.004063837421875}, {\"index\": \"liveness\", \"Mean\": 0.17964687499999998}, {\"index\": \"speechiness\", \"Mean\": 0.037435937499999995}, {\"index\": \"valence\", \"Mean\": 0.5561354166666667}, {\"index\": \"timeSignature\", \"Mean\": 3.9322916666666665}]}}, {\"mode\": \"vega-lite\"});\n</script>",
      "text/plain": "alt.Chart(...)"
     },
     "execution_count": 106,
     "metadata": {},
     "output_type": "execute_result"
    }
   ],
   "source": [
    "import altair as alt\n",
    "\n",
    "source = pd.DataFrame(audioFeaturesDF.drop(columns=['tempo', 'loudness']))\n",
    "source = pd.DataFrame(source.mean(axis=0), columns=['Mean']).reset_index()\n",
    "alt.Chart(source).mark_bar().encode(x='index', y='Mean')\n",
    "# source"
   ]
  }
 ]
}