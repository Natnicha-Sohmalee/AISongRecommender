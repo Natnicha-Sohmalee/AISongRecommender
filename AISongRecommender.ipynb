{
 "nbformat": 4,
 "nbformat_minor": 2,
 "metadata": {
  "language_info": {
   "name": "python",
   "codemirror_mode": {
    "name": "ipython",
    "version": 3
   },
   "version": "3.6.6-final"
  },
  "orig_nbformat": 2,
  "file_extension": ".py",
  "mimetype": "text/x-python",
  "name": "python",
  "npconvert_exporter": "python",
  "pygments_lexer": "ipython3",
  "version": 3,
  "kernelspec": {
   "name": "csc466",
   "display_name": "CSC466"
  }
 },
 "cells": [
  {
   "cell_type": "code",
   "execution_count": 5,
   "metadata": {},
   "outputs": [],
   "source": [
    "import pandas as pd\n",
    "import numpy as np\n",
    "import spotipy\n",
    "import SpotipyWrapper"
   ]
  },
  {
   "cell_type": "code",
   "execution_count": 2,
   "metadata": {},
   "outputs": [
    {
     "name": "stdout",
     "output_type": "stream",
     "text": "Help on module SpotipyWrapper:\n\nNAME\n    SpotipyWrapper\n\nCLASSES\n    builtins.object\n        WrapperClass\n    \n    class WrapperClass(builtins.object)\n     |  Methods defined here:\n     |  \n     |  __init__(self)\n     |      Initialize self.  See help(type(self)) for accurate signature.\n     |  \n     |  doAuth(self)\n     |      Funtion: Setup and initialization of credentials manager and \n     |      master Spotify object\n     |      \n     |      Returns: Spotify Object\n     |  \n     |  getSongsFromPlaylist(self, uri, username, name='')\n     |      Function: Get list of songs from certain playlist\n     |      \n     |      Returns: Dataframe containing [song name, uri]\n     |  \n     |  getUsersPlaylists(self, username='mikeydays')\n     |      Function: Get a list of users playlist names\n     |      \n     |      Returns: A list of names\n     |  \n     |  ----------------------------------------------------------------------\n     |  Data descriptors defined here:\n     |  \n     |  __dict__\n     |      dictionary for instance variables (if defined)\n     |  \n     |  __weakref__\n     |      list of weak references to the object (if defined)\n\nDATA\n    CLIENT_ID = '57a43e229eb045f7902cfb5a723d0e59'\n    CLIENT_SECRET = 'f301225d3cc3449ba674a36ee64a1cbf'\n    sp = None\n\nFILE\n    /Users/MichaelMoschitto/Desktop/466/AISongRecommender/SpotipyWrapper.py\n\n\n"
    }
   ],
   "source": [
    "help(SpotipyWrapper)"
   ]
  },
  {
   "cell_type": "code",
   "execution_count": 6,
   "metadata": {},
   "outputs": [],
   "source": [
    "wrapper = SpotipyWrapper.WrapperClass()\n",
    "sp = wrapper.doAuth()"
   ]
  },
  {
   "cell_type": "code",
   "execution_count": 7,
   "metadata": {},
   "outputs": [
    {
     "data": {
      "text/html": "<div>\n<style scoped>\n    .dataframe tbody tr th:only-of-type {\n        vertical-align: middle;\n    }\n\n    .dataframe tbody tr th {\n        vertical-align: top;\n    }\n\n    .dataframe thead th {\n        text-align: right;\n    }\n</style>\n<table border=\"1\" class=\"dataframe\">\n  <thead>\n    <tr style=\"text-align: right;\">\n      <th></th>\n      <th>name</th>\n      <th>uri</th>\n    </tr>\n  </thead>\n  <tbody>\n    <tr>\n      <th>0</th>\n      <td>wholesome bangers</td>\n      <td>52Z4shkqqeHL1AzX1NUgzY</td>\n    </tr>\n    <tr>\n      <th>1</th>\n      <td>Throwback Dingers</td>\n      <td>6v3WpQVrQbgfpU2EVxm3eW</td>\n    </tr>\n    <tr>\n      <th>2</th>\n      <td>eminem</td>\n      <td>2Zfrz2ddkRw64NSG3nRsf3</td>\n    </tr>\n    <tr>\n      <th>3</th>\n      <td>not country</td>\n      <td>3EaIcfySntnbcOWrBAnb96</td>\n    </tr>\n    <tr>\n      <th>4</th>\n      <td>country</td>\n      <td>0ZB9jG1uyCbs4rnQ1V5ro6</td>\n    </tr>\n  </tbody>\n</table>\n</div>",
      "text/plain": "                name                     uri\n0  wholesome bangers  52Z4shkqqeHL1AzX1NUgzY\n1  Throwback Dingers  6v3WpQVrQbgfpU2EVxm3eW\n2            eminem   2Zfrz2ddkRw64NSG3nRsf3\n3       not country   3EaIcfySntnbcOWrBAnb96\n4            country  0ZB9jG1uyCbs4rnQ1V5ro6"
     },
     "execution_count": 7,
     "metadata": {},
     "output_type": "execute_result"
    }
   ],
   "source": [
    "\n",
    "playlistDF = wrapper.getUsersPlaylists('mikeydays')\n",
    "playlistDF\n"
   ]
  },
  {
   "cell_type": "code",
   "execution_count": 8,
   "metadata": {},
   "outputs": [
    {
     "data": {
      "text/html": "<div>\n<style scoped>\n    .dataframe tbody tr th:only-of-type {\n        vertical-align: middle;\n    }\n\n    .dataframe tbody tr th {\n        vertical-align: top;\n    }\n\n    .dataframe thead th {\n        text-align: right;\n    }\n</style>\n<table border=\"1\" class=\"dataframe\">\n  <thead>\n    <tr style=\"text-align: right;\">\n      <th></th>\n      <th>name</th>\n      <th>uri</th>\n    </tr>\n  </thead>\n  <tbody>\n    <tr>\n      <th>0</th>\n      <td>I Love This Life</td>\n      <td>0ZB9jG1uyCbs4rnQ1V5ro6</td>\n    </tr>\n    <tr>\n      <th>1</th>\n      <td>Sunday Morning</td>\n      <td>0ZB9jG1uyCbs4rnQ1V5ro6</td>\n    </tr>\n    <tr>\n      <th>2</th>\n      <td>Sun Daze</td>\n      <td>0ZB9jG1uyCbs4rnQ1V5ro6</td>\n    </tr>\n    <tr>\n      <th>3</th>\n      <td>Courtesy Of The Red, White And Blue (The Angry...</td>\n      <td>0ZB9jG1uyCbs4rnQ1V5ro6</td>\n    </tr>\n    <tr>\n      <th>4</th>\n      <td>Loving You Easy</td>\n      <td>0ZB9jG1uyCbs4rnQ1V5ro6</td>\n    </tr>\n    <tr>\n      <th>...</th>\n      <td>...</td>\n      <td>...</td>\n    </tr>\n    <tr>\n      <th>379</th>\n      <td>Joe Bought a Bar</td>\n      <td>0ZB9jG1uyCbs4rnQ1V5ro6</td>\n    </tr>\n    <tr>\n      <th>380</th>\n      <td>Is Anybody Loving You These Days</td>\n      <td>0ZB9jG1uyCbs4rnQ1V5ro6</td>\n    </tr>\n    <tr>\n      <th>381</th>\n      <td>Country Folks - Livin' Loud</td>\n      <td>0ZB9jG1uyCbs4rnQ1V5ro6</td>\n    </tr>\n    <tr>\n      <th>382</th>\n      <td>Wine, Beer, Whiskey</td>\n      <td>0ZB9jG1uyCbs4rnQ1V5ro6</td>\n    </tr>\n    <tr>\n      <th>383</th>\n      <td>Home Run</td>\n      <td>0ZB9jG1uyCbs4rnQ1V5ro6</td>\n    </tr>\n  </tbody>\n</table>\n<p>384 rows × 2 columns</p>\n</div>",
      "text/plain": "                                                  name                     uri\n0                                     I Love This Life  0ZB9jG1uyCbs4rnQ1V5ro6\n1                                       Sunday Morning  0ZB9jG1uyCbs4rnQ1V5ro6\n2                                             Sun Daze  0ZB9jG1uyCbs4rnQ1V5ro6\n3    Courtesy Of The Red, White And Blue (The Angry...  0ZB9jG1uyCbs4rnQ1V5ro6\n4                                      Loving You Easy  0ZB9jG1uyCbs4rnQ1V5ro6\n..                                                 ...                     ...\n379                                   Joe Bought a Bar  0ZB9jG1uyCbs4rnQ1V5ro6\n380                   Is Anybody Loving You These Days  0ZB9jG1uyCbs4rnQ1V5ro6\n381                        Country Folks - Livin' Loud  0ZB9jG1uyCbs4rnQ1V5ro6\n382                                Wine, Beer, Whiskey  0ZB9jG1uyCbs4rnQ1V5ro6\n383                                           Home Run  0ZB9jG1uyCbs4rnQ1V5ro6\n\n[384 rows x 2 columns]"
     },
     "execution_count": 8,
     "metadata": {},
     "output_type": "execute_result"
    }
   ],
   "source": [
    "uri = playlistDF[playlistDF['name'] == 'country']['uri'].values[0]\n",
    "\n",
    "wrapper.getSongsFromPlaylist(uri, 'mikeydays')"
   ]
  },
  {
   "cell_type": "code",
   "execution_count": 9,
   "metadata": {},
   "outputs": [
    {
     "name": "stderr",
     "output_type": "stream",
     "text": "HTTP Error for GET to https://api.spotify.com/v1/audio-analysis/0ZB9jG1uyCbs4rnQ1V5ro6 returned 404 due to analysis not found\n"
    },
    {
     "ename": "SpotifyException",
     "evalue": "http status: 404, code:-1 - https://api.spotify.com/v1/audio-analysis/0ZB9jG1uyCbs4rnQ1V5ro6:\n analysis not found, reason: None",
     "output_type": "error",
     "traceback": [
      "\u001b[0;31m---------------------------------------------------------------------------\u001b[0m",
      "\u001b[0;31mHTTPError\u001b[0m                                 Traceback (most recent call last)",
      "\u001b[0;32m~/Desktop/466/env/lib/python3.6/site-packages/spotipy/client.py\u001b[0m in \u001b[0;36m_internal_call\u001b[0;34m(self, method, url, payload, params)\u001b[0m\n\u001b[1;32m    244\u001b[0m \u001b[0;34m\u001b[0m\u001b[0m\n\u001b[0;32m--> 245\u001b[0;31m             \u001b[0mresponse\u001b[0m\u001b[0;34m.\u001b[0m\u001b[0mraise_for_status\u001b[0m\u001b[0;34m(\u001b[0m\u001b[0;34m)\u001b[0m\u001b[0;34m\u001b[0m\u001b[0m\n\u001b[0m\u001b[1;32m    246\u001b[0m             \u001b[0mresults\u001b[0m \u001b[0;34m=\u001b[0m \u001b[0mresponse\u001b[0m\u001b[0;34m.\u001b[0m\u001b[0mjson\u001b[0m\u001b[0;34m(\u001b[0m\u001b[0;34m)\u001b[0m\u001b[0;34m\u001b[0m\u001b[0m\n",
      "\u001b[0;32m~/Desktop/466/env/lib/python3.6/site-packages/requests/models.py\u001b[0m in \u001b[0;36mraise_for_status\u001b[0;34m(self)\u001b[0m\n\u001b[1;32m    942\u001b[0m         \u001b[0;32mif\u001b[0m \u001b[0mhttp_error_msg\u001b[0m\u001b[0;34m:\u001b[0m\u001b[0;34m\u001b[0m\u001b[0m\n\u001b[0;32m--> 943\u001b[0;31m             \u001b[0;32mraise\u001b[0m \u001b[0mHTTPError\u001b[0m\u001b[0;34m(\u001b[0m\u001b[0mhttp_error_msg\u001b[0m\u001b[0;34m,\u001b[0m \u001b[0mresponse\u001b[0m\u001b[0;34m=\u001b[0m\u001b[0mself\u001b[0m\u001b[0;34m)\u001b[0m\u001b[0;34m\u001b[0m\u001b[0m\n\u001b[0m\u001b[1;32m    944\u001b[0m \u001b[0;34m\u001b[0m\u001b[0m\n",
      "\u001b[0;31mHTTPError\u001b[0m: 404 Client Error: Not Found for url: https://api.spotify.com/v1/audio-analysis/0ZB9jG1uyCbs4rnQ1V5ro6",
      "\nDuring handling of the above exception, another exception occurred:\n",
      "\u001b[0;31mSpotifyException\u001b[0m                          Traceback (most recent call last)",
      "\u001b[0;32m<ipython-input-9-b3d8b0a69dd4>\u001b[0m in \u001b[0;36m<module>\u001b[0;34m\u001b[0m\n\u001b[0;32m----> 1\u001b[0;31m \u001b[0msp\u001b[0m\u001b[0;34m.\u001b[0m\u001b[0maudio_analysis\u001b[0m\u001b[0;34m(\u001b[0m\u001b[0;34m'0ZB9jG1uyCbs4rnQ1V5ro6'\u001b[0m\u001b[0;34m)\u001b[0m\u001b[0;34m\u001b[0m\u001b[0m\n\u001b[0m",
      "\u001b[0;32m~/Desktop/466/env/lib/python3.6/site-packages/spotipy/client.py\u001b[0m in \u001b[0;36maudio_analysis\u001b[0;34m(self, track_id)\u001b[0m\n\u001b[1;32m   1663\u001b[0m         \"\"\"\n\u001b[1;32m   1664\u001b[0m         \u001b[0mtrid\u001b[0m \u001b[0;34m=\u001b[0m \u001b[0mself\u001b[0m\u001b[0;34m.\u001b[0m\u001b[0m_get_id\u001b[0m\u001b[0;34m(\u001b[0m\u001b[0;34m\"track\"\u001b[0m\u001b[0;34m,\u001b[0m \u001b[0mtrack_id\u001b[0m\u001b[0;34m)\u001b[0m\u001b[0;34m\u001b[0m\u001b[0m\n\u001b[0;32m-> 1665\u001b[0;31m         \u001b[0;32mreturn\u001b[0m \u001b[0mself\u001b[0m\u001b[0;34m.\u001b[0m\u001b[0m_get\u001b[0m\u001b[0;34m(\u001b[0m\u001b[0;34m\"audio-analysis/\"\u001b[0m \u001b[0;34m+\u001b[0m \u001b[0mtrid\u001b[0m\u001b[0;34m)\u001b[0m\u001b[0;34m\u001b[0m\u001b[0m\n\u001b[0m\u001b[1;32m   1666\u001b[0m \u001b[0;34m\u001b[0m\u001b[0m\n\u001b[1;32m   1667\u001b[0m     \u001b[0;32mdef\u001b[0m \u001b[0maudio_features\u001b[0m\u001b[0;34m(\u001b[0m\u001b[0mself\u001b[0m\u001b[0;34m,\u001b[0m \u001b[0mtracks\u001b[0m\u001b[0;34m=\u001b[0m\u001b[0;34m[\u001b[0m\u001b[0;34m]\u001b[0m\u001b[0;34m)\u001b[0m\u001b[0;34m:\u001b[0m\u001b[0;34m\u001b[0m\u001b[0m\n",
      "\u001b[0;32m~/Desktop/466/env/lib/python3.6/site-packages/spotipy/client.py\u001b[0m in \u001b[0;36m_get\u001b[0;34m(self, url, args, payload, **kwargs)\u001b[0m\n\u001b[1;32m    289\u001b[0m             \u001b[0mkwargs\u001b[0m\u001b[0;34m.\u001b[0m\u001b[0mupdate\u001b[0m\u001b[0;34m(\u001b[0m\u001b[0margs\u001b[0m\u001b[0;34m)\u001b[0m\u001b[0;34m\u001b[0m\u001b[0m\n\u001b[1;32m    290\u001b[0m \u001b[0;34m\u001b[0m\u001b[0m\n\u001b[0;32m--> 291\u001b[0;31m         \u001b[0;32mreturn\u001b[0m \u001b[0mself\u001b[0m\u001b[0;34m.\u001b[0m\u001b[0m_internal_call\u001b[0m\u001b[0;34m(\u001b[0m\u001b[0;34m\"GET\"\u001b[0m\u001b[0;34m,\u001b[0m \u001b[0murl\u001b[0m\u001b[0;34m,\u001b[0m \u001b[0mpayload\u001b[0m\u001b[0;34m,\u001b[0m \u001b[0mkwargs\u001b[0m\u001b[0;34m)\u001b[0m\u001b[0;34m\u001b[0m\u001b[0m\n\u001b[0m\u001b[1;32m    292\u001b[0m \u001b[0;34m\u001b[0m\u001b[0m\n\u001b[1;32m    293\u001b[0m     \u001b[0;32mdef\u001b[0m \u001b[0m_post\u001b[0m\u001b[0;34m(\u001b[0m\u001b[0mself\u001b[0m\u001b[0;34m,\u001b[0m \u001b[0murl\u001b[0m\u001b[0;34m,\u001b[0m \u001b[0margs\u001b[0m\u001b[0;34m=\u001b[0m\u001b[0;32mNone\u001b[0m\u001b[0;34m,\u001b[0m \u001b[0mpayload\u001b[0m\u001b[0;34m=\u001b[0m\u001b[0;32mNone\u001b[0m\u001b[0;34m,\u001b[0m \u001b[0;34m**\u001b[0m\u001b[0mkwargs\u001b[0m\u001b[0;34m)\u001b[0m\u001b[0;34m:\u001b[0m\u001b[0;34m\u001b[0m\u001b[0m\n",
      "\u001b[0;32m~/Desktop/466/env/lib/python3.6/site-packages/spotipy/client.py\u001b[0m in \u001b[0;36m_internal_call\u001b[0;34m(self, method, url, payload, params)\u001b[0m\n\u001b[1;32m    264\u001b[0m                 \u001b[0;34m\"%s:\\n %s\"\u001b[0m \u001b[0;34m%\u001b[0m \u001b[0;34m(\u001b[0m\u001b[0mresponse\u001b[0m\u001b[0;34m.\u001b[0m\u001b[0murl\u001b[0m\u001b[0;34m,\u001b[0m \u001b[0mmsg\u001b[0m\u001b[0;34m)\u001b[0m\u001b[0;34m,\u001b[0m\u001b[0;34m\u001b[0m\u001b[0m\n\u001b[1;32m    265\u001b[0m                 \u001b[0mreason\u001b[0m\u001b[0;34m=\u001b[0m\u001b[0mreason\u001b[0m\u001b[0;34m,\u001b[0m\u001b[0;34m\u001b[0m\u001b[0m\n\u001b[0;32m--> 266\u001b[0;31m                 \u001b[0mheaders\u001b[0m\u001b[0;34m=\u001b[0m\u001b[0mresponse\u001b[0m\u001b[0;34m.\u001b[0m\u001b[0mheaders\u001b[0m\u001b[0;34m,\u001b[0m\u001b[0;34m\u001b[0m\u001b[0m\n\u001b[0m\u001b[1;32m    267\u001b[0m             )\n\u001b[1;32m    268\u001b[0m         \u001b[0;32mexcept\u001b[0m \u001b[0mrequests\u001b[0m\u001b[0;34m.\u001b[0m\u001b[0mexceptions\u001b[0m\u001b[0;34m.\u001b[0m\u001b[0mRetryError\u001b[0m \u001b[0;32mas\u001b[0m \u001b[0mretry_error\u001b[0m\u001b[0;34m:\u001b[0m\u001b[0;34m\u001b[0m\u001b[0m\n",
      "\u001b[0;31mSpotifyException\u001b[0m: http status: 404, code:-1 - https://api.spotify.com/v1/audio-analysis/0ZB9jG1uyCbs4rnQ1V5ro6:\n analysis not found, reason: None"
     ]
    }
   ],
   "source": [
    "sp.audio_analysis('0ZB9jG1uyCbs4rnQ1V5ro6')"
   ]
  }
 ]
}