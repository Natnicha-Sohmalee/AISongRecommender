{
 "cells": [
  {
   "cell_type": "code",
   "execution_count": 7,
   "metadata": {},
   "outputs": [],
   "source": [
    "import pandas as pd\n",
    "import numpy as np\n",
    "import spotipy\n",
    "import SpotipyWrapper\n",
    "import Vizualization\n"
   ]
  },
  {
   "cell_type": "code",
   "execution_count": 3,
   "metadata": {},
   "outputs": [
    {
     "name": "stdout",
     "output_type": "stream",
     "text": "Help on module SpotipyWrapper:\n\nNAME\n    SpotipyWrapper\n\nCLASSES\n    builtins.object\n        WrapperClass\n    \n    class WrapperClass(builtins.object)\n     |  Methods defined here:\n     |  \n     |  __init__(self)\n     |      Initialize self.  See help(type(self)) for accurate signature.\n     |  \n     |  doAuth(self)\n     |      Funtion: Setup and initialization of credentials manager and \n     |      master Spotify object\n     |      \n     |      Returns: Spotify Object\n     |  \n     |  getName(self, results, nameArr)\n     |  \n     |  getPlaylistGenre(self, songsDF)\n     |  \n     |  getSongsFromPlaylist(self, uri, username, name='')\n     |      Function: Get list of songs from certain playlist\n     |      \n     |      Returns: Dataframe containing [song name, uri]\n     |  \n     |  getUsersPlaylists(self, username='mikeydays')\n     |      Function: Get a list of users playlist names\n     |      \n     |      Returns: A list of names\n     |  \n     |  ----------------------------------------------------------------------\n     |  Data descriptors defined here:\n     |  \n     |  __dict__\n     |      dictionary for instance variables (if defined)\n     |  \n     |  __weakref__\n     |      list of weak references to the object (if defined)\n\nDATA\n    CLIENT_ID = '57a43e229eb045f7902cfb5a723d0e59'\n    CLIENT_SECRET = 'f301225d3cc3449ba674a36ee64a1cbf'\n    sp = None\n\nFILE\n    /Users/MichaelMoschitto/Desktop/466/AISongRecommender/SpotipyWrapper.py\n\n\n"
    }
   ],
   "source": [
    "help(SpotipyWrapper)"
   ]
  },
  {
   "cell_type": "code",
   "execution_count": 10,
   "metadata": {},
   "outputs": [],
   "source": [
    "wrapper = SpotipyWrapper.WrapperClass()\n",
    "sp = wrapper.doAuth()"
   ]
  },
  {
   "cell_type": "code",
   "execution_count": 3,
   "metadata": {},
   "outputs": [
    {
     "data": {
      "text/html": "<div>\n<style scoped>\n    .dataframe tbody tr th:only-of-type {\n        vertical-align: middle;\n    }\n\n    .dataframe tbody tr th {\n        vertical-align: top;\n    }\n\n    .dataframe thead th {\n        text-align: right;\n    }\n</style>\n<table border=\"1\" class=\"dataframe\">\n  <thead>\n    <tr style=\"text-align: right;\">\n      <th></th>\n      <th>name</th>\n      <th>uri</th>\n    </tr>\n  </thead>\n  <tbody>\n    <tr>\n      <th>0</th>\n      <td>wholesome bangers</td>\n      <td>52Z4shkqqeHL1AzX1NUgzY</td>\n    </tr>\n    <tr>\n      <th>1</th>\n      <td>Throwback Dingers</td>\n      <td>6v3WpQVrQbgfpU2EVxm3eW</td>\n    </tr>\n    <tr>\n      <th>2</th>\n      <td>eminem</td>\n      <td>2Zfrz2ddkRw64NSG3nRsf3</td>\n    </tr>\n    <tr>\n      <th>3</th>\n      <td>not country</td>\n      <td>3EaIcfySntnbcOWrBAnb96</td>\n    </tr>\n    <tr>\n      <th>4</th>\n      <td>country</td>\n      <td>0ZB9jG1uyCbs4rnQ1V5ro6</td>\n    </tr>\n  </tbody>\n</table>\n</div>",
      "text/plain": "                name                     uri\n0  wholesome bangers  52Z4shkqqeHL1AzX1NUgzY\n1  Throwback Dingers  6v3WpQVrQbgfpU2EVxm3eW\n2            eminem   2Zfrz2ddkRw64NSG3nRsf3\n3       not country   3EaIcfySntnbcOWrBAnb96\n4            country  0ZB9jG1uyCbs4rnQ1V5ro6"
     },
     "execution_count": 3,
     "metadata": {},
     "output_type": "execute_result"
    }
   ],
   "source": [
    "\n",
    "playlistDF = wrapper.getUsersPlaylists('mikeydays')\n",
    "playlistDF\n"
   ]
  },
  {
   "cell_type": "code",
   "execution_count": 6,
   "metadata": {},
   "outputs": [
    {
     "data": {
      "text/html": "<div>\n<style scoped>\n    .dataframe tbody tr th:only-of-type {\n        vertical-align: middle;\n    }\n\n    .dataframe tbody tr th {\n        vertical-align: top;\n    }\n\n    .dataframe thead th {\n        text-align: right;\n    }\n</style>\n<table border=\"1\" class=\"dataframe\">\n  <thead>\n    <tr style=\"text-align: right;\">\n      <th></th>\n      <th>name</th>\n      <th>uri</th>\n    </tr>\n  </thead>\n  <tbody>\n    <tr>\n      <th>0</th>\n      <td>2:00 AM</td>\n      <td>4tN3rZ7cChj4Wns2Wt2Nj6</td>\n    </tr>\n    <tr>\n      <th>1</th>\n      <td>2:15</td>\n      <td>4HsOm6VNKZtGh8W8GhdNu4</td>\n    </tr>\n    <tr>\n      <th>2</th>\n      <td>2:54</td>\n      <td>3LsQKoRgMc8VEkQn66jfAQ</td>\n    </tr>\n    <tr>\n      <th>3</th>\n      <td>4:20</td>\n      <td>5KCG0FDMDPzQpxcohGUnyH</td>\n    </tr>\n    <tr>\n      <th>4</th>\n      <td>6:30</td>\n      <td>5abblGojcZoe3zZBhJFBUi</td>\n    </tr>\n    <tr>\n      <th>...</th>\n      <td>...</td>\n      <td>...</td>\n    </tr>\n    <tr>\n      <th>81317</th>\n      <td>黃曉明</td>\n      <td>53F8atvCmVFVOvnKwZXBd3</td>\n    </tr>\n    <tr>\n      <th>81318</th>\n      <td>黃玠瑋</td>\n      <td>6VI0p0xTjBKKxQN8i8vGpD</td>\n    </tr>\n    <tr>\n      <th>81319</th>\n      <td>黃義達</td>\n      <td>7kaq0LysuRSgBZSorlZ7Vj</td>\n    </tr>\n    <tr>\n      <th>81320</th>\n      <td>黃顯忠 (Huang Xianzhong)</td>\n      <td>7MuuEryyseo5cvReO6gdPF</td>\n    </tr>\n    <tr>\n      <th>81321</th>\n      <td>#ERROR!</td>\n      <td>1easDqNuXyccZdonMosEiU</td>\n    </tr>\n  </tbody>\n</table>\n<p>81322 rows × 2 columns</p>\n</div>",
      "text/plain": "                        name                     uri\n0                    2:00 AM  4tN3rZ7cChj4Wns2Wt2Nj6\n1                       2:15  4HsOm6VNKZtGh8W8GhdNu4\n2                       2:54  3LsQKoRgMc8VEkQn66jfAQ\n3                       4:20  5KCG0FDMDPzQpxcohGUnyH\n4                       6:30  5abblGojcZoe3zZBhJFBUi\n...                      ...                     ...\n81317                    黃曉明  53F8atvCmVFVOvnKwZXBd3\n81318                    黃玠瑋  6VI0p0xTjBKKxQN8i8vGpD\n81319                    黃義達  7kaq0LysuRSgBZSorlZ7Vj\n81320  黃顯忠 (Huang Xianzhong)  7MuuEryyseo5cvReO6gdPF\n81321                #ERROR!  1easDqNuXyccZdonMosEiU\n\n[81322 rows x 2 columns]"
     },
     "execution_count": 6,
     "metadata": {},
     "output_type": "execute_result"
    }
   ],
   "source": [
    "artistsDF = pd.read_csv('artist-uris.csv')\n",
    "artistsDF.columns=['name', 'uri']\n",
    "artistsDF['uri'] = artistsDF['uri'].apply(lambda uri: uri.split(':')[2])\n",
    "\n",
    "artistsDF"
   ]
  },
  {
   "cell_type": "code",
   "execution_count": 5,
   "metadata": {},
   "outputs": [
    {
     "data": {
      "text/html": "<div>\n<style scoped>\n    .dataframe tbody tr th:only-of-type {\n        vertical-align: middle;\n    }\n\n    .dataframe tbody tr th {\n        vertical-align: top;\n    }\n\n    .dataframe thead th {\n        text-align: right;\n    }\n</style>\n<table border=\"1\" class=\"dataframe\">\n  <thead>\n    <tr style=\"text-align: right;\">\n      <th></th>\n      <th>name</th>\n      <th>uri</th>\n      <th>genres</th>\n    </tr>\n  </thead>\n  <tbody>\n    <tr>\n      <th>0</th>\n      <td>I Love This Life</td>\n      <td>5d0iu7Mc64GwJIMBGjDt2U</td>\n      <td>[contemporary country, country pop, country ra...</td>\n    </tr>\n    <tr>\n      <th>1</th>\n      <td>Sunday Morning</td>\n      <td>0BzIw053LdsgAu8Sb1baIn</td>\n      <td>[contemporary country, country, country pop, c...</td>\n    </tr>\n    <tr>\n      <th>2</th>\n      <td>Sun Daze</td>\n      <td>0El2Zyt68nYySFDG87hZgM</td>\n      <td>[dance pop, hip hop, pop rap, rap, southern hi...</td>\n    </tr>\n    <tr>\n      <th>3</th>\n      <td>Courtesy Of The Red, White And Blue (The Angry...</td>\n      <td>0M7mWKqwTIaVjYyxfZmtTa</td>\n      <td>[contemporary country, country, country road, ...</td>\n    </tr>\n    <tr>\n      <th>4</th>\n      <td>Loving You Easy</td>\n      <td>4ieqNz8S9pvnA0inetRkE3</td>\n      <td>[contemporary country, country, country road, ...</td>\n    </tr>\n    <tr>\n      <th>...</th>\n      <td>...</td>\n      <td>...</td>\n      <td>...</td>\n    </tr>\n    <tr>\n      <th>381</th>\n      <td>Country Folks - Livin' Loud</td>\n      <td>1P7fYBkHMxj3rQI8rUzIZo</td>\n      <td>[country, country road, modern country rock]</td>\n    </tr>\n    <tr>\n      <th>382</th>\n      <td>Wine, Beer, Whiskey</td>\n      <td>5avVDmK9FVJpd3MDO8I3Zl</td>\n      <td>[contemporary country, country, country dawn, ...</td>\n    </tr>\n    <tr>\n      <th>383</th>\n      <td>Home Run</td>\n      <td>3WcQxf3f924vU8Ae6GNJ16</td>\n      <td>[arkansas country, contemporary country, count...</td>\n    </tr>\n    <tr>\n      <th>384</th>\n      <td>Lonely One</td>\n      <td>5w5fbyYHo5129Ce4c7qeWa</td>\n      <td>[contemporary country]</td>\n    </tr>\n    <tr>\n      <th>385</th>\n      <td>Life of a Workin' Man</td>\n      <td>7w7kTTRdZ0huPsJR4UheEA</td>\n      <td>[redneck, roots americana]</td>\n    </tr>\n  </tbody>\n</table>\n<p>386 rows × 3 columns</p>\n</div>",
      "text/plain": "                                                  name  \\\n0                                     I Love This Life   \n1                                       Sunday Morning   \n2                                             Sun Daze   \n3    Courtesy Of The Red, White And Blue (The Angry...   \n4                                      Loving You Easy   \n..                                                 ...   \n381                        Country Folks - Livin' Loud   \n382                                Wine, Beer, Whiskey   \n383                                           Home Run   \n384                                         Lonely One   \n385                              Life of a Workin' Man   \n\n                        uri                                             genres  \n0    5d0iu7Mc64GwJIMBGjDt2U  [contemporary country, country pop, country ra...  \n1    0BzIw053LdsgAu8Sb1baIn  [contemporary country, country, country pop, c...  \n2    0El2Zyt68nYySFDG87hZgM  [dance pop, hip hop, pop rap, rap, southern hi...  \n3    0M7mWKqwTIaVjYyxfZmtTa  [contemporary country, country, country road, ...  \n4    4ieqNz8S9pvnA0inetRkE3  [contemporary country, country, country road, ...  \n..                      ...                                                ...  \n381  1P7fYBkHMxj3rQI8rUzIZo       [country, country road, modern country rock]  \n382  5avVDmK9FVJpd3MDO8I3Zl  [contemporary country, country, country dawn, ...  \n383  3WcQxf3f924vU8Ae6GNJ16  [arkansas country, contemporary country, count...  \n384  5w5fbyYHo5129Ce4c7qeWa                             [contemporary country]  \n385  7w7kTTRdZ0huPsJR4UheEA                         [redneck, roots americana]  \n\n[386 rows x 3 columns]"
     },
     "execution_count": 5,
     "metadata": {},
     "output_type": "execute_result"
    }
   ],
   "source": [
    "uri = playlistDF[playlistDF['name'] == 'country']['uri'].values[0]\n",
    "\n",
    "songsDF = wrapper.getSongsFromPlaylist(uri, 'mikeydays')\n",
    "songsDF"
   ]
  },
  {
   "cell_type": "code",
   "execution_count": 11,
   "metadata": {},
   "outputs": [
    {
     "data": {
      "text/html": "<div>\n<style scoped>\n    .dataframe tbody tr th:only-of-type {\n        vertical-align: middle;\n    }\n\n    .dataframe tbody tr th {\n        vertical-align: top;\n    }\n\n    .dataframe thead th {\n        text-align: right;\n    }\n</style>\n<table border=\"1\" class=\"dataframe\">\n  <thead>\n    <tr style=\"text-align: right;\">\n      <th></th>\n      <th>name</th>\n      <th>uri</th>\n      <th>genres</th>\n    </tr>\n  </thead>\n  <tbody>\n    <tr>\n      <th>0</th>\n      <td>Jackpot (The Him Remix)</td>\n      <td>6NSjdFYF2zxgQ7UvsKoRxy</td>\n      <td>[canadian electropop]</td>\n    </tr>\n    <tr>\n      <th>1</th>\n      <td>White Tiger - Single Version</td>\n      <td>64I0PKLFEKlcvc7fEVUGq0</td>\n      <td>[chill r&amp;b, pop, uk pop]</td>\n    </tr>\n    <tr>\n      <th>2</th>\n      <td>Energy</td>\n      <td>79XrkTOfV1AqySNjVlygpW</td>\n      <td>[canadian hip hop, canadian pop, hip hop, pop ...</td>\n    </tr>\n    <tr>\n      <th>3</th>\n      <td>Our Love</td>\n      <td>4MyyNsp3aBr0SKSKENNpDT</td>\n      <td>[dance pop, pop rap]</td>\n    </tr>\n    <tr>\n      <th>4</th>\n      <td>Running Out</td>\n      <td>2H8LPaY3NSjmOFMH2Rygnz</td>\n      <td>[boy band, dance pop, pop, post-teen pop]</td>\n    </tr>\n    <tr>\n      <th>...</th>\n      <td>...</td>\n      <td>...</td>\n      <td>...</td>\n    </tr>\n    <tr>\n      <th>301</th>\n      <td>Supernova</td>\n      <td>0sAA3arXOVoczn884kfDpx</td>\n      <td>[vapor soul]</td>\n    </tr>\n    <tr>\n      <th>302</th>\n      <td>HUMBLE. - SKRILLEX REMIX</td>\n      <td>65ES1qwOB577ZnTkizMXJJ</td>\n      <td>[edm, electro house, pop dance]</td>\n    </tr>\n    <tr>\n      <th>303</th>\n      <td>You Got to Love Me</td>\n      <td>7uRRcR7qb7nJSaLfSQlWiL</td>\n      <td>[electronica, german techno, hamburg electroni...</td>\n    </tr>\n    <tr>\n      <th>304</th>\n      <td>Be Yourself (Extended Mix)</td>\n      <td>73F14MUC2YyZQn7reIJfEr</td>\n      <td>[french indie pop, french indietronica, indie ...</td>\n    </tr>\n    <tr>\n      <th>305</th>\n      <td>Apolune</td>\n      <td>315sgToRVTKGpOVNf8Ak5Q</td>\n      <td>[deep house, electronica, indie soul]</td>\n    </tr>\n  </tbody>\n</table>\n<p>306 rows × 3 columns</p>\n</div>",
      "text/plain": "                             name                     uri  \\\n0         Jackpot (The Him Remix)  6NSjdFYF2zxgQ7UvsKoRxy   \n1    White Tiger - Single Version  64I0PKLFEKlcvc7fEVUGq0   \n2                          Energy  79XrkTOfV1AqySNjVlygpW   \n3                        Our Love  4MyyNsp3aBr0SKSKENNpDT   \n4                     Running Out  2H8LPaY3NSjmOFMH2Rygnz   \n..                            ...                     ...   \n301                     Supernova  0sAA3arXOVoczn884kfDpx   \n302      HUMBLE. - SKRILLEX REMIX  65ES1qwOB577ZnTkizMXJJ   \n303            You Got to Love Me  7uRRcR7qb7nJSaLfSQlWiL   \n304    Be Yourself (Extended Mix)  73F14MUC2YyZQn7reIJfEr   \n305                       Apolune  315sgToRVTKGpOVNf8Ak5Q   \n\n                                                genres  \n0                                [canadian electropop]  \n1                             [chill r&b, pop, uk pop]  \n2    [canadian hip hop, canadian pop, hip hop, pop ...  \n3                                 [dance pop, pop rap]  \n4            [boy band, dance pop, pop, post-teen pop]  \n..                                                 ...  \n301                                       [vapor soul]  \n302                    [edm, electro house, pop dance]  \n303  [electronica, german techno, hamburg electroni...  \n304  [french indie pop, french indietronica, indie ...  \n305              [deep house, electronica, indie soul]  \n\n[306 rows x 3 columns]"
     },
     "execution_count": 11,
     "metadata": {},
     "output_type": "execute_result"
    }
   ],
   "source": [
    "# 0Vjhah37el0Aq5yoRaujBz\n",
    "energeticDF = wrapper.getSongsFromPlaylist('0Vjhah37el0Aq5yoRaujBz', 'Jeffry Harrison')\n",
    "energeticDF"
   ]
  },
  {
   "cell_type": "code",
   "execution_count": 14,
   "metadata": {},
   "outputs": [
    {
     "data": {
      "text/html": "<div>\n<style scoped>\n    .dataframe tbody tr th:only-of-type {\n        vertical-align: middle;\n    }\n\n    .dataframe tbody tr th {\n        vertical-align: top;\n    }\n\n    .dataframe thead th {\n        text-align: right;\n    }\n</style>\n<table border=\"1\" class=\"dataframe\">\n  <thead>\n    <tr style=\"text-align: right;\">\n      <th></th>\n      <th>name</th>\n      <th>uri</th>\n      <th>genres</th>\n      <th>mood</th>\n    </tr>\n  </thead>\n  <tbody>\n    <tr>\n      <th>0</th>\n      <td>Jackpot (The Him Remix)</td>\n      <td>6NSjdFYF2zxgQ7UvsKoRxy</td>\n      <td>[canadian electropop]</td>\n      <td>energetic</td>\n    </tr>\n    <tr>\n      <th>1</th>\n      <td>White Tiger - Single Version</td>\n      <td>64I0PKLFEKlcvc7fEVUGq0</td>\n      <td>[chill r&amp;b, pop, uk pop]</td>\n      <td>energetic</td>\n    </tr>\n    <tr>\n      <th>2</th>\n      <td>Energy</td>\n      <td>79XrkTOfV1AqySNjVlygpW</td>\n      <td>[canadian hip hop, canadian pop, hip hop, pop ...</td>\n      <td>energetic</td>\n    </tr>\n    <tr>\n      <th>3</th>\n      <td>Our Love</td>\n      <td>4MyyNsp3aBr0SKSKENNpDT</td>\n      <td>[dance pop, pop rap]</td>\n      <td>energetic</td>\n    </tr>\n    <tr>\n      <th>4</th>\n      <td>Running Out</td>\n      <td>2H8LPaY3NSjmOFMH2Rygnz</td>\n      <td>[boy band, dance pop, pop, post-teen pop]</td>\n      <td>energetic</td>\n    </tr>\n    <tr>\n      <th>...</th>\n      <td>...</td>\n      <td>...</td>\n      <td>...</td>\n      <td>...</td>\n    </tr>\n    <tr>\n      <th>301</th>\n      <td>Supernova</td>\n      <td>0sAA3arXOVoczn884kfDpx</td>\n      <td>[vapor soul]</td>\n      <td>energetic</td>\n    </tr>\n    <tr>\n      <th>302</th>\n      <td>HUMBLE. - SKRILLEX REMIX</td>\n      <td>65ES1qwOB577ZnTkizMXJJ</td>\n      <td>[edm, electro house, pop dance]</td>\n      <td>energetic</td>\n    </tr>\n    <tr>\n      <th>303</th>\n      <td>You Got to Love Me</td>\n      <td>7uRRcR7qb7nJSaLfSQlWiL</td>\n      <td>[electronica, german techno, hamburg electroni...</td>\n      <td>energetic</td>\n    </tr>\n    <tr>\n      <th>304</th>\n      <td>Be Yourself (Extended Mix)</td>\n      <td>73F14MUC2YyZQn7reIJfEr</td>\n      <td>[french indie pop, french indietronica, indie ...</td>\n      <td>energetic</td>\n    </tr>\n    <tr>\n      <th>305</th>\n      <td>Apolune</td>\n      <td>315sgToRVTKGpOVNf8Ak5Q</td>\n      <td>[deep house, electronica, indie soul]</td>\n      <td>energetic</td>\n    </tr>\n  </tbody>\n</table>\n<p>306 rows × 4 columns</p>\n</div>",
      "text/plain": "                             name                     uri  \\\n0         Jackpot (The Him Remix)  6NSjdFYF2zxgQ7UvsKoRxy   \n1    White Tiger - Single Version  64I0PKLFEKlcvc7fEVUGq0   \n2                          Energy  79XrkTOfV1AqySNjVlygpW   \n3                        Our Love  4MyyNsp3aBr0SKSKENNpDT   \n4                     Running Out  2H8LPaY3NSjmOFMH2Rygnz   \n..                            ...                     ...   \n301                     Supernova  0sAA3arXOVoczn884kfDpx   \n302      HUMBLE. - SKRILLEX REMIX  65ES1qwOB577ZnTkizMXJJ   \n303            You Got to Love Me  7uRRcR7qb7nJSaLfSQlWiL   \n304    Be Yourself (Extended Mix)  73F14MUC2YyZQn7reIJfEr   \n305                       Apolune  315sgToRVTKGpOVNf8Ak5Q   \n\n                                                genres       mood  \n0                                [canadian electropop]  energetic  \n1                             [chill r&b, pop, uk pop]  energetic  \n2    [canadian hip hop, canadian pop, hip hop, pop ...  energetic  \n3                                 [dance pop, pop rap]  energetic  \n4            [boy band, dance pop, pop, post-teen pop]  energetic  \n..                                                 ...        ...  \n301                                       [vapor soul]  energetic  \n302                    [edm, electro house, pop dance]  energetic  \n303  [electronica, german techno, hamburg electroni...  energetic  \n304  [french indie pop, french indietronica, indie ...  energetic  \n305              [deep house, electronica, indie soul]  energetic  \n\n[306 rows x 4 columns]"
     },
     "execution_count": 14,
     "metadata": {},
     "output_type": "execute_result"
    }
   ],
   "source": [
    "energeticDF['mood'] = 'energetic'\n",
    "energeticDF"
   ]
  },
  {
   "cell_type": "code",
   "execution_count": 66,
   "metadata": {},
   "outputs": [
    {
     "data": {
      "text/html": "<div>\n<style scoped>\n    .dataframe tbody tr th:only-of-type {\n        vertical-align: middle;\n    }\n\n    .dataframe tbody tr th {\n        vertical-align: top;\n    }\n\n    .dataframe thead th {\n        text-align: right;\n    }\n</style>\n<table border=\"1\" class=\"dataframe\">\n  <thead>\n    <tr style=\"text-align: right;\">\n      <th></th>\n      <th>name</th>\n      <th>uri</th>\n      <th>genres</th>\n    </tr>\n  </thead>\n  <tbody>\n    <tr>\n      <th>0</th>\n      <td>Twist And Shout - Remastered</td>\n      <td>4Z1fbYp0HuxLBje4MOZcSD</td>\n      <td>[beatlesque, british invasion, classic rock, m...</td>\n    </tr>\n    <tr>\n      <th>1</th>\n      <td>Hooked on a Feeling</td>\n      <td>6Ac4NVYYl2U73QiTt11ZKd</td>\n      <td>[classic swedish pop]</td>\n    </tr>\n    <tr>\n      <th>2</th>\n      <td>A-Punk</td>\n      <td>5dKBaysNJtfpyNTRa5lqDb</td>\n      <td>[baroque pop, indie pop, indie rock, modern rock]</td>\n    </tr>\n    <tr>\n      <th>3</th>\n      <td>Don't Stop Me Now</td>\n      <td>2RknY4IqSPwagR0v5wchIW</td>\n      <td>[electropop, modern rock, pop, pop rap]</td>\n    </tr>\n    <tr>\n      <th>4</th>\n      <td>Uptown Funk (feat. Bruno Mars)</td>\n      <td>4rmPQGwcLQjCoFq5NrTA0D</td>\n      <td>[dance pop, neo soul, pop]</td>\n    </tr>\n    <tr>\n      <th>...</th>\n      <td>...</td>\n      <td>...</td>\n      <td>...</td>\n    </tr>\n    <tr>\n      <th>215</th>\n      <td>It's a Beautiful Day</td>\n      <td>0mvkwaZMP2gAy2ApQLtZRv</td>\n      <td>[adult standards, canadian pop, jazz pop, lounge]</td>\n    </tr>\n    <tr>\n      <th>216</th>\n      <td>What You Know</td>\n      <td>1qfYG2JrchEyJiqKnkE7YQ</td>\n      <td>[alternative dance, indie rock, indietronica, ...</td>\n    </tr>\n    <tr>\n      <th>217</th>\n      <td>S.O.B.</td>\n      <td>41K81NpjapePhBdIKC3QFQ</td>\n      <td>[funk, indie folk, modern blues rock, new amer...</td>\n    </tr>\n    <tr>\n      <th>218</th>\n      <td>Black Or White</td>\n      <td>5YAY2D4s3o0QNOpFwEsynX</td>\n      <td>[pop, r&amp;b, soul]</td>\n    </tr>\n    <tr>\n      <th>219</th>\n      <td>Alright</td>\n      <td>5xC8uOesnn0udeXAYlAnoY</td>\n      <td>[alternative rock, britpop, modern rock, oxfor...</td>\n    </tr>\n  </tbody>\n</table>\n<p>220 rows × 3 columns</p>\n</div>",
      "text/plain": "                               name                     uri  \\\n0      Twist And Shout - Remastered  4Z1fbYp0HuxLBje4MOZcSD   \n1               Hooked on a Feeling  6Ac4NVYYl2U73QiTt11ZKd   \n2                            A-Punk  5dKBaysNJtfpyNTRa5lqDb   \n3                 Don't Stop Me Now  2RknY4IqSPwagR0v5wchIW   \n4    Uptown Funk (feat. Bruno Mars)  4rmPQGwcLQjCoFq5NrTA0D   \n..                              ...                     ...   \n215            It's a Beautiful Day  0mvkwaZMP2gAy2ApQLtZRv   \n216                   What You Know  1qfYG2JrchEyJiqKnkE7YQ   \n217                          S.O.B.  41K81NpjapePhBdIKC3QFQ   \n218                  Black Or White  5YAY2D4s3o0QNOpFwEsynX   \n219                         Alright  5xC8uOesnn0udeXAYlAnoY   \n\n                                                genres  \n0    [beatlesque, british invasion, classic rock, m...  \n1                                [classic swedish pop]  \n2    [baroque pop, indie pop, indie rock, modern rock]  \n3              [electropop, modern rock, pop, pop rap]  \n4                           [dance pop, neo soul, pop]  \n..                                                 ...  \n215  [adult standards, canadian pop, jazz pop, lounge]  \n216  [alternative dance, indie rock, indietronica, ...  \n217  [funk, indie folk, modern blues rock, new amer...  \n218                                   [pop, r&b, soul]  \n219  [alternative rock, britpop, modern rock, oxfor...  \n\n[220 rows x 3 columns]"
     },
     "execution_count": 66,
     "metadata": {},
     "output_type": "execute_result"
    }
   ],
   "source": [
    "happyDF1 = wrapper.getSongsFromPlaylist('4AnAUkQNrLKlJCInZGSXRO', 'Indiemono')\n",
    "happyDF1"
   ]
  },
  {
   "cell_type": "code",
   "execution_count": 67,
   "metadata": {},
   "outputs": [
    {
     "data": {
      "text/html": "<div>\n<style scoped>\n    .dataframe tbody tr th:only-of-type {\n        vertical-align: middle;\n    }\n\n    .dataframe tbody tr th {\n        vertical-align: top;\n    }\n\n    .dataframe thead th {\n        text-align: right;\n    }\n</style>\n<table border=\"1\" class=\"dataframe\">\n  <thead>\n    <tr style=\"text-align: right;\">\n      <th></th>\n      <th>name</th>\n      <th>uri</th>\n      <th>genres</th>\n    </tr>\n  </thead>\n  <tbody>\n    <tr>\n      <th>0</th>\n      <td>You Make My Dreams</td>\n      <td>0293bTPojlkLvyr8ojc74y</td>\n      <td>[album rock, classic rock, folk rock, mellow g...</td>\n    </tr>\n    <tr>\n      <th>1</th>\n      <td>How Will I Know</td>\n      <td>5tdKaKLnC4SgtDZ6RlWeal</td>\n      <td>[dance pop, pop, urban contemporary]</td>\n    </tr>\n    <tr>\n      <th>2</th>\n      <td>Don't You Worry 'Bout A Thing</td>\n      <td>4RXZXxI9xvfVUeE7SYDPDV</td>\n      <td>[adult standards, funk, indie r&amp;b, motown, qui...</td>\n    </tr>\n    <tr>\n      <th>3</th>\n      <td>Hakuna Matata - From \"The Lion King\"/Soundtrack</td>\n      <td>5k3U0OGYBccHdKJJu3HrUN</td>\n      <td>[broadway, disney, hollywood, movie tunes, sho...</td>\n    </tr>\n    <tr>\n      <th>4</th>\n      <td>Happy</td>\n      <td>6NPVjNh8Jhru9xOmyQigds</td>\n      <td>[latin, reggaeton, reggaeton colombiano, trap ...</td>\n    </tr>\n    <tr>\n      <th>5</th>\n      <td>In the Summertime (Re-Recorded)</td>\n      <td>6fOXeZLwVZ1J48d3xz6JnY</td>\n      <td>[british blues, bubblegum pop, classic uk pop]</td>\n    </tr>\n    <tr>\n      <th>6</th>\n      <td>Twistin' The Night Away</td>\n      <td>3I3W71Hi6zFnXIeGHJuauN</td>\n      <td>[adult standards, brill building pop, classic ...</td>\n    </tr>\n    <tr>\n      <th>7</th>\n      <td>Love Rollercoaster</td>\n      <td>6OBeM4d4RGzxcMphQVSgED</td>\n      <td>[classic soul, disco, funk, jazz funk, motown,...</td>\n    </tr>\n    <tr>\n      <th>8</th>\n      <td>Send Me on My Way</td>\n      <td>6hs3SDnbO3f6VQuPO4KBEb</td>\n      <td>[jam band, pittsburgh rock]</td>\n    </tr>\n    <tr>\n      <th>9</th>\n      <td>I Get Around</td>\n      <td>3mXexrmtPJ1KdWN37rYePx</td>\n      <td>[baroque pop, brill building pop, classic rock...</td>\n    </tr>\n    <tr>\n      <th>10</th>\n      <td>Ain't Too Proud To Beg</td>\n      <td>22x73BTJpIkciL7605zZ66</td>\n      <td>[brill building pop, classic soul, funk, memph...</td>\n    </tr>\n    <tr>\n      <th>11</th>\n      <td>Love On Top</td>\n      <td>1z6WtY7X4HQJvzxC4UgkSf</td>\n      <td>[houston rap, pop, pop rap, trap queen]</td>\n    </tr>\n    <tr>\n      <th>12</th>\n      <td>Walking On Sunshine</td>\n      <td>05wIrZSwuaVWhcv5FfqeH0</td>\n      <td>[new wave pop]</td>\n    </tr>\n    <tr>\n      <th>13</th>\n      <td>Beyond the Sea</td>\n      <td>2EIaO5knwUA3F2qnf9LV3S</td>\n      <td>[adult standards, brill building pop, easy lis...</td>\n    </tr>\n    <tr>\n      <th>14</th>\n      <td>Dream of Bombay</td>\n      <td>0ikd6zPPVvJefH8gN3IuKw</td>\n      <td>[australian alternative rock, australian garag...</td>\n    </tr>\n    <tr>\n      <th>15</th>\n      <td>The Twist</td>\n      <td>3ohLnESFgYACPMCkoTOzqE</td>\n      <td>[adult standards, brill building pop, bubblegu...</td>\n    </tr>\n    <tr>\n      <th>16</th>\n      <td>Don't Worry Be Happy</td>\n      <td>4v52HuhZqVV0eNpP6vzH5I</td>\n      <td>[a cappella]</td>\n    </tr>\n    <tr>\n      <th>17</th>\n      <td>Tequila (Re-Recorded)</td>\n      <td>4VkHBfAfYw7TexAMDRDoQq</td>\n      <td>[rock-and-roll, rockabilly]</td>\n    </tr>\n    <tr>\n      <th>18</th>\n      <td>Come On Eileen</td>\n      <td>0EMmVUYs9ZZRHtlADB88uz</td>\n      <td>[bow pop, new romantic, new wave, new wave pop]</td>\n    </tr>\n    <tr>\n      <th>19</th>\n      <td>Once in a Lifetime</td>\n      <td>1Tr4K5MU5XYE44umXGDndd</td>\n      <td>[art punk, art rock, dance rock, funk rock, ne...</td>\n    </tr>\n  </tbody>\n</table>\n</div>",
      "text/plain": "                                               name                     uri  \\\n0                                You Make My Dreams  0293bTPojlkLvyr8ojc74y   \n1                                   How Will I Know  5tdKaKLnC4SgtDZ6RlWeal   \n2                     Don't You Worry 'Bout A Thing  4RXZXxI9xvfVUeE7SYDPDV   \n3   Hakuna Matata - From \"The Lion King\"/Soundtrack  5k3U0OGYBccHdKJJu3HrUN   \n4                                             Happy  6NPVjNh8Jhru9xOmyQigds   \n5                   In the Summertime (Re-Recorded)  6fOXeZLwVZ1J48d3xz6JnY   \n6                           Twistin' The Night Away  3I3W71Hi6zFnXIeGHJuauN   \n7                                Love Rollercoaster  6OBeM4d4RGzxcMphQVSgED   \n8                                 Send Me on My Way  6hs3SDnbO3f6VQuPO4KBEb   \n9                                      I Get Around  3mXexrmtPJ1KdWN37rYePx   \n10                           Ain't Too Proud To Beg  22x73BTJpIkciL7605zZ66   \n11                                      Love On Top  1z6WtY7X4HQJvzxC4UgkSf   \n12                              Walking On Sunshine  05wIrZSwuaVWhcv5FfqeH0   \n13                                   Beyond the Sea  2EIaO5knwUA3F2qnf9LV3S   \n14                                  Dream of Bombay  0ikd6zPPVvJefH8gN3IuKw   \n15                                        The Twist  3ohLnESFgYACPMCkoTOzqE   \n16                             Don't Worry Be Happy  4v52HuhZqVV0eNpP6vzH5I   \n17                            Tequila (Re-Recorded)  4VkHBfAfYw7TexAMDRDoQq   \n18                                   Come On Eileen  0EMmVUYs9ZZRHtlADB88uz   \n19                               Once in a Lifetime  1Tr4K5MU5XYE44umXGDndd   \n\n                                               genres  \n0   [album rock, classic rock, folk rock, mellow g...  \n1                [dance pop, pop, urban contemporary]  \n2   [adult standards, funk, indie r&b, motown, qui...  \n3   [broadway, disney, hollywood, movie tunes, sho...  \n4   [latin, reggaeton, reggaeton colombiano, trap ...  \n5      [british blues, bubblegum pop, classic uk pop]  \n6   [adult standards, brill building pop, classic ...  \n7   [classic soul, disco, funk, jazz funk, motown,...  \n8                         [jam band, pittsburgh rock]  \n9   [baroque pop, brill building pop, classic rock...  \n10  [brill building pop, classic soul, funk, memph...  \n11            [houston rap, pop, pop rap, trap queen]  \n12                                     [new wave pop]  \n13  [adult standards, brill building pop, easy lis...  \n14  [australian alternative rock, australian garag...  \n15  [adult standards, brill building pop, bubblegu...  \n16                                       [a cappella]  \n17                        [rock-and-roll, rockabilly]  \n18    [bow pop, new romantic, new wave, new wave pop]  \n19  [art punk, art rock, dance rock, funk rock, ne...  "
     },
     "execution_count": 67,
     "metadata": {},
     "output_type": "execute_result"
    }
   ],
   "source": [
    "happyDF2 = wrapper.getSongsFromPlaylist('3d67ufMEJnDAd8PBsVBF8m', 'Greatist')\n",
    "happyDF2"
   ]
  },
  {
   "cell_type": "code",
   "execution_count": 68,
   "metadata": {},
   "outputs": [
    {
     "data": {
      "text/html": "<div>\n<style scoped>\n    .dataframe tbody tr th:only-of-type {\n        vertical-align: middle;\n    }\n\n    .dataframe tbody tr th {\n        vertical-align: top;\n    }\n\n    .dataframe thead th {\n        text-align: right;\n    }\n</style>\n<table border=\"1\" class=\"dataframe\">\n  <thead>\n    <tr style=\"text-align: right;\">\n      <th></th>\n      <th>name</th>\n      <th>uri</th>\n      <th>genres</th>\n    </tr>\n  </thead>\n  <tbody>\n    <tr>\n      <th>0</th>\n      <td>Friday (feat. Mufasa &amp; Hypeman) - Dopamine Re-...</td>\n      <td>4cG7HUWYHBV6R6tHn1gxrl</td>\n      <td>[dance pop, house, pop dance, tropical house, ...</td>\n    </tr>\n    <tr>\n      <th>1</th>\n      <td>What I Like About You (feat. Theresa Rex)</td>\n      <td>4NSW0Km5ZG60L8FthUebPJ</td>\n      <td>[dance pop, edm, pop, pop dance, post-teen pop...</td>\n    </tr>\n    <tr>\n      <th>2</th>\n      <td>Wellerman - Sea Shanty / 220 KID x Billen Ted ...</td>\n      <td>3iw6V4LH7yPj1ESORX9RIN</td>\n      <td>[]</td>\n    </tr>\n    <tr>\n      <th>3</th>\n      <td>Hot Stuff</td>\n      <td>00ETaeHUQ6lops3oWU1Wrt</td>\n      <td>[edm, pop, pop dance, tropical house]</td>\n    </tr>\n    <tr>\n      <th>4</th>\n      <td>Sunday Smile</td>\n      <td>3U2imIBWN0BnTS516Lhjfr</td>\n      <td>[]</td>\n    </tr>\n    <tr>\n      <th>...</th>\n      <td>...</td>\n      <td>...</td>\n      <td>...</td>\n    </tr>\n    <tr>\n      <th>95</th>\n      <td>Tangerine Skies</td>\n      <td>2VvHa9p1kkTmaCMq0exODA</td>\n      <td>[indie cafe pop, uk pop]</td>\n    </tr>\n    <tr>\n      <th>96</th>\n      <td>Friends</td>\n      <td>18RdChpgvaAO7GXDjLks2B</td>\n      <td>[dance pop, indie cafe pop, pop, pop dance, po...</td>\n    </tr>\n    <tr>\n      <th>97</th>\n      <td>I Don't Care (with Justin Bieber)</td>\n      <td>3HVWdVOQ0ZA45FuZGSfvns</td>\n      <td>[pop, uk pop]</td>\n    </tr>\n    <tr>\n      <th>98</th>\n      <td>Slow Clap (with Saweetie)</td>\n      <td>0xLf1SbCnuFfBRbDNauT5b</td>\n      <td>[dance pop, hip pop, pop, pop rock, post-teen ...</td>\n    </tr>\n    <tr>\n      <th>99</th>\n      <td>Rewrite The Stars (with James Arthur &amp; Anne-Ma...</td>\n      <td>78nplE9X2ZGvQh3TKgvldE</td>\n      <td>[pop, post-teen pop, talent show, uk pop]</td>\n    </tr>\n  </tbody>\n</table>\n<p>100 rows × 3 columns</p>\n</div>",
      "text/plain": "                                                 name                     uri  \\\n0   Friday (feat. Mufasa & Hypeman) - Dopamine Re-...  4cG7HUWYHBV6R6tHn1gxrl   \n1           What I Like About You (feat. Theresa Rex)  4NSW0Km5ZG60L8FthUebPJ   \n2   Wellerman - Sea Shanty / 220 KID x Billen Ted ...  3iw6V4LH7yPj1ESORX9RIN   \n3                                           Hot Stuff  00ETaeHUQ6lops3oWU1Wrt   \n4                                        Sunday Smile  3U2imIBWN0BnTS516Lhjfr   \n..                                                ...                     ...   \n95                                    Tangerine Skies  2VvHa9p1kkTmaCMq0exODA   \n96                                            Friends  18RdChpgvaAO7GXDjLks2B   \n97                  I Don't Care (with Justin Bieber)  3HVWdVOQ0ZA45FuZGSfvns   \n98                          Slow Clap (with Saweetie)  0xLf1SbCnuFfBRbDNauT5b   \n99  Rewrite The Stars (with James Arthur & Anne-Ma...  78nplE9X2ZGvQh3TKgvldE   \n\n                                               genres  \n0   [dance pop, house, pop dance, tropical house, ...  \n1   [dance pop, edm, pop, pop dance, post-teen pop...  \n2                                                  []  \n3               [edm, pop, pop dance, tropical house]  \n4                                                  []  \n..                                                ...  \n95                           [indie cafe pop, uk pop]  \n96  [dance pop, indie cafe pop, pop, pop dance, po...  \n97                                      [pop, uk pop]  \n98  [dance pop, hip pop, pop, pop rock, post-teen ...  \n99          [pop, post-teen pop, talent show, uk pop]  \n\n[100 rows x 3 columns]"
     },
     "execution_count": 68,
     "metadata": {},
     "output_type": "execute_result"
    }
   ],
   "source": [
    "happyDF3 = wrapper.getSongsFromPlaylist('37i9dQZF1DXdPec7aLTmlC', 'Spotify')\n",
    "happyDF3"
   ]
  },
  {
   "cell_type": "code",
   "execution_count": 69,
   "metadata": {},
   "outputs": [
    {
     "data": {
      "text/html": "<div>\n<style scoped>\n    .dataframe tbody tr th:only-of-type {\n        vertical-align: middle;\n    }\n\n    .dataframe tbody tr th {\n        vertical-align: top;\n    }\n\n    .dataframe thead th {\n        text-align: right;\n    }\n</style>\n<table border=\"1\" class=\"dataframe\">\n  <thead>\n    <tr style=\"text-align: right;\">\n      <th></th>\n      <th>name</th>\n      <th>uri</th>\n      <th>genres</th>\n      <th>mood</th>\n    </tr>\n  </thead>\n  <tbody>\n    <tr>\n      <th>0</th>\n      <td>Twist And Shout - Remastered</td>\n      <td>4Z1fbYp0HuxLBje4MOZcSD</td>\n      <td>[beatlesque, british invasion, classic rock, m...</td>\n      <td>happy</td>\n    </tr>\n    <tr>\n      <th>1</th>\n      <td>Hooked on a Feeling</td>\n      <td>6Ac4NVYYl2U73QiTt11ZKd</td>\n      <td>[classic swedish pop]</td>\n      <td>happy</td>\n    </tr>\n    <tr>\n      <th>2</th>\n      <td>A-Punk</td>\n      <td>5dKBaysNJtfpyNTRa5lqDb</td>\n      <td>[baroque pop, indie pop, indie rock, modern rock]</td>\n      <td>happy</td>\n    </tr>\n    <tr>\n      <th>3</th>\n      <td>Don't Stop Me Now</td>\n      <td>2RknY4IqSPwagR0v5wchIW</td>\n      <td>[electropop, modern rock, pop, pop rap]</td>\n      <td>happy</td>\n    </tr>\n    <tr>\n      <th>4</th>\n      <td>Uptown Funk (feat. Bruno Mars)</td>\n      <td>4rmPQGwcLQjCoFq5NrTA0D</td>\n      <td>[dance pop, neo soul, pop]</td>\n      <td>happy</td>\n    </tr>\n    <tr>\n      <th>...</th>\n      <td>...</td>\n      <td>...</td>\n      <td>...</td>\n      <td>...</td>\n    </tr>\n    <tr>\n      <th>326</th>\n      <td>Tangerine Skies</td>\n      <td>2VvHa9p1kkTmaCMq0exODA</td>\n      <td>[indie cafe pop, uk pop]</td>\n      <td>happy</td>\n    </tr>\n    <tr>\n      <th>327</th>\n      <td>Friends</td>\n      <td>18RdChpgvaAO7GXDjLks2B</td>\n      <td>[dance pop, indie cafe pop, pop, pop dance, po...</td>\n      <td>happy</td>\n    </tr>\n    <tr>\n      <th>328</th>\n      <td>I Don't Care (with Justin Bieber)</td>\n      <td>3HVWdVOQ0ZA45FuZGSfvns</td>\n      <td>[pop, uk pop]</td>\n      <td>happy</td>\n    </tr>\n    <tr>\n      <th>329</th>\n      <td>Slow Clap (with Saweetie)</td>\n      <td>0xLf1SbCnuFfBRbDNauT5b</td>\n      <td>[dance pop, hip pop, pop, pop rock, post-teen ...</td>\n      <td>happy</td>\n    </tr>\n    <tr>\n      <th>330</th>\n      <td>Rewrite The Stars (with James Arthur &amp; Anne-Ma...</td>\n      <td>78nplE9X2ZGvQh3TKgvldE</td>\n      <td>[pop, post-teen pop, talent show, uk pop]</td>\n      <td>happy</td>\n    </tr>\n  </tbody>\n</table>\n<p>331 rows × 4 columns</p>\n</div>",
      "text/plain": "                                                  name  \\\n0                         Twist And Shout - Remastered   \n1                                  Hooked on a Feeling   \n2                                               A-Punk   \n3                                    Don't Stop Me Now   \n4                       Uptown Funk (feat. Bruno Mars)   \n..                                                 ...   \n326                                    Tangerine Skies   \n327                                            Friends   \n328                  I Don't Care (with Justin Bieber)   \n329                          Slow Clap (with Saweetie)   \n330  Rewrite The Stars (with James Arthur & Anne-Ma...   \n\n                        uri  \\\n0    4Z1fbYp0HuxLBje4MOZcSD   \n1    6Ac4NVYYl2U73QiTt11ZKd   \n2    5dKBaysNJtfpyNTRa5lqDb   \n3    2RknY4IqSPwagR0v5wchIW   \n4    4rmPQGwcLQjCoFq5NrTA0D   \n..                      ...   \n326  2VvHa9p1kkTmaCMq0exODA   \n327  18RdChpgvaAO7GXDjLks2B   \n328  3HVWdVOQ0ZA45FuZGSfvns   \n329  0xLf1SbCnuFfBRbDNauT5b   \n330  78nplE9X2ZGvQh3TKgvldE   \n\n                                                genres   mood  \n0    [beatlesque, british invasion, classic rock, m...  happy  \n1                                [classic swedish pop]  happy  \n2    [baroque pop, indie pop, indie rock, modern rock]  happy  \n3              [electropop, modern rock, pop, pop rap]  happy  \n4                           [dance pop, neo soul, pop]  happy  \n..                                                 ...    ...  \n326                           [indie cafe pop, uk pop]  happy  \n327  [dance pop, indie cafe pop, pop, pop dance, po...  happy  \n328                                      [pop, uk pop]  happy  \n329  [dance pop, hip pop, pop, pop rock, post-teen ...  happy  \n330          [pop, post-teen pop, talent show, uk pop]  happy  \n\n[331 rows x 4 columns]"
     },
     "execution_count": 69,
     "metadata": {},
     "output_type": "execute_result"
    }
   ],
   "source": [
    "happyDF = pd.concat([happyDF1, happyDF2, happyDF3], ignore_index=True).drop_duplicates(subset=['name'], keep='first').reset_index().drop(columns=['index'])\n",
    "happyDF['mood'] = 'happy'\n",
    "happyDF"
   ]
  },
  {
   "cell_type": "code",
   "execution_count": 70,
   "metadata": {},
   "outputs": [
    {
     "data": {
      "text/html": "<div>\n<style scoped>\n    .dataframe tbody tr th:only-of-type {\n        vertical-align: middle;\n    }\n\n    .dataframe tbody tr th {\n        vertical-align: top;\n    }\n\n    .dataframe thead th {\n        text-align: right;\n    }\n</style>\n<table border=\"1\" class=\"dataframe\">\n  <thead>\n    <tr style=\"text-align: right;\">\n      <th></th>\n      <th>name</th>\n      <th>uri</th>\n      <th>genres</th>\n    </tr>\n  </thead>\n  <tbody>\n    <tr>\n      <th>0</th>\n      <td>The A Team</td>\n      <td>2vBF8A6n0REigm7RSUM65S</td>\n      <td>[pop, uk pop]</td>\n    </tr>\n    <tr>\n      <th>1</th>\n      <td>you broke me first</td>\n      <td>45bE4HXI0AwGZXfZtMp8JR</td>\n      <td>[alt z, dance pop, electropop, pop, post-teen ...</td>\n    </tr>\n    <tr>\n      <th>2</th>\n      <td>Bruises</td>\n      <td>4Of7rzpRpV1mWRbhp5rAqG</td>\n      <td>[pop, uk pop]</td>\n    </tr>\n    <tr>\n      <th>3</th>\n      <td>drivers license</td>\n      <td>7lPN2DXiMsVn7XUKtOW1CS</td>\n      <td>[pop, post-teen pop]</td>\n    </tr>\n    <tr>\n      <th>4</th>\n      <td>Falling</td>\n      <td>1ZMiCix7XSAbfAJlEZWMCp</td>\n      <td>[pop, post-teen pop]</td>\n    </tr>\n    <tr>\n      <th>...</th>\n      <td>...</td>\n      <td>...</td>\n      <td>...</td>\n    </tr>\n    <tr>\n      <th>202</th>\n      <td>Florida's Warm</td>\n      <td>18CnKlA6gNAaPdDdMn6wAv</td>\n      <td>[alternative rock, art rock, madchester, new w...</td>\n    </tr>\n    <tr>\n      <th>203</th>\n      <td>Half The World Away</td>\n      <td>21HfUACOv1lgBiYocruoW8</td>\n      <td>[art pop, norwegian pop]</td>\n    </tr>\n    <tr>\n      <th>204</th>\n      <td>Someone You Loved</td>\n      <td>7qEHsqek33rTcFNT9PFqLf</td>\n      <td>[pop, uk pop]</td>\n    </tr>\n    <tr>\n      <th>205</th>\n      <td>Stay Happy</td>\n      <td>7tuV9cleysQqDPQ66Z5FpR</td>\n      <td>[alt z, deep pop edm, electropop, indie poptim...</td>\n    </tr>\n    <tr>\n      <th>206</th>\n      <td>Heal</td>\n      <td>4KlL5Bwlm4yHYxr0B2rHci</td>\n      <td>[modern rock, pop]</td>\n    </tr>\n  </tbody>\n</table>\n<p>207 rows × 3 columns</p>\n</div>",
      "text/plain": "                    name                     uri  \\\n0             The A Team  2vBF8A6n0REigm7RSUM65S   \n1     you broke me first  45bE4HXI0AwGZXfZtMp8JR   \n2                Bruises  4Of7rzpRpV1mWRbhp5rAqG   \n3        drivers license  7lPN2DXiMsVn7XUKtOW1CS   \n4                Falling  1ZMiCix7XSAbfAJlEZWMCp   \n..                   ...                     ...   \n202       Florida's Warm  18CnKlA6gNAaPdDdMn6wAv   \n203  Half The World Away  21HfUACOv1lgBiYocruoW8   \n204    Someone You Loved  7qEHsqek33rTcFNT9PFqLf   \n205           Stay Happy  7tuV9cleysQqDPQ66Z5FpR   \n206                 Heal  4KlL5Bwlm4yHYxr0B2rHci   \n\n                                                genres  \n0                                        [pop, uk pop]  \n1    [alt z, dance pop, electropop, pop, post-teen ...  \n2                                        [pop, uk pop]  \n3                                 [pop, post-teen pop]  \n4                                 [pop, post-teen pop]  \n..                                                 ...  \n202  [alternative rock, art rock, madchester, new w...  \n203                           [art pop, norwegian pop]  \n204                                      [pop, uk pop]  \n205  [alt z, deep pop edm, electropop, indie poptim...  \n206                                 [modern rock, pop]  \n\n[207 rows x 3 columns]"
     },
     "execution_count": 70,
     "metadata": {},
     "output_type": "execute_result"
    }
   ],
   "source": [
    "sadDF1 = wrapper.getSongsFromPlaylist('7ABD15iASBIpPP5uJ5awvq', 'Indiemono')\n",
    "sadDF1"
   ]
  },
  {
   "cell_type": "code",
   "execution_count": 71,
   "metadata": {},
   "outputs": [
    {
     "data": {
      "text/html": "<div>\n<style scoped>\n    .dataframe tbody tr th:only-of-type {\n        vertical-align: middle;\n    }\n\n    .dataframe tbody tr th {\n        vertical-align: top;\n    }\n\n    .dataframe thead th {\n        text-align: right;\n    }\n</style>\n<table border=\"1\" class=\"dataframe\">\n  <thead>\n    <tr style=\"text-align: right;\">\n      <th></th>\n      <th>name</th>\n      <th>uri</th>\n      <th>genres</th>\n    </tr>\n  </thead>\n  <tbody>\n    <tr>\n      <th>0</th>\n      <td>IDK You Yet</td>\n      <td>47EWMOElkkbMp5m9SBkx7d</td>\n      <td>[alt z, electropop, indie cafe pop, pop, post-...</td>\n    </tr>\n    <tr>\n      <th>1</th>\n      <td>Good Without</td>\n      <td>15OCqNPYoLziEAsbVnqRj5</td>\n      <td>[alt z, indie cafe pop, uk pop]</td>\n    </tr>\n    <tr>\n      <th>2</th>\n      <td>Falling</td>\n      <td>1ZMiCix7XSAbfAJlEZWMCp</td>\n      <td>[pop, post-teen pop]</td>\n    </tr>\n    <tr>\n      <th>3</th>\n      <td>Is It Just Me? (feat. JP Cooper)</td>\n      <td>754zNJgoWQaGETFzSYVlmC</td>\n      <td>[alt z, indie cafe pop, uk pop]</td>\n    </tr>\n    <tr>\n      <th>4</th>\n      <td>Train Wreck</td>\n      <td>55Am8neGJkdj2ADaM3aw5H</td>\n      <td>[pop, post-teen pop, talent show, uk pop]</td>\n    </tr>\n    <tr>\n      <th>5</th>\n      <td>you broke me first</td>\n      <td>45bE4HXI0AwGZXfZtMp8JR</td>\n      <td>[alt z, dance pop, electropop, pop, post-teen ...</td>\n    </tr>\n    <tr>\n      <th>6</th>\n      <td>drivers license</td>\n      <td>7lPN2DXiMsVn7XUKtOW1CS</td>\n      <td>[pop, post-teen pop]</td>\n    </tr>\n    <tr>\n      <th>7</th>\n      <td>Another Love</td>\n      <td>3JvKfv6T31zO0ini8iNItO</td>\n      <td>[modern rock, pop]</td>\n    </tr>\n    <tr>\n      <th>8</th>\n      <td>Happiest Year</td>\n      <td>5kcvBnt6DPX3AMEsCx1qDh</td>\n      <td>[alt z, indie cafe pop, indie poptimism, moder...</td>\n    </tr>\n    <tr>\n      <th>9</th>\n      <td>Black Hole - Acoustic Version</td>\n      <td>1cpVLszZnKUHUjsJDTEi3D</td>\n      <td>[uk pop]</td>\n    </tr>\n    <tr>\n      <th>10</th>\n      <td>we'll be fine</td>\n      <td>4TRL1Y8sOR54I3AvRzUZHk</td>\n      <td>[latin, puerto rican pop, reggaeton, trap latino]</td>\n    </tr>\n    <tr>\n      <th>11</th>\n      <td>Heather</td>\n      <td>4xqrdfXkTW4T0RauPLv3WA</td>\n      <td>[alt z, bedroom pop, electropop, indie pop, po...</td>\n    </tr>\n    <tr>\n      <th>12</th>\n      <td>Arms Around You</td>\n      <td>32zCAMtxlehzVD0YOVzVkz</td>\n      <td>[]</td>\n    </tr>\n    <tr>\n      <th>13</th>\n      <td>Conversations in the Dark</td>\n      <td>6TYlDTa9AQDvjqwbxlvFyI</td>\n      <td>[neo soul, pop, pop soul, r&amp;b, urban contempor...</td>\n    </tr>\n    <tr>\n      <th>14</th>\n      <td>Learn To Let Go</td>\n      <td>139rcVdF6LMk1t7Cyex2uo</td>\n      <td>[edm, pop, pop dance, tropical house]</td>\n    </tr>\n    <tr>\n      <th>15</th>\n      <td>Don't Need Love - Acoustic</td>\n      <td>7wXCmUm9LMYdhhRkHzxt4L</td>\n      <td>[]</td>\n    </tr>\n    <tr>\n      <th>16</th>\n      <td>Unstable (feat. The Kid LAROI)</td>\n      <td>137mSruegm1u6x9NvwiagR</td>\n      <td>[canadian pop, pop, post-teen pop]</td>\n    </tr>\n    <tr>\n      <th>17</th>\n      <td>What They'll Say About Us</td>\n      <td>27Y1N4Q4U3EfDU5Ubw8ws2</td>\n      <td>[alt z, electropop, indie pop, pop, post-teen ...</td>\n    </tr>\n    <tr>\n      <th>18</th>\n      <td>Unconditional</td>\n      <td>2SSwlNE1JKhLZAjtKjxg6O</td>\n      <td>[chicago house]</td>\n    </tr>\n    <tr>\n      <th>19</th>\n      <td>Haunted House</td>\n      <td>4vNxFySlHhuWuxOHvphZuP</td>\n      <td>[alt z, indie pop, modern alternative pop, uk ...</td>\n    </tr>\n    <tr>\n      <th>20</th>\n      <td>Break My Heart - Piano Acoustic</td>\n      <td>7e5HVLu9xSydLebKSqBebM</td>\n      <td>[indie anthem-folk, indie cafe pop, uk pop]</td>\n    </tr>\n    <tr>\n      <th>21</th>\n      <td>if this is the last time</td>\n      <td>2ccNaerby1wXA993dY6XsR</td>\n      <td>[la pop, pop, post-teen pop]</td>\n    </tr>\n    <tr>\n      <th>22</th>\n      <td>lie to me</td>\n      <td>4f9IfFvBFm7Gsf1IVEudyf</td>\n      <td>[alt z, dance pop, electropop, pop, post-teen ...</td>\n    </tr>\n    <tr>\n      <th>23</th>\n      <td>Seasons</td>\n      <td>2CEEKREL8eUBhNvsafRAsb</td>\n      <td>[indie cafe pop, pop, uk pop]</td>\n    </tr>\n    <tr>\n      <th>24</th>\n      <td>If The World Was Ending</td>\n      <td>6dTBKBqIN4324sThIkZpMj</td>\n      <td>[alt z, canadian contemporary r&amp;b, indie cafe ...</td>\n    </tr>\n    <tr>\n      <th>25</th>\n      <td>Crying Over You</td>\n      <td>53bCcVMGv0S2aIYvfju2Tt</td>\n      <td>[alt z, electropop, hopebeat, indie cafe pop, ...</td>\n    </tr>\n    <tr>\n      <th>26</th>\n      <td>Body</td>\n      <td>6wQgV6ZYt1snXyQV69mGT4</td>\n      <td>[modern indie pop]</td>\n    </tr>\n    <tr>\n      <th>27</th>\n      <td>Unlearn (with Gracie Abrams)</td>\n      <td>6GH4tLwGW6HliKbZBdt6hD</td>\n      <td>[canadian pop, pop, post-teen pop]</td>\n    </tr>\n    <tr>\n      <th>28</th>\n      <td>Beginning Middle End - From The Netflix Film \"...</td>\n      <td>5Dz8nrwQlPLE68WaTEIqY5</td>\n      <td>[nashville singer-songwriter]</td>\n    </tr>\n    <tr>\n      <th>29</th>\n      <td>Let Me Love You Like A Woman</td>\n      <td>4HvE2E9rXJDcQhE4YfeNuG</td>\n      <td>[art pop, pop]</td>\n    </tr>\n    <tr>\n      <th>30</th>\n      <td>I'm Not Ok</td>\n      <td>2smg1NNlkCgQNLbqwdn3bv</td>\n      <td>[indie cafe pop, pop, pop rock, post-teen pop]</td>\n    </tr>\n    <tr>\n      <th>31</th>\n      <td>Falling Up</td>\n      <td>71i3wlanzjflfYz0gkT2W8</td>\n      <td>[alt z, australian pop, indie cafe pop, pop, p...</td>\n    </tr>\n    <tr>\n      <th>32</th>\n      <td>Say Something</td>\n      <td>3kswR4VNp2z8f8VXUHfTSD</td>\n      <td>[indie cafe pop, irish pop, modern rock, pop, ...</td>\n    </tr>\n    <tr>\n      <th>33</th>\n      <td>London's Requiem</td>\n      <td>0TxJGoYx7racCE2idGNN0O</td>\n      <td>[]</td>\n    </tr>\n    <tr>\n      <th>34</th>\n      <td>Cool Girl</td>\n      <td>0FSOenCj42lbikl1vd5ah9</td>\n      <td>[alt z, indie pop, pop]</td>\n    </tr>\n    <tr>\n      <th>35</th>\n      <td>Runaway</td>\n      <td>1oKhOLQj9kU5W8asB5c1uW</td>\n      <td>[art pop, norwegian pop]</td>\n    </tr>\n    <tr>\n      <th>36</th>\n      <td>My Mistakes</td>\n      <td>01iY9wuMjG4Q5GMCebu27S</td>\n      <td>[irish pop]</td>\n    </tr>\n    <tr>\n      <th>37</th>\n      <td>Blame</td>\n      <td>6pQUQdaZacg722q6sg6fPR</td>\n      <td>[indie anthem-folk, indie cafe pop, pop, uk co...</td>\n    </tr>\n    <tr>\n      <th>38</th>\n      <td>Diamonds - Acoustic</td>\n      <td>4y8OZW2dyWRobsi2w0C64W</td>\n      <td>[dance pop, pop, post-teen pop, uk pop]</td>\n    </tr>\n    <tr>\n      <th>39</th>\n      <td>Young &amp; Sad</td>\n      <td>0gySkOOewOdZtHG8stPEB8</td>\n      <td>[alt z, dance pop, electropop, pop, post-teen ...</td>\n    </tr>\n    <tr>\n      <th>40</th>\n      <td>Seven</td>\n      <td>7FRICngbPiyTPEKF7wRC9G</td>\n      <td>[uk pop]</td>\n    </tr>\n    <tr>\n      <th>41</th>\n      <td>I Miss You - Paddy's Song</td>\n      <td>6Lqa8EZSaGEl80rojsrz1B</td>\n      <td>[electro house, pop dance]</td>\n    </tr>\n    <tr>\n      <th>42</th>\n      <td>hurt so bad</td>\n      <td>5c1gKtJkR8dPjki25BU7Qz</td>\n      <td>[alt z, indie cafe pop, irish pop]</td>\n    </tr>\n    <tr>\n      <th>43</th>\n      <td>Wait For Me</td>\n      <td>3UktGQO4TaIN3Jn7YtJoZr</td>\n      <td>[indie anthem-folk, indie cafe pop, uk pop]</td>\n    </tr>\n    <tr>\n      <th>44</th>\n      <td>Elsewhere</td>\n      <td>28WzLDIBpcD5UhWIOktTrr</td>\n      <td>[dance pop, electropop, pop, pop rap, post-tee...</td>\n    </tr>\n    <tr>\n      <th>45</th>\n      <td>Can't Wait To Be Dead</td>\n      <td>0gqGNbqhZ0RLp3ypz51cHY</td>\n      <td>[alt z, electropop, indie pop, pop, post-teen ...</td>\n    </tr>\n    <tr>\n      <th>46</th>\n      <td>Swingsets</td>\n      <td>6UElPL7agw60e5IaaQBptJ</td>\n      <td>[irish singer-songwriter]</td>\n    </tr>\n    <tr>\n      <th>47</th>\n      <td>Call Me When It's Over</td>\n      <td>3pg8SqwcnJgHPcnWBY9tVB</td>\n      <td>[alt z, indie anthem-folk, indie cafe pop, uk ...</td>\n    </tr>\n    <tr>\n      <th>48</th>\n      <td>Recover</td>\n      <td>6LNo6t9HD5rARtlh8rbi40</td>\n      <td>[canadian pop, pop, post-teen pop]</td>\n    </tr>\n    <tr>\n      <th>49</th>\n      <td>Bedroom Ceiling</td>\n      <td>1jXKRARVJQFG3jTvZEgxsP</td>\n      <td>[]</td>\n    </tr>\n    <tr>\n      <th>50</th>\n      <td>If We're Being Honest</td>\n      <td>6CfAtjogau9v9kmtZVrNG8</td>\n      <td>[ambient folk, indie cafe pop, indie folk]</td>\n    </tr>\n    <tr>\n      <th>51</th>\n      <td>Boring, Happy, Beautiful</td>\n      <td>0W4prfO7VR3dDo1PfINTXE</td>\n      <td>[]</td>\n    </tr>\n    <tr>\n      <th>52</th>\n      <td>Overused (feat. gnash)</td>\n      <td>74I76sDq0rPJV3FP4fq44d</td>\n      <td>[alt z, electropop, indie cafe pop, pop, post-...</td>\n    </tr>\n    <tr>\n      <th>53</th>\n      <td>Slow Motion</td>\n      <td>09svEvkmTi9vw4kWRyBC6X</td>\n      <td>[alt z, dance pop, electropop, indie cafe pop,...</td>\n    </tr>\n    <tr>\n      <th>54</th>\n      <td>Rescue Me</td>\n      <td>4f4cfvGeRK3t2rNZcB4ybd</td>\n      <td>[edm, pop, pop dance, tropical house]</td>\n    </tr>\n    <tr>\n      <th>55</th>\n      <td>Charlotte</td>\n      <td>7wDn727BWO03K7A4kNoVtw</td>\n      <td>[]</td>\n    </tr>\n    <tr>\n      <th>56</th>\n      <td>Crawl</td>\n      <td>4UwI05z2cvRJpChY8qmOop</td>\n      <td>[]</td>\n    </tr>\n    <tr>\n      <th>57</th>\n      <td>Love You Twice</td>\n      <td>7xWIEXBRkxD30V28lTjVJg</td>\n      <td>[irish singer-songwriter]</td>\n    </tr>\n    <tr>\n      <th>58</th>\n      <td>Why Can't You See Me?</td>\n      <td>02ep6lpHWdBFRo1z38PMNr</td>\n      <td>[baroque pop, brill building pop, classic rock...</td>\n    </tr>\n    <tr>\n      <th>59</th>\n      <td>Part Of Me</td>\n      <td>6NbdLcRduH8VWgBrX2fJby</td>\n      <td>[indie anthem-folk, uk contemporary r&amp;b, uk hi...</td>\n    </tr>\n  </tbody>\n</table>\n</div>",
      "text/plain": "                                                 name                     uri  \\\n0                                         IDK You Yet  47EWMOElkkbMp5m9SBkx7d   \n1                                        Good Without  15OCqNPYoLziEAsbVnqRj5   \n2                                             Falling  1ZMiCix7XSAbfAJlEZWMCp   \n3                    Is It Just Me? (feat. JP Cooper)  754zNJgoWQaGETFzSYVlmC   \n4                                         Train Wreck  55Am8neGJkdj2ADaM3aw5H   \n5                                  you broke me first  45bE4HXI0AwGZXfZtMp8JR   \n6                                     drivers license  7lPN2DXiMsVn7XUKtOW1CS   \n7                                        Another Love  3JvKfv6T31zO0ini8iNItO   \n8                                       Happiest Year  5kcvBnt6DPX3AMEsCx1qDh   \n9                       Black Hole - Acoustic Version  1cpVLszZnKUHUjsJDTEi3D   \n10                                      we'll be fine  4TRL1Y8sOR54I3AvRzUZHk   \n11                                            Heather  4xqrdfXkTW4T0RauPLv3WA   \n12                                    Arms Around You  32zCAMtxlehzVD0YOVzVkz   \n13                          Conversations in the Dark  6TYlDTa9AQDvjqwbxlvFyI   \n14                                    Learn To Let Go  139rcVdF6LMk1t7Cyex2uo   \n15                         Don't Need Love - Acoustic  7wXCmUm9LMYdhhRkHzxt4L   \n16                     Unstable (feat. The Kid LAROI)  137mSruegm1u6x9NvwiagR   \n17                          What They'll Say About Us  27Y1N4Q4U3EfDU5Ubw8ws2   \n18                                      Unconditional  2SSwlNE1JKhLZAjtKjxg6O   \n19                                      Haunted House  4vNxFySlHhuWuxOHvphZuP   \n20                    Break My Heart - Piano Acoustic  7e5HVLu9xSydLebKSqBebM   \n21                           if this is the last time  2ccNaerby1wXA993dY6XsR   \n22                                          lie to me  4f9IfFvBFm7Gsf1IVEudyf   \n23                                            Seasons  2CEEKREL8eUBhNvsafRAsb   \n24                            If The World Was Ending  6dTBKBqIN4324sThIkZpMj   \n25                                    Crying Over You  53bCcVMGv0S2aIYvfju2Tt   \n26                                               Body  6wQgV6ZYt1snXyQV69mGT4   \n27                       Unlearn (with Gracie Abrams)  6GH4tLwGW6HliKbZBdt6hD   \n28  Beginning Middle End - From The Netflix Film \"...  5Dz8nrwQlPLE68WaTEIqY5   \n29                       Let Me Love You Like A Woman  4HvE2E9rXJDcQhE4YfeNuG   \n30                                         I'm Not Ok  2smg1NNlkCgQNLbqwdn3bv   \n31                                         Falling Up  71i3wlanzjflfYz0gkT2W8   \n32                                      Say Something  3kswR4VNp2z8f8VXUHfTSD   \n33                                   London's Requiem  0TxJGoYx7racCE2idGNN0O   \n34                                          Cool Girl  0FSOenCj42lbikl1vd5ah9   \n35                                            Runaway  1oKhOLQj9kU5W8asB5c1uW   \n36                                        My Mistakes  01iY9wuMjG4Q5GMCebu27S   \n37                                              Blame  6pQUQdaZacg722q6sg6fPR   \n38                                Diamonds - Acoustic  4y8OZW2dyWRobsi2w0C64W   \n39                                        Young & Sad  0gySkOOewOdZtHG8stPEB8   \n40                                              Seven  7FRICngbPiyTPEKF7wRC9G   \n41                          I Miss You - Paddy's Song  6Lqa8EZSaGEl80rojsrz1B   \n42                                        hurt so bad  5c1gKtJkR8dPjki25BU7Qz   \n43                                        Wait For Me  3UktGQO4TaIN3Jn7YtJoZr   \n44                                          Elsewhere  28WzLDIBpcD5UhWIOktTrr   \n45                              Can't Wait To Be Dead  0gqGNbqhZ0RLp3ypz51cHY   \n46                                          Swingsets  6UElPL7agw60e5IaaQBptJ   \n47                             Call Me When It's Over  3pg8SqwcnJgHPcnWBY9tVB   \n48                                            Recover  6LNo6t9HD5rARtlh8rbi40   \n49                                    Bedroom Ceiling  1jXKRARVJQFG3jTvZEgxsP   \n50                              If We're Being Honest  6CfAtjogau9v9kmtZVrNG8   \n51                           Boring, Happy, Beautiful  0W4prfO7VR3dDo1PfINTXE   \n52                             Overused (feat. gnash)  74I76sDq0rPJV3FP4fq44d   \n53                                        Slow Motion  09svEvkmTi9vw4kWRyBC6X   \n54                                          Rescue Me  4f4cfvGeRK3t2rNZcB4ybd   \n55                                          Charlotte  7wDn727BWO03K7A4kNoVtw   \n56                                              Crawl  4UwI05z2cvRJpChY8qmOop   \n57                                     Love You Twice  7xWIEXBRkxD30V28lTjVJg   \n58                              Why Can't You See Me?  02ep6lpHWdBFRo1z38PMNr   \n59                                         Part Of Me  6NbdLcRduH8VWgBrX2fJby   \n\n                                               genres  \n0   [alt z, electropop, indie cafe pop, pop, post-...  \n1                     [alt z, indie cafe pop, uk pop]  \n2                                [pop, post-teen pop]  \n3                     [alt z, indie cafe pop, uk pop]  \n4           [pop, post-teen pop, talent show, uk pop]  \n5   [alt z, dance pop, electropop, pop, post-teen ...  \n6                                [pop, post-teen pop]  \n7                                  [modern rock, pop]  \n8   [alt z, indie cafe pop, indie poptimism, moder...  \n9                                            [uk pop]  \n10  [latin, puerto rican pop, reggaeton, trap latino]  \n11  [alt z, bedroom pop, electropop, indie pop, po...  \n12                                                 []  \n13  [neo soul, pop, pop soul, r&b, urban contempor...  \n14              [edm, pop, pop dance, tropical house]  \n15                                                 []  \n16                 [canadian pop, pop, post-teen pop]  \n17  [alt z, electropop, indie pop, pop, post-teen ...  \n18                                    [chicago house]  \n19  [alt z, indie pop, modern alternative pop, uk ...  \n20        [indie anthem-folk, indie cafe pop, uk pop]  \n21                       [la pop, pop, post-teen pop]  \n22  [alt z, dance pop, electropop, pop, post-teen ...  \n23                      [indie cafe pop, pop, uk pop]  \n24  [alt z, canadian contemporary r&b, indie cafe ...  \n25  [alt z, electropop, hopebeat, indie cafe pop, ...  \n26                                 [modern indie pop]  \n27                 [canadian pop, pop, post-teen pop]  \n28                      [nashville singer-songwriter]  \n29                                     [art pop, pop]  \n30     [indie cafe pop, pop, pop rock, post-teen pop]  \n31  [alt z, australian pop, indie cafe pop, pop, p...  \n32  [indie cafe pop, irish pop, modern rock, pop, ...  \n33                                                 []  \n34                            [alt z, indie pop, pop]  \n35                           [art pop, norwegian pop]  \n36                                        [irish pop]  \n37  [indie anthem-folk, indie cafe pop, pop, uk co...  \n38            [dance pop, pop, post-teen pop, uk pop]  \n39  [alt z, dance pop, electropop, pop, post-teen ...  \n40                                           [uk pop]  \n41                         [electro house, pop dance]  \n42                 [alt z, indie cafe pop, irish pop]  \n43        [indie anthem-folk, indie cafe pop, uk pop]  \n44  [dance pop, electropop, pop, pop rap, post-tee...  \n45  [alt z, electropop, indie pop, pop, post-teen ...  \n46                          [irish singer-songwriter]  \n47  [alt z, indie anthem-folk, indie cafe pop, uk ...  \n48                 [canadian pop, pop, post-teen pop]  \n49                                                 []  \n50         [ambient folk, indie cafe pop, indie folk]  \n51                                                 []  \n52  [alt z, electropop, indie cafe pop, pop, post-...  \n53  [alt z, dance pop, electropop, indie cafe pop,...  \n54              [edm, pop, pop dance, tropical house]  \n55                                                 []  \n56                                                 []  \n57                          [irish singer-songwriter]  \n58  [baroque pop, brill building pop, classic rock...  \n59  [indie anthem-folk, uk contemporary r&b, uk hi...  "
     },
     "execution_count": 71,
     "metadata": {},
     "output_type": "execute_result"
    }
   ],
   "source": [
    "sadDF2 = wrapper.getSongsFromPlaylist('37i9dQZF1DX7qK8ma5wgG1', 'Spotify')\n",
    "sadDF2"
   ]
  },
  {
   "cell_type": "code",
   "execution_count": 72,
   "metadata": {},
   "outputs": [
    {
     "data": {
      "text/html": "<div>\n<style scoped>\n    .dataframe tbody tr th:only-of-type {\n        vertical-align: middle;\n    }\n\n    .dataframe tbody tr th {\n        vertical-align: top;\n    }\n\n    .dataframe thead th {\n        text-align: right;\n    }\n</style>\n<table border=\"1\" class=\"dataframe\">\n  <thead>\n    <tr style=\"text-align: right;\">\n      <th></th>\n      <th>name</th>\n      <th>uri</th>\n      <th>genres</th>\n    </tr>\n  </thead>\n  <tbody>\n    <tr>\n      <th>0</th>\n      <td>Runaway</td>\n      <td>1v1oIWf2Xgh54kIWuKsDf6</td>\n      <td>[art pop, norwegian pop]</td>\n    </tr>\n    <tr>\n      <th>1</th>\n      <td>Save Your Tears</td>\n      <td>5QO79kh1waicV47BqGRL3g</td>\n      <td>[canadian contemporary r&amp;b, canadian pop, pop]</td>\n    </tr>\n    <tr>\n      <th>2</th>\n      <td>bloody nose</td>\n      <td>2O4e8Bd8oqd9Q59y0VlYio</td>\n      <td>[]</td>\n    </tr>\n    <tr>\n      <th>3</th>\n      <td>lovely (with Khalid)</td>\n      <td>0u2P5u6lvoDfwTYjAADbn4</td>\n      <td>[electropop, pop]</td>\n    </tr>\n    <tr>\n      <th>4</th>\n      <td>See You Again (feat. Charlie Puth)</td>\n      <td>00SNGvA3aGn5uE2uGGhOJR</td>\n      <td>[pop, pop rock]</td>\n    </tr>\n    <tr>\n      <th>...</th>\n      <td>...</td>\n      <td>...</td>\n      <td>...</td>\n    </tr>\n    <tr>\n      <th>85</th>\n      <td>Who (feat. BTS)</td>\n      <td>2qG81jL9UIP54uS8gYyP4k</td>\n      <td>[electropop, pop, post-teen pop]</td>\n    </tr>\n    <tr>\n      <th>86</th>\n      <td>Fine Line</td>\n      <td>6VzcQuzTNTMFnJ6rBSaLH9</td>\n      <td>[pop, post-teen pop]</td>\n    </tr>\n    <tr>\n      <th>87</th>\n      <td>Won't Go Home Without You</td>\n      <td>6WEBwvsmpaoGxka0tSh5a7</td>\n      <td>[pop, pop rock]</td>\n    </tr>\n    <tr>\n      <th>88</th>\n      <td>Set Fire to the Rain</td>\n      <td>5PKWUDfQFtc5qqo8cs1gQp</td>\n      <td>[british soul, pop, pop soul, uk pop]</td>\n    </tr>\n    <tr>\n      <th>89</th>\n      <td>Black Hole</td>\n      <td>6xw8ld1ztoCKifwTN6uGDq</td>\n      <td>[uk pop]</td>\n    </tr>\n  </tbody>\n</table>\n<p>90 rows × 3 columns</p>\n</div>",
      "text/plain": "                                  name                     uri  \\\n0                              Runaway  1v1oIWf2Xgh54kIWuKsDf6   \n1                      Save Your Tears  5QO79kh1waicV47BqGRL3g   \n2                          bloody nose  2O4e8Bd8oqd9Q59y0VlYio   \n3                 lovely (with Khalid)  0u2P5u6lvoDfwTYjAADbn4   \n4   See You Again (feat. Charlie Puth)  00SNGvA3aGn5uE2uGGhOJR   \n..                                 ...                     ...   \n85                     Who (feat. BTS)  2qG81jL9UIP54uS8gYyP4k   \n86                           Fine Line  6VzcQuzTNTMFnJ6rBSaLH9   \n87           Won't Go Home Without You  6WEBwvsmpaoGxka0tSh5a7   \n88                Set Fire to the Rain  5PKWUDfQFtc5qqo8cs1gQp   \n89                          Black Hole  6xw8ld1ztoCKifwTN6uGDq   \n\n                                            genres  \n0                         [art pop, norwegian pop]  \n1   [canadian contemporary r&b, canadian pop, pop]  \n2                                               []  \n3                                [electropop, pop]  \n4                                  [pop, pop rock]  \n..                                             ...  \n85                [electropop, pop, post-teen pop]  \n86                            [pop, post-teen pop]  \n87                                 [pop, pop rock]  \n88           [british soul, pop, pop soul, uk pop]  \n89                                        [uk pop]  \n\n[90 rows x 3 columns]"
     },
     "execution_count": 72,
     "metadata": {},
     "output_type": "execute_result"
    }
   ],
   "source": [
    "sadDF3 = wrapper.getSongsFromPlaylist('2LDCn6vNamfbM4Rc6V3Yh3', 'redmusiccompany')\n",
    "sadDF3"
   ]
  },
  {
   "cell_type": "code",
   "execution_count": 73,
   "metadata": {},
   "outputs": [
    {
     "data": {
      "text/html": "<div>\n<style scoped>\n    .dataframe tbody tr th:only-of-type {\n        vertical-align: middle;\n    }\n\n    .dataframe tbody tr th {\n        vertical-align: top;\n    }\n\n    .dataframe thead th {\n        text-align: right;\n    }\n</style>\n<table border=\"1\" class=\"dataframe\">\n  <thead>\n    <tr style=\"text-align: right;\">\n      <th></th>\n      <th>name</th>\n      <th>uri</th>\n      <th>genres</th>\n      <th>mood</th>\n    </tr>\n  </thead>\n  <tbody>\n    <tr>\n      <th>0</th>\n      <td>The A Team</td>\n      <td>2vBF8A6n0REigm7RSUM65S</td>\n      <td>[pop, uk pop]</td>\n      <td>sad</td>\n    </tr>\n    <tr>\n      <th>1</th>\n      <td>you broke me first</td>\n      <td>45bE4HXI0AwGZXfZtMp8JR</td>\n      <td>[alt z, dance pop, electropop, pop, post-teen ...</td>\n      <td>sad</td>\n    </tr>\n    <tr>\n      <th>2</th>\n      <td>Bruises</td>\n      <td>4Of7rzpRpV1mWRbhp5rAqG</td>\n      <td>[pop, uk pop]</td>\n      <td>sad</td>\n    </tr>\n    <tr>\n      <th>3</th>\n      <td>drivers license</td>\n      <td>7lPN2DXiMsVn7XUKtOW1CS</td>\n      <td>[pop, post-teen pop]</td>\n      <td>sad</td>\n    </tr>\n    <tr>\n      <th>4</th>\n      <td>Falling</td>\n      <td>1ZMiCix7XSAbfAJlEZWMCp</td>\n      <td>[pop, post-teen pop]</td>\n      <td>sad</td>\n    </tr>\n    <tr>\n      <th>...</th>\n      <td>...</td>\n      <td>...</td>\n      <td>...</td>\n      <td>...</td>\n    </tr>\n    <tr>\n      <th>325</th>\n      <td>Who (feat. BTS)</td>\n      <td>2qG81jL9UIP54uS8gYyP4k</td>\n      <td>[electropop, pop, post-teen pop]</td>\n      <td>sad</td>\n    </tr>\n    <tr>\n      <th>326</th>\n      <td>Fine Line</td>\n      <td>6VzcQuzTNTMFnJ6rBSaLH9</td>\n      <td>[pop, post-teen pop]</td>\n      <td>sad</td>\n    </tr>\n    <tr>\n      <th>327</th>\n      <td>Won't Go Home Without You</td>\n      <td>6WEBwvsmpaoGxka0tSh5a7</td>\n      <td>[pop, pop rock]</td>\n      <td>sad</td>\n    </tr>\n    <tr>\n      <th>328</th>\n      <td>Set Fire to the Rain</td>\n      <td>5PKWUDfQFtc5qqo8cs1gQp</td>\n      <td>[british soul, pop, pop soul, uk pop]</td>\n      <td>sad</td>\n    </tr>\n    <tr>\n      <th>329</th>\n      <td>Black Hole</td>\n      <td>6xw8ld1ztoCKifwTN6uGDq</td>\n      <td>[uk pop]</td>\n      <td>sad</td>\n    </tr>\n  </tbody>\n</table>\n<p>330 rows × 4 columns</p>\n</div>",
      "text/plain": "                          name                     uri  \\\n0                   The A Team  2vBF8A6n0REigm7RSUM65S   \n1           you broke me first  45bE4HXI0AwGZXfZtMp8JR   \n2                      Bruises  4Of7rzpRpV1mWRbhp5rAqG   \n3              drivers license  7lPN2DXiMsVn7XUKtOW1CS   \n4                      Falling  1ZMiCix7XSAbfAJlEZWMCp   \n..                         ...                     ...   \n325            Who (feat. BTS)  2qG81jL9UIP54uS8gYyP4k   \n326                  Fine Line  6VzcQuzTNTMFnJ6rBSaLH9   \n327  Won't Go Home Without You  6WEBwvsmpaoGxka0tSh5a7   \n328       Set Fire to the Rain  5PKWUDfQFtc5qqo8cs1gQp   \n329                 Black Hole  6xw8ld1ztoCKifwTN6uGDq   \n\n                                                genres mood  \n0                                        [pop, uk pop]  sad  \n1    [alt z, dance pop, electropop, pop, post-teen ...  sad  \n2                                        [pop, uk pop]  sad  \n3                                 [pop, post-teen pop]  sad  \n4                                 [pop, post-teen pop]  sad  \n..                                                 ...  ...  \n325                   [electropop, pop, post-teen pop]  sad  \n326                               [pop, post-teen pop]  sad  \n327                                    [pop, pop rock]  sad  \n328              [british soul, pop, pop soul, uk pop]  sad  \n329                                           [uk pop]  sad  \n\n[330 rows x 4 columns]"
     },
     "execution_count": 73,
     "metadata": {},
     "output_type": "execute_result"
    }
   ],
   "source": [
    "sadDF = pd.concat([sadDF1, sadDF2, sadDF3], ignore_index=True).drop_duplicates(subset=['name'], keep='first').reset_index().drop(columns=['index'])\n",
    "sadDF['mood'] = 'sad'\n",
    "sadDF"
   ]
  },
  {
   "cell_type": "code",
   "execution_count": 74,
   "metadata": {},
   "outputs": [
    {
     "data": {
      "text/html": "<div>\n<style scoped>\n    .dataframe tbody tr th:only-of-type {\n        vertical-align: middle;\n    }\n\n    .dataframe tbody tr th {\n        vertical-align: top;\n    }\n\n    .dataframe thead th {\n        text-align: right;\n    }\n</style>\n<table border=\"1\" class=\"dataframe\">\n  <thead>\n    <tr style=\"text-align: right;\">\n      <th></th>\n      <th>name</th>\n      <th>uri</th>\n      <th>genres</th>\n    </tr>\n  </thead>\n  <tbody>\n    <tr>\n      <th>0</th>\n      <td>beside you</td>\n      <td>1Fhb9iJPufNMZSwupsXiRe</td>\n      <td>[chill r&amp;b, pop]</td>\n    </tr>\n    <tr>\n      <th>1</th>\n      <td>ghost town (voice memo)</td>\n      <td>0PKAijroHpnEtdY20bkGdr</td>\n      <td>[]</td>\n    </tr>\n    <tr>\n      <th>2</th>\n      <td>Same Old Things</td>\n      <td>7GkaWpr47yaDWq0Zi0bwB5</td>\n      <td>[]</td>\n    </tr>\n    <tr>\n      <th>3</th>\n      <td>Life's A Mess II (with Clever &amp; Post Malone)</td>\n      <td>4O3RwH1TFG1EjPezLIYehI</td>\n      <td>[chicago rap, melodic rap]</td>\n    </tr>\n    <tr>\n      <th>4</th>\n      <td>o shit!</td>\n      <td>0RQpg3Q0QOxp6gqDpE8uWH</td>\n      <td>[canadian hip hop, dark trap, meme rap, pop ra...</td>\n    </tr>\n    <tr>\n      <th>...</th>\n      <td>...</td>\n      <td>...</td>\n      <td>...</td>\n    </tr>\n    <tr>\n      <th>75</th>\n      <td>Good News</td>\n      <td>3ClBKQkKoaUQ6UOhe2xlJK</td>\n      <td>[hip hop, pittsburgh rap, rap]</td>\n    </tr>\n    <tr>\n      <th>76</th>\n      <td>Heaven</td>\n      <td>24FprytnP9KMqH01aPR2N5</td>\n      <td>[tropical house]</td>\n    </tr>\n    <tr>\n      <th>77</th>\n      <td>The Way I Love You</td>\n      <td>3XV5r1cMB2AlD2ir0v6mfm</td>\n      <td>[sad rap]</td>\n    </tr>\n    <tr>\n      <th>78</th>\n      <td>Rockstar</td>\n      <td>1fpvdpEUe6jncotfqNGRW8</td>\n      <td>[alternative dance, edm, indie poptimism, indi...</td>\n    </tr>\n    <tr>\n      <th>79</th>\n      <td>Eleven</td>\n      <td>1ToprX3cpBiXoAe5eNSk74</td>\n      <td>[electropop, pop]</td>\n    </tr>\n  </tbody>\n</table>\n<p>80 rows × 3 columns</p>\n</div>",
      "text/plain": "                                            name                     uri  \\\n0                                     beside you  1Fhb9iJPufNMZSwupsXiRe   \n1                        ghost town (voice memo)  0PKAijroHpnEtdY20bkGdr   \n2                                Same Old Things  7GkaWpr47yaDWq0Zi0bwB5   \n3   Life's A Mess II (with Clever & Post Malone)  4O3RwH1TFG1EjPezLIYehI   \n4                                        o shit!  0RQpg3Q0QOxp6gqDpE8uWH   \n..                                           ...                     ...   \n75                                     Good News  3ClBKQkKoaUQ6UOhe2xlJK   \n76                                        Heaven  24FprytnP9KMqH01aPR2N5   \n77                            The Way I Love You  3XV5r1cMB2AlD2ir0v6mfm   \n78                                      Rockstar  1fpvdpEUe6jncotfqNGRW8   \n79                                        Eleven  1ToprX3cpBiXoAe5eNSk74   \n\n                                               genres  \n0                                    [chill r&b, pop]  \n1                                                  []  \n2                                                  []  \n3                          [chicago rap, melodic rap]  \n4   [canadian hip hop, dark trap, meme rap, pop ra...  \n..                                                ...  \n75                     [hip hop, pittsburgh rap, rap]  \n76                                   [tropical house]  \n77                                          [sad rap]  \n78  [alternative dance, edm, indie poptimism, indi...  \n79                                  [electropop, pop]  \n\n[80 rows x 3 columns]"
     },
     "execution_count": 74,
     "metadata": {},
     "output_type": "execute_result"
    }
   ],
   "source": [
    "calmDF3 = wrapper.getSongsFromPlaylist('37i9dQZF1DX5D8j6p4CXZT', 'Spotify')\n",
    "calmDF3"
   ]
  },
  {
   "cell_type": "code",
   "execution_count": 75,
   "metadata": {},
   "outputs": [
    {
     "data": {
      "text/html": "<div>\n<style scoped>\n    .dataframe tbody tr th:only-of-type {\n        vertical-align: middle;\n    }\n\n    .dataframe tbody tr th {\n        vertical-align: top;\n    }\n\n    .dataframe thead th {\n        text-align: right;\n    }\n</style>\n<table border=\"1\" class=\"dataframe\">\n  <thead>\n    <tr style=\"text-align: right;\">\n      <th></th>\n      <th>name</th>\n      <th>uri</th>\n      <th>genres</th>\n    </tr>\n  </thead>\n  <tbody>\n    <tr>\n      <th>0</th>\n      <td>You're Somebody Else</td>\n      <td>0pdKRp2sUthTPe7RLWpPqQ</td>\n      <td>[indie pop, scandipop, swedish indie folk]</td>\n    </tr>\n    <tr>\n      <th>1</th>\n      <td>Wicked Game - Acoustic</td>\n      <td>3Gb3RPg5FT3cCn0q1oizZp</td>\n      <td>[plunderphonics]</td>\n    </tr>\n    <tr>\n      <th>2</th>\n      <td>exile (feat. Bon Iver)</td>\n      <td>4pvb0WLRcMtbPGmtejJJ6y</td>\n      <td>[pop, post-teen pop]</td>\n    </tr>\n    <tr>\n      <th>3</th>\n      <td>Calico</td>\n      <td>7EWwiyBXMaLzoSXwWZkYyU</td>\n      <td>[indie anthem-folk, indie folk, vapor soul]</td>\n    </tr>\n    <tr>\n      <th>4</th>\n      <td>Stay</td>\n      <td>0Uon5NsSAkBDx69XYOaQ5P</td>\n      <td>[alt z, indie cafe pop, indie pop, pop]</td>\n    </tr>\n    <tr>\n      <th>...</th>\n      <td>...</td>\n      <td>...</td>\n      <td>...</td>\n    </tr>\n    <tr>\n      <th>67</th>\n      <td>Soon</td>\n      <td>3izeCMlmVjsqXIBFsviH5S</td>\n      <td>[australian indie, australian pop]</td>\n    </tr>\n    <tr>\n      <th>68</th>\n      <td>Coastline</td>\n      <td>0Ma3HnDcmCSbjv3uu3aIPO</td>\n      <td>[indie folk, stomp and holler]</td>\n    </tr>\n    <tr>\n      <th>69</th>\n      <td>Civilized</td>\n      <td>3T9IA0EvjCZ4Ifs6oCH7MV</td>\n      <td>[downtempo, new age]</td>\n    </tr>\n    <tr>\n      <th>70</th>\n      <td>San Luis</td>\n      <td>7gDNQLV9cr8449LFrQbk5J</td>\n      <td>[indie folk, neo mellow, new americana, pop fo...</td>\n    </tr>\n    <tr>\n      <th>71</th>\n      <td>Crater on the Moon</td>\n      <td>4t6CSU0uY8Z6bi32Ml78Vg</td>\n      <td>[australian alternative pop]</td>\n    </tr>\n  </tbody>\n</table>\n<p>72 rows × 3 columns</p>\n</div>",
      "text/plain": "                      name                     uri  \\\n0     You're Somebody Else  0pdKRp2sUthTPe7RLWpPqQ   \n1   Wicked Game - Acoustic  3Gb3RPg5FT3cCn0q1oizZp   \n2   exile (feat. Bon Iver)  4pvb0WLRcMtbPGmtejJJ6y   \n3                   Calico  7EWwiyBXMaLzoSXwWZkYyU   \n4                     Stay  0Uon5NsSAkBDx69XYOaQ5P   \n..                     ...                     ...   \n67                    Soon  3izeCMlmVjsqXIBFsviH5S   \n68               Coastline  0Ma3HnDcmCSbjv3uu3aIPO   \n69               Civilized  3T9IA0EvjCZ4Ifs6oCH7MV   \n70                San Luis  7gDNQLV9cr8449LFrQbk5J   \n71      Crater on the Moon  4t6CSU0uY8Z6bi32Ml78Vg   \n\n                                               genres  \n0          [indie pop, scandipop, swedish indie folk]  \n1                                    [plunderphonics]  \n2                                [pop, post-teen pop]  \n3         [indie anthem-folk, indie folk, vapor soul]  \n4             [alt z, indie cafe pop, indie pop, pop]  \n..                                                ...  \n67                 [australian indie, australian pop]  \n68                     [indie folk, stomp and holler]  \n69                               [downtempo, new age]  \n70  [indie folk, neo mellow, new americana, pop fo...  \n71                       [australian alternative pop]  \n\n[72 rows x 3 columns]"
     },
     "execution_count": 75,
     "metadata": {},
     "output_type": "execute_result"
    }
   ],
   "source": [
    "calmDF2 = wrapper.getSongsFromPlaylist('37i9dQZF1DXa1BeMIGX5Du', 'Spotify')\n",
    "calmDF2"
   ]
  },
  {
   "cell_type": "code",
   "execution_count": 76,
   "metadata": {},
   "outputs": [
    {
     "data": {
      "text/html": "<div>\n<style scoped>\n    .dataframe tbody tr th:only-of-type {\n        vertical-align: middle;\n    }\n\n    .dataframe tbody tr th {\n        vertical-align: top;\n    }\n\n    .dataframe thead th {\n        text-align: right;\n    }\n</style>\n<table border=\"1\" class=\"dataframe\">\n  <thead>\n    <tr style=\"text-align: right;\">\n      <th></th>\n      <th>name</th>\n      <th>uri</th>\n      <th>genres</th>\n    </tr>\n  </thead>\n  <tbody>\n    <tr>\n      <th>0</th>\n      <td>Ensnared</td>\n      <td>1p5jbuZMzTZUXOlmI8VRIl</td>\n      <td>[chillhop, indie jazz, indie soul, jazz boom b...</td>\n    </tr>\n    <tr>\n      <th>1</th>\n      <td>Aspen</td>\n      <td>0w7HY9VhJF5KHPqhOyY6Sg</td>\n      <td>[lo-fi beats]</td>\n    </tr>\n    <tr>\n      <th>2</th>\n      <td>st. mark’s place</td>\n      <td>4HXuZde89plw90HUI8qGPN</td>\n      <td>[]</td>\n    </tr>\n    <tr>\n      <th>3</th>\n      <td>Hawaii</td>\n      <td>6N0wKoHDvZfrylcBlKV9ZP</td>\n      <td>[]</td>\n    </tr>\n    <tr>\n      <th>4</th>\n      <td>Plane crash in Paradise</td>\n      <td>1F5nK1fVsd1aydJDNQ86lH</td>\n      <td>[lo-fi jazzhop]</td>\n    </tr>\n    <tr>\n      <th>...</th>\n      <td>...</td>\n      <td>...</td>\n      <td>...</td>\n    </tr>\n    <tr>\n      <th>595</th>\n      <td>Stripe Two</td>\n      <td>4AXc2D9pa1uttadN9MowI3</td>\n      <td>[]</td>\n    </tr>\n    <tr>\n      <th>596</th>\n      <td>busking</td>\n      <td>6hBofveV7cUFOSuUB9RQjk</td>\n      <td>[lo-fi beats]</td>\n    </tr>\n    <tr>\n      <th>597</th>\n      <td>omph</td>\n      <td>5eCFoX44ZDRi5P9BAbcYEY</td>\n      <td>[]</td>\n    </tr>\n    <tr>\n      <th>598</th>\n      <td>disappear</td>\n      <td>16IanIfHFtPkJ0MTfWp9bt</td>\n      <td>[lo-fi beats, lo-fi brasileiro]</td>\n    </tr>\n    <tr>\n      <th>599</th>\n      <td>Dearest Alfred (MyJoy)</td>\n      <td>6vzaMfWEWYJtfnoKlCY5xP</td>\n      <td>[neo-psychedelic]</td>\n    </tr>\n  </tbody>\n</table>\n<p>600 rows × 3 columns</p>\n</div>",
      "text/plain": "                        name                     uri  \\\n0                   Ensnared  1p5jbuZMzTZUXOlmI8VRIl   \n1                      Aspen  0w7HY9VhJF5KHPqhOyY6Sg   \n2           st. mark’s place  4HXuZde89plw90HUI8qGPN   \n3                     Hawaii  6N0wKoHDvZfrylcBlKV9ZP   \n4    Plane crash in Paradise  1F5nK1fVsd1aydJDNQ86lH   \n..                       ...                     ...   \n595               Stripe Two  4AXc2D9pa1uttadN9MowI3   \n596                  busking  6hBofveV7cUFOSuUB9RQjk   \n597                     omph  5eCFoX44ZDRi5P9BAbcYEY   \n598                disappear  16IanIfHFtPkJ0MTfWp9bt   \n599   Dearest Alfred (MyJoy)  6vzaMfWEWYJtfnoKlCY5xP   \n\n                                                genres  \n0    [chillhop, indie jazz, indie soul, jazz boom b...  \n1                                        [lo-fi beats]  \n2                                                   []  \n3                                                   []  \n4                                      [lo-fi jazzhop]  \n..                                                 ...  \n595                                                 []  \n596                                      [lo-fi beats]  \n597                                                 []  \n598                    [lo-fi beats, lo-fi brasileiro]  \n599                                  [neo-psychedelic]  \n\n[600 rows x 3 columns]"
     },
     "execution_count": 76,
     "metadata": {},
     "output_type": "execute_result"
    }
   ],
   "source": [
    "calmDF1 = wrapper.getSongsFromPlaylist('37i9dQZF1DWWQRwui0ExPn', 'Spotify')\n",
    "calmDF1"
   ]
  },
  {
   "cell_type": "code",
   "execution_count": 77,
   "metadata": {},
   "outputs": [
    {
     "data": {
      "text/html": "<div>\n<style scoped>\n    .dataframe tbody tr th:only-of-type {\n        vertical-align: middle;\n    }\n\n    .dataframe tbody tr th {\n        vertical-align: top;\n    }\n\n    .dataframe thead th {\n        text-align: right;\n    }\n</style>\n<table border=\"1\" class=\"dataframe\">\n  <thead>\n    <tr style=\"text-align: right;\">\n      <th></th>\n      <th>name</th>\n      <th>uri</th>\n      <th>genres</th>\n      <th>mood</th>\n    </tr>\n  </thead>\n  <tbody>\n    <tr>\n      <th>0</th>\n      <td>Ensnared</td>\n      <td>1p5jbuZMzTZUXOlmI8VRIl</td>\n      <td>[chillhop, indie jazz, indie soul, jazz boom b...</td>\n      <td>calm</td>\n    </tr>\n    <tr>\n      <th>1</th>\n      <td>Aspen</td>\n      <td>0w7HY9VhJF5KHPqhOyY6Sg</td>\n      <td>[lo-fi beats]</td>\n      <td>calm</td>\n    </tr>\n    <tr>\n      <th>2</th>\n      <td>st. mark’s place</td>\n      <td>4HXuZde89plw90HUI8qGPN</td>\n      <td>[]</td>\n      <td>calm</td>\n    </tr>\n    <tr>\n      <th>3</th>\n      <td>Hawaii</td>\n      <td>6N0wKoHDvZfrylcBlKV9ZP</td>\n      <td>[]</td>\n      <td>calm</td>\n    </tr>\n    <tr>\n      <th>4</th>\n      <td>Plane crash in Paradise</td>\n      <td>1F5nK1fVsd1aydJDNQ86lH</td>\n      <td>[lo-fi jazzhop]</td>\n      <td>calm</td>\n    </tr>\n    <tr>\n      <th>...</th>\n      <td>...</td>\n      <td>...</td>\n      <td>...</td>\n      <td>...</td>\n    </tr>\n    <tr>\n      <th>737</th>\n      <td>is your bedroom ceiling bored? (feat. Rxseboy)...</td>\n      <td>3XwEo4mEovAVPd3cNUN4Dy</td>\n      <td>[]</td>\n      <td>calm</td>\n    </tr>\n    <tr>\n      <th>738</th>\n      <td>Good News</td>\n      <td>3ClBKQkKoaUQ6UOhe2xlJK</td>\n      <td>[hip hop, pittsburgh rap, rap]</td>\n      <td>calm</td>\n    </tr>\n    <tr>\n      <th>739</th>\n      <td>The Way I Love You</td>\n      <td>3XV5r1cMB2AlD2ir0v6mfm</td>\n      <td>[sad rap]</td>\n      <td>calm</td>\n    </tr>\n    <tr>\n      <th>740</th>\n      <td>Rockstar</td>\n      <td>1fpvdpEUe6jncotfqNGRW8</td>\n      <td>[alternative dance, edm, indie poptimism, indi...</td>\n      <td>calm</td>\n    </tr>\n    <tr>\n      <th>741</th>\n      <td>Eleven</td>\n      <td>1ToprX3cpBiXoAe5eNSk74</td>\n      <td>[electropop, pop]</td>\n      <td>calm</td>\n    </tr>\n  </tbody>\n</table>\n<p>742 rows × 4 columns</p>\n</div>",
      "text/plain": "                                                  name  \\\n0                                             Ensnared   \n1                                                Aspen   \n2                                     st. mark’s place   \n3                                               Hawaii   \n4                              Plane crash in Paradise   \n..                                                 ...   \n737  is your bedroom ceiling bored? (feat. Rxseboy)...   \n738                                          Good News   \n739                                 The Way I Love You   \n740                                           Rockstar   \n741                                             Eleven   \n\n                        uri  \\\n0    1p5jbuZMzTZUXOlmI8VRIl   \n1    0w7HY9VhJF5KHPqhOyY6Sg   \n2    4HXuZde89plw90HUI8qGPN   \n3    6N0wKoHDvZfrylcBlKV9ZP   \n4    1F5nK1fVsd1aydJDNQ86lH   \n..                      ...   \n737  3XwEo4mEovAVPd3cNUN4Dy   \n738  3ClBKQkKoaUQ6UOhe2xlJK   \n739  3XV5r1cMB2AlD2ir0v6mfm   \n740  1fpvdpEUe6jncotfqNGRW8   \n741  1ToprX3cpBiXoAe5eNSk74   \n\n                                                genres  mood  \n0    [chillhop, indie jazz, indie soul, jazz boom b...  calm  \n1                                        [lo-fi beats]  calm  \n2                                                   []  calm  \n3                                                   []  calm  \n4                                      [lo-fi jazzhop]  calm  \n..                                                 ...   ...  \n737                                                 []  calm  \n738                     [hip hop, pittsburgh rap, rap]  calm  \n739                                          [sad rap]  calm  \n740  [alternative dance, edm, indie poptimism, indi...  calm  \n741                                  [electropop, pop]  calm  \n\n[742 rows x 4 columns]"
     },
     "execution_count": 77,
     "metadata": {},
     "output_type": "execute_result"
    }
   ],
   "source": [
    "calmDF = pd.concat([calmDF1, calmDF2, calmDF3], ignore_index=True).drop_duplicates(subset=['name'], keep='first').reset_index().drop(columns=['index'])\n",
    "calmDF['mood'] = 'calm'\n",
    "calmDF"
   ]
  },
  {
   "cell_type": "code",
   "execution_count": 78,
   "metadata": {},
   "outputs": [],
   "source": [
    "import os\n",
    "\n",
    "username = 'Training'\n",
    "\n",
    "\n",
    "path = './Data/{}'.format(username)\n",
    "\n",
    "if not os.path.exists(path):\n",
    "    os.makedirs(path)\n",
    "\n",
    "csvPath = os.path.join(path, 'Happy.csv')    \n",
    "happyDF.to_csv(csvPath, index=False)"
   ]
  },
  {
   "cell_type": "code",
   "execution_count": 79,
   "metadata": {},
   "outputs": [],
   "source": [
    "import os\n",
    "\n",
    "username = 'Training'\n",
    "\n",
    "\n",
    "path = './Data/{}'.format(username)\n",
    "\n",
    "if not os.path.exists(path):\n",
    "    os.makedirs(path)\n",
    "\n",
    "csvPath = os.path.join(path, 'Sad.csv')    \n",
    "sadDF.to_csv(csvPath, index=False)"
   ]
  },
  {
   "cell_type": "code",
   "execution_count": 80,
   "metadata": {},
   "outputs": [],
   "source": [
    "import os\n",
    "\n",
    "username = 'Training'\n",
    "\n",
    "\n",
    "path = './Data/{}'.format(username)\n",
    "\n",
    "if not os.path.exists(path):\n",
    "    os.makedirs(path)\n",
    "\n",
    "csvPath = os.path.join(path, 'Calm.csv')    \n",
    "calmDF.to_csv(csvPath, index=False)"
   ]
  },
  {
   "cell_type": "code",
   "execution_count": 5,
   "metadata": {},
   "outputs": [
    {
     "ename": "NameError",
     "evalue": "name 'songsDF' is not defined",
     "output_type": "error",
     "traceback": [
      "\u001b[0;31m---------------------------------------------------------------------------\u001b[0m",
      "\u001b[0;31mNameError\u001b[0m                                 Traceback (most recent call last)",
      "\u001b[0;32m<ipython-input-5-273aa8dd1991>\u001b[0m in \u001b[0;36m<module>\u001b[0;34m\u001b[0m\n\u001b[1;32m     10\u001b[0m \u001b[0;34m\u001b[0m\u001b[0m\n\u001b[1;32m     11\u001b[0m \u001b[0mcsvPath\u001b[0m \u001b[0;34m=\u001b[0m \u001b[0mos\u001b[0m\u001b[0;34m.\u001b[0m\u001b[0mpath\u001b[0m\u001b[0;34m.\u001b[0m\u001b[0mjoin\u001b[0m\u001b[0;34m(\u001b[0m\u001b[0mpath\u001b[0m\u001b[0;34m,\u001b[0m \u001b[0;34m'SongDF.csv'\u001b[0m\u001b[0;34m)\u001b[0m\u001b[0;34m\u001b[0m\u001b[0m\n\u001b[0;32m---> 12\u001b[0;31m \u001b[0msongsDF\u001b[0m\u001b[0;34m.\u001b[0m\u001b[0mto_csv\u001b[0m\u001b[0;34m(\u001b[0m\u001b[0mcsvPath\u001b[0m\u001b[0;34m,\u001b[0m \u001b[0mindex\u001b[0m\u001b[0;34m=\u001b[0m\u001b[0;32mFalse\u001b[0m\u001b[0;34m)\u001b[0m\u001b[0;34m\u001b[0m\u001b[0m\n\u001b[0m",
      "\u001b[0;31mNameError\u001b[0m: name 'songsDF' is not defined"
     ]
    }
   ],
   "source": [
    "import os\n",
    "\n",
    "username = 'mikeydays'\n",
    "playlist = 'country'\n",
    "\n",
    "path = './Data/{}/{}'.format(username, playlist)\n",
    "\n",
    "if not os.path.exists(path):\n",
    "    os.makedirs(path)\n",
    "\n",
    "csvPath = os.path.join(path, 'SongDF.csv')    \n",
    "songsDF.to_csv(csvPath, index=False)"
   ]
  },
  {
   "cell_type": "code",
   "execution_count": 81,
   "metadata": {},
   "outputs": [
    {
     "data": {
      "text/html": "<div>\n<style scoped>\n    .dataframe tbody tr th:only-of-type {\n        vertical-align: middle;\n    }\n\n    .dataframe tbody tr th {\n        vertical-align: top;\n    }\n\n    .dataframe thead th {\n        text-align: right;\n    }\n</style>\n<table border=\"1\" class=\"dataframe\">\n  <thead>\n    <tr style=\"text-align: right;\">\n      <th></th>\n      <th>name</th>\n      <th>uri</th>\n      <th>genres</th>\n      <th>mood</th>\n    </tr>\n  </thead>\n  <tbody>\n    <tr>\n      <th>0</th>\n      <td>Ensnared</td>\n      <td>1p5jbuZMzTZUXOlmI8VRIl</td>\n      <td>['chillhop', 'indie jazz', 'indie soul', 'jazz...</td>\n      <td>calm</td>\n    </tr>\n    <tr>\n      <th>1</th>\n      <td>Aspen</td>\n      <td>0w7HY9VhJF5KHPqhOyY6Sg</td>\n      <td>['lo-fi beats']</td>\n      <td>calm</td>\n    </tr>\n    <tr>\n      <th>2</th>\n      <td>st. mark’s place</td>\n      <td>4HXuZde89plw90HUI8qGPN</td>\n      <td>[]</td>\n      <td>calm</td>\n    </tr>\n    <tr>\n      <th>3</th>\n      <td>Hawaii</td>\n      <td>6N0wKoHDvZfrylcBlKV9ZP</td>\n      <td>[]</td>\n      <td>calm</td>\n    </tr>\n    <tr>\n      <th>4</th>\n      <td>Plane crash in Paradise</td>\n      <td>1F5nK1fVsd1aydJDNQ86lH</td>\n      <td>['lo-fi jazzhop']</td>\n      <td>calm</td>\n    </tr>\n    <tr>\n      <th>...</th>\n      <td>...</td>\n      <td>...</td>\n      <td>...</td>\n      <td>...</td>\n    </tr>\n    <tr>\n      <th>1704</th>\n      <td>Who (feat. BTS)</td>\n      <td>2qG81jL9UIP54uS8gYyP4k</td>\n      <td>['electropop', 'pop', 'post-teen pop']</td>\n      <td>sad</td>\n    </tr>\n    <tr>\n      <th>1705</th>\n      <td>Fine Line</td>\n      <td>6VzcQuzTNTMFnJ6rBSaLH9</td>\n      <td>['pop', 'post-teen pop']</td>\n      <td>sad</td>\n    </tr>\n    <tr>\n      <th>1706</th>\n      <td>Won't Go Home Without You</td>\n      <td>6WEBwvsmpaoGxka0tSh5a7</td>\n      <td>['pop', 'pop rock']</td>\n      <td>sad</td>\n    </tr>\n    <tr>\n      <th>1707</th>\n      <td>Set Fire to the Rain</td>\n      <td>5PKWUDfQFtc5qqo8cs1gQp</td>\n      <td>['british soul', 'pop', 'pop soul', 'uk pop']</td>\n      <td>sad</td>\n    </tr>\n    <tr>\n      <th>1708</th>\n      <td>Black Hole</td>\n      <td>6xw8ld1ztoCKifwTN6uGDq</td>\n      <td>['uk pop']</td>\n      <td>sad</td>\n    </tr>\n  </tbody>\n</table>\n<p>1709 rows × 4 columns</p>\n</div>",
      "text/plain": "                           name                     uri  \\\n0                      Ensnared  1p5jbuZMzTZUXOlmI8VRIl   \n1                         Aspen  0w7HY9VhJF5KHPqhOyY6Sg   \n2              st. mark’s place  4HXuZde89plw90HUI8qGPN   \n3                        Hawaii  6N0wKoHDvZfrylcBlKV9ZP   \n4       Plane crash in Paradise  1F5nK1fVsd1aydJDNQ86lH   \n...                         ...                     ...   \n1704            Who (feat. BTS)  2qG81jL9UIP54uS8gYyP4k   \n1705                  Fine Line  6VzcQuzTNTMFnJ6rBSaLH9   \n1706  Won't Go Home Without You  6WEBwvsmpaoGxka0tSh5a7   \n1707       Set Fire to the Rain  5PKWUDfQFtc5qqo8cs1gQp   \n1708                 Black Hole  6xw8ld1ztoCKifwTN6uGDq   \n\n                                                 genres  mood  \n0     ['chillhop', 'indie jazz', 'indie soul', 'jazz...  calm  \n1                                       ['lo-fi beats']  calm  \n2                                                    []  calm  \n3                                                    []  calm  \n4                                     ['lo-fi jazzhop']  calm  \n...                                                 ...   ...  \n1704             ['electropop', 'pop', 'post-teen pop']   sad  \n1705                           ['pop', 'post-teen pop']   sad  \n1706                                ['pop', 'pop rock']   sad  \n1707      ['british soul', 'pop', 'pop soul', 'uk pop']   sad  \n1708                                         ['uk pop']   sad  \n\n[1709 rows x 4 columns]"
     },
     "execution_count": 81,
     "metadata": {},
     "output_type": "execute_result"
    }
   ],
   "source": [
    "calmDF = pd.read_csv('./Data/Training/Calm.csv')\n",
    "happyDF = pd.read_csv('./Data/Training/Happy.csv')\n",
    "energeticDF = pd.read_csv('./Data/Training/Energetic.csv')\n",
    "sadDF = pd.read_csv('./Data/Training/Sad.csv')\n",
    "\n",
    "train = pd.concat([calmDF, happyDF, energeticDF, sadDF], ignore_index=True)\n",
    "train\n",
    "\n",
    "\n"
   ]
  },
  {
   "cell_type": "code",
   "execution_count": 82,
   "metadata": {},
   "outputs": [],
   "source": [
    "import os\n",
    "\n",
    "username = 'Training'\n",
    "\n",
    "\n",
    "path = './Data/{}'.format(username)\n",
    "\n",
    "if not os.path.exists(path):\n",
    "    os.makedirs(path)\n",
    "\n",
    "csvPath = os.path.join(path, 'Calm.csv')    \n",
    "calmDF.to_csv(csvPath, index=False)"
   ]
  },
  {
   "cell_type": "code",
   "execution_count": 6,
   "metadata": {},
   "outputs": [
    {
     "data": {
      "text/html": "<div>\n<style scoped>\n    .dataframe tbody tr th:only-of-type {\n        vertical-align: middle;\n    }\n\n    .dataframe tbody tr th {\n        vertical-align: top;\n    }\n\n    .dataframe thead th {\n        text-align: right;\n    }\n</style>\n<table border=\"1\" class=\"dataframe\">\n  <thead>\n    <tr style=\"text-align: right;\">\n      <th></th>\n      <th>name</th>\n      <th>uri</th>\n      <th>genres</th>\n    </tr>\n  </thead>\n  <tbody>\n    <tr>\n      <th>0</th>\n      <td>I Love This Life</td>\n      <td>5d0iu7Mc64GwJIMBGjDt2U</td>\n      <td>['contemporary country', 'country pop', 'count...</td>\n    </tr>\n    <tr>\n      <th>1</th>\n      <td>Sunday Morning</td>\n      <td>0BzIw053LdsgAu8Sb1baIn</td>\n      <td>['contemporary country', 'country', 'country p...</td>\n    </tr>\n    <tr>\n      <th>2</th>\n      <td>Sun Daze</td>\n      <td>0El2Zyt68nYySFDG87hZgM</td>\n      <td>['dance pop', 'hip hop', 'pop rap', 'rap', 'so...</td>\n    </tr>\n    <tr>\n      <th>3</th>\n      <td>Courtesy Of The Red, White And Blue (The Angry...</td>\n      <td>0M7mWKqwTIaVjYyxfZmtTa</td>\n      <td>['contemporary country', 'country', 'country r...</td>\n    </tr>\n    <tr>\n      <th>4</th>\n      <td>Loving You Easy</td>\n      <td>4ieqNz8S9pvnA0inetRkE3</td>\n      <td>['contemporary country', 'country', 'country r...</td>\n    </tr>\n    <tr>\n      <th>...</th>\n      <td>...</td>\n      <td>...</td>\n      <td>...</td>\n    </tr>\n    <tr>\n      <th>381</th>\n      <td>Country Folks - Livin' Loud</td>\n      <td>1P7fYBkHMxj3rQI8rUzIZo</td>\n      <td>['country', 'country road', 'modern country ro...</td>\n    </tr>\n    <tr>\n      <th>382</th>\n      <td>Wine, Beer, Whiskey</td>\n      <td>5avVDmK9FVJpd3MDO8I3Zl</td>\n      <td>['contemporary country', 'country', 'country d...</td>\n    </tr>\n    <tr>\n      <th>383</th>\n      <td>Home Run</td>\n      <td>3WcQxf3f924vU8Ae6GNJ16</td>\n      <td>['arkansas country', 'contemporary country', '...</td>\n    </tr>\n    <tr>\n      <th>384</th>\n      <td>Lonely One</td>\n      <td>5w5fbyYHo5129Ce4c7qeWa</td>\n      <td>['contemporary country']</td>\n    </tr>\n    <tr>\n      <th>385</th>\n      <td>Life of a Workin' Man</td>\n      <td>7w7kTTRdZ0huPsJR4UheEA</td>\n      <td>['redneck', 'roots americana']</td>\n    </tr>\n  </tbody>\n</table>\n<p>386 rows × 3 columns</p>\n</div>",
      "text/plain": "                                                  name  \\\n0                                     I Love This Life   \n1                                       Sunday Morning   \n2                                             Sun Daze   \n3    Courtesy Of The Red, White And Blue (The Angry...   \n4                                      Loving You Easy   \n..                                                 ...   \n381                        Country Folks - Livin' Loud   \n382                                Wine, Beer, Whiskey   \n383                                           Home Run   \n384                                         Lonely One   \n385                              Life of a Workin' Man   \n\n                        uri                                             genres  \n0    5d0iu7Mc64GwJIMBGjDt2U  ['contemporary country', 'country pop', 'count...  \n1    0BzIw053LdsgAu8Sb1baIn  ['contemporary country', 'country', 'country p...  \n2    0El2Zyt68nYySFDG87hZgM  ['dance pop', 'hip hop', 'pop rap', 'rap', 'so...  \n3    0M7mWKqwTIaVjYyxfZmtTa  ['contemporary country', 'country', 'country r...  \n4    4ieqNz8S9pvnA0inetRkE3  ['contemporary country', 'country', 'country r...  \n..                      ...                                                ...  \n381  1P7fYBkHMxj3rQI8rUzIZo  ['country', 'country road', 'modern country ro...  \n382  5avVDmK9FVJpd3MDO8I3Zl  ['contemporary country', 'country', 'country d...  \n383  3WcQxf3f924vU8Ae6GNJ16  ['arkansas country', 'contemporary country', '...  \n384  5w5fbyYHo5129Ce4c7qeWa                           ['contemporary country']  \n385  7w7kTTRdZ0huPsJR4UheEA                     ['redneck', 'roots americana']  \n\n[386 rows x 3 columns]"
     },
     "execution_count": 6,
     "metadata": {},
     "output_type": "execute_result"
    }
   ],
   "source": [
    "songsDF = pd.read_csv('./Data/mikeydays/country/SongDF.csv')\n",
    "songsDF"
   ]
  },
  {
   "cell_type": "code",
   "execution_count": 7,
   "metadata": {},
   "outputs": [
    {
     "data": {
      "text/html": "<div>\n<style scoped>\n    .dataframe tbody tr th:only-of-type {\n        vertical-align: middle;\n    }\n\n    .dataframe tbody tr th {\n        vertical-align: top;\n    }\n\n    .dataframe thead th {\n        text-align: right;\n    }\n</style>\n<table border=\"1\" class=\"dataframe\">\n  <thead>\n    <tr style=\"text-align: right;\">\n      <th></th>\n      <th>name</th>\n      <th>length</th>\n      <th>acousticness</th>\n      <th>danceability</th>\n      <th>energy</th>\n      <th>instrumentalness</th>\n      <th>liveness</th>\n      <th>loudness</th>\n      <th>speechiness</th>\n      <th>tempo</th>\n      <th>valence</th>\n      <th>timeSignature</th>\n    </tr>\n  </thead>\n  <tbody>\n    <tr>\n      <th>0</th>\n      <td>I Love This Life</td>\n      <td>0 days 00:03:28.864000</td>\n      <td>0.01640</td>\n      <td>0.586</td>\n      <td>0.927</td>\n      <td>0.000007</td>\n      <td>0.1530</td>\n      <td>-3.014</td>\n      <td>0.0547</td>\n      <td>111.977</td>\n      <td>0.549</td>\n      <td>4</td>\n    </tr>\n    <tr>\n      <th>1</th>\n      <td>Sunday Morning</td>\n      <td>0 days 00:02:51.067000</td>\n      <td>0.00733</td>\n      <td>0.584</td>\n      <td>0.716</td>\n      <td>0.000000</td>\n      <td>0.0879</td>\n      <td>-4.737</td>\n      <td>0.0342</td>\n      <td>90.005</td>\n      <td>0.525</td>\n      <td>4</td>\n    </tr>\n    <tr>\n      <th>2</th>\n      <td>Sun Daze</td>\n      <td>0 days 00:03:04.707000</td>\n      <td>0.09810</td>\n      <td>0.476</td>\n      <td>0.952</td>\n      <td>0.000003</td>\n      <td>0.4380</td>\n      <td>-3.783</td>\n      <td>0.0410</td>\n      <td>170.062</td>\n      <td>0.849</td>\n      <td>4</td>\n    </tr>\n    <tr>\n      <th>3</th>\n      <td>Courtesy Of The Red, White And Blue (The Angry...</td>\n      <td>0 days 00:03:15.533000</td>\n      <td>0.52100</td>\n      <td>0.424</td>\n      <td>0.661</td>\n      <td>0.000002</td>\n      <td>0.0719</td>\n      <td>-5.547</td>\n      <td>0.0425</td>\n      <td>111.762</td>\n      <td>0.384</td>\n      <td>4</td>\n    </tr>\n    <tr>\n      <th>4</th>\n      <td>Loving You Easy</td>\n      <td>0 days 00:02:35.653000</td>\n      <td>0.01250</td>\n      <td>0.717</td>\n      <td>0.591</td>\n      <td>0.000000</td>\n      <td>0.0691</td>\n      <td>-3.939</td>\n      <td>0.0267</td>\n      <td>99.003</td>\n      <td>0.388</td>\n      <td>4</td>\n    </tr>\n    <tr>\n      <th>...</th>\n      <td>...</td>\n      <td>...</td>\n      <td>...</td>\n      <td>...</td>\n      <td>...</td>\n      <td>...</td>\n      <td>...</td>\n      <td>...</td>\n      <td>...</td>\n      <td>...</td>\n      <td>...</td>\n      <td>...</td>\n    </tr>\n    <tr>\n      <th>381</th>\n      <td>Country Folks - Livin' Loud</td>\n      <td>0 days 00:03:45.173000</td>\n      <td>0.23000</td>\n      <td>0.527</td>\n      <td>0.841</td>\n      <td>0.000000</td>\n      <td>0.0912</td>\n      <td>-2.854</td>\n      <td>0.0505</td>\n      <td>79.927</td>\n      <td>0.762</td>\n      <td>4</td>\n    </tr>\n    <tr>\n      <th>382</th>\n      <td>Wine, Beer, Whiskey</td>\n      <td>0 days 00:03:16.160000</td>\n      <td>0.61700</td>\n      <td>0.727</td>\n      <td>0.914</td>\n      <td>0.000000</td>\n      <td>0.5960</td>\n      <td>-5.850</td>\n      <td>0.0743</td>\n      <td>106.021</td>\n      <td>0.784</td>\n      <td>4</td>\n    </tr>\n    <tr>\n      <th>383</th>\n      <td>Home Run</td>\n      <td>0 days 00:03:05.573000</td>\n      <td>0.04350</td>\n      <td>0.600</td>\n      <td>0.745</td>\n      <td>0.000000</td>\n      <td>0.3620</td>\n      <td>-5.677</td>\n      <td>0.0315</td>\n      <td>104.023</td>\n      <td>0.424</td>\n      <td>4</td>\n    </tr>\n    <tr>\n      <th>384</th>\n      <td>Lonely One</td>\n      <td>0 days 00:03:26.107000</td>\n      <td>0.13100</td>\n      <td>0.495</td>\n      <td>0.628</td>\n      <td>0.000007</td>\n      <td>0.1040</td>\n      <td>-5.288</td>\n      <td>0.0290</td>\n      <td>144.944</td>\n      <td>0.414</td>\n      <td>4</td>\n    </tr>\n    <tr>\n      <th>385</th>\n      <td>Life of a Workin' Man</td>\n      <td>0 days 00:03:58.724000</td>\n      <td>0.68300</td>\n      <td>0.624</td>\n      <td>0.635</td>\n      <td>0.000000</td>\n      <td>0.3510</td>\n      <td>-4.901</td>\n      <td>0.0278</td>\n      <td>128.013</td>\n      <td>0.501</td>\n      <td>4</td>\n    </tr>\n  </tbody>\n</table>\n<p>386 rows × 12 columns</p>\n</div>",
      "text/plain": "                                                  name                 length  \\\n0                                     I Love This Life 0 days 00:03:28.864000   \n1                                       Sunday Morning 0 days 00:02:51.067000   \n2                                             Sun Daze 0 days 00:03:04.707000   \n3    Courtesy Of The Red, White And Blue (The Angry... 0 days 00:03:15.533000   \n4                                      Loving You Easy 0 days 00:02:35.653000   \n..                                                 ...                    ...   \n381                        Country Folks - Livin' Loud 0 days 00:03:45.173000   \n382                                Wine, Beer, Whiskey 0 days 00:03:16.160000   \n383                                           Home Run 0 days 00:03:05.573000   \n384                                         Lonely One 0 days 00:03:26.107000   \n385                              Life of a Workin' Man 0 days 00:03:58.724000   \n\n     acousticness  danceability  energy  instrumentalness  liveness  loudness  \\\n0         0.01640         0.586   0.927          0.000007    0.1530    -3.014   \n1         0.00733         0.584   0.716          0.000000    0.0879    -4.737   \n2         0.09810         0.476   0.952          0.000003    0.4380    -3.783   \n3         0.52100         0.424   0.661          0.000002    0.0719    -5.547   \n4         0.01250         0.717   0.591          0.000000    0.0691    -3.939   \n..            ...           ...     ...               ...       ...       ...   \n381       0.23000         0.527   0.841          0.000000    0.0912    -2.854   \n382       0.61700         0.727   0.914          0.000000    0.5960    -5.850   \n383       0.04350         0.600   0.745          0.000000    0.3620    -5.677   \n384       0.13100         0.495   0.628          0.000007    0.1040    -5.288   \n385       0.68300         0.624   0.635          0.000000    0.3510    -4.901   \n\n     speechiness    tempo  valence  timeSignature  \n0         0.0547  111.977    0.549              4  \n1         0.0342   90.005    0.525              4  \n2         0.0410  170.062    0.849              4  \n3         0.0425  111.762    0.384              4  \n4         0.0267   99.003    0.388              4  \n..           ...      ...      ...            ...  \n381       0.0505   79.927    0.762              4  \n382       0.0743  106.021    0.784              4  \n383       0.0315  104.023    0.424              4  \n384       0.0290  144.944    0.414              4  \n385       0.0278  128.013    0.501              4  \n\n[386 rows x 12 columns]"
     },
     "execution_count": 7,
     "metadata": {},
     "output_type": "execute_result"
    }
   ],
   "source": [
    "wrapper.doAuth()\n",
    "\n",
    "wrapper.getFeatures(songsDF)"
   ]
  },
  {
   "cell_type": "code",
   "execution_count": 8,
   "metadata": {},
   "outputs": [
    {
     "data": {
      "text/plain": "382"
     },
     "execution_count": 8,
     "metadata": {},
     "output_type": "execute_result"
    }
   ],
   "source": [
    "len(songsDF['name'].unique())\n",
    "# len(songsDF['name'])"
   ]
  },
  {
   "cell_type": "code",
   "execution_count": 9,
   "metadata": {},
   "outputs": [
    {
     "data": {
      "text/plain": "//api.spotify.com/v1/artists/4r63FhuTkUYltbVAg5TQnk',\n      'id': '4r63FhuTkUYltbVAg5TQnk',\n      'name': 'DaBaby',\n      'type': 'artist',\n      'uri': 'spotify:artist:4r63FhuTkUYltbVAg5TQnk'}],\n    'external_urls': {'spotify': 'https://open.spotify.com/album/623PL2MBg50Br5dLXC9E9e'},\n    'href': 'https://api.spotify.com/v1/albums/623PL2MBg50Br5dLXC9E9e',\n    'id': '623PL2MBg50Br5dLXC9E9e',\n    'images': [{'height': 640,\n      'url': 'https://i.scdn.co/image/ab67616d0000b27320e08c8cc23f404d723b5647',\n      'width': 640},\n     {'height': 300,\n      'url': 'https://i.scdn.co/image/ab67616d00001e0220e08c8cc23f404d723b5647',\n      'width': 300},\n     {'height': 64,\n      'url': 'https://i.scdn.co/image/ab67616d0000485120e08c8cc23f404d723b5647',\n      'width': 64}],\n    'name': 'BLAME IT ON BABY',\n    'release_date': '2020-04-17',\n    'release_date_precision': 'day',\n    'total_tracks': 13,\n    'type': 'album',\n    'uri': 'spotify:album:623PL2MBg50Br5dLXC9E9e'},\n   'artists': [{'external_urls': {'spotify': 'https://open.spotify.com/artist/4r63FhuTkUYltbVAg5TQnk'},\n     'href': 'https://api.spotify.com/v1/artists/4r63FhuTkUYltbVAg5TQnk',\n     'id': '4r63FhuTkUYltbVAg5TQnk',\n     'name': 'DaBaby',\n     'type': 'artist',\n     'uri': 'spotify:artist:4r63FhuTkUYltbVAg5TQnk'},\n    {'external_urls': {'spotify': 'https://open.spotify.com/artist/757aE44tKEUQEqRuT6GnEB'},\n     'href': 'https://api.spotify.com/v1/artists/757aE44tKEUQEqRuT6GnEB',\n     'id': '757aE44tKEUQEqRuT6GnEB',\n     'name': 'Roddy Ricch',\n     'type': 'artist',\n     'uri': 'spotify:artist:757aE44tKEUQEqRuT6GnEB'}],\n   'disc_number': 1,\n   'duration_ms': 181733,\n   'explicit': True,\n   'external_ids': {'isrc': 'USUM72007941'},\n   'external_urls': {'spotify': 'https://open.spotify.com/track/7ytR5pFWmSjzHJIeQkgog4'},\n   'href': 'https://api.spotify.com/v1/tracks/7ytR5pFWmSjzHJIeQkgog4',\n   'id': '7ytR5pFWmSjzHJIeQkgog4',\n   'is_local': False,\n   'is_playable': True,\n   'name': 'ROCKSTAR (feat. Roddy Ricch)',\n   'popularity': 89,\n   'preview_url': None,\n   'track_number': 7,\n   'type': 'track',\n   'uri': 'spotify:track:7ytR5pFWmSjzHJIeQkgog4'},\n  {'album': {'album_type': 'album',\n    'artists': [{'external_urls': {'spotify': 'https://open.spotify.com/artist/4r63FhuTkUYltbVAg5TQnk'},\n      'href': 'https://api.spotify.com/v1/artists/4r63FhuTkUYltbVAg5TQnk',\n      'id': '4r63FhuTkUYltbVAg5TQnk',\n      'name': 'DaBaby',\n      'type': 'artist',\n      'uri': 'spotify:artist:4r63FhuTkUYltbVAg5TQnk'}],\n    'external_urls': {'spotify': 'https://open.spotify.com/album/1NsTSXjVNE7XmZ8PmyW0wl'},\n    'href': 'https://api.spotify.com/v1/albums/1NsTSXjVNE7XmZ8PmyW0wl',\n    'id': '1NsTSXjVNE7XmZ8PmyW0wl',\n    'images': [{'height': 640,\n      'url': 'https://i.scdn.co/image/ab67616d0000b273f2b94b2fda4f08836d6371ba',\n      'width': 640},\n     {'height': 300,\n      'url': 'https://i.scdn.co/image/ab67616d00001e02f2b94b2fda4f08836d6371ba',\n      'width': 300},\n     {'height': 64,\n      'url': 'https://i.scdn.co/image/ab67616d00004851f2b94b2fda4f08836d6371ba',\n      'width': 64}],\n    'name': 'KIRK',\n    'release_date': '2019-09-27',\n    'release_date_precision': 'day',\n    'total_tracks': 13,\n    'type': 'album',\n    'uri': 'spotify:album:1NsTSXjVNE7XmZ8PmyW0wl'},\n   'artists': [{'external_urls': {'spotify': 'https://open.spotify.com/artist/4r63FhuTkUYltbVAg5TQnk'},\n     'href': 'https://api.spotify.com/v1/artists/4r63FhuTkUYltbVAg5TQnk',\n     'id': '4r63FhuTkUYltbVAg5TQnk',\n     'name': 'DaBaby',\n     'type': 'artist',\n     'uri': 'spotify:artist:4r63FhuTkUYltbVAg5TQnk'}],\n   'disc_number': 1,\n   'duration_ms': 159714,\n   'explicit': True,\n   'external_ids': {'isrc': 'USUM71918972'},\n   'external_urls': {'spotify': 'https://open.spotify.com/track/6Ozh9Ok6h4Oi1wUSLtBseN'},\n   'href': 'https://api.spotify.com/v1/tracks/6Ozh9Ok6h4Oi1wUSLtBseN',\n   'id': '6Ozh9Ok6h4Oi1wUSLtBseN',\n   'is_local': False,\n   'is_playable': True,\n   'name': 'BOP',\n   'popularity': 83,\n   'preview_url': None,\n   'track_number': 3,\n   'type': 'track',\n   'uri': 'spotify:track:6Ozh9Ok6h4Oi1wUSLtBseN'},\n  {'album': {'album_type': 'single',\n    'artists': [{'external_urls': {'spotify': 'https://open.spotify.com/artist/3Y2MLcrD3ZQXRXmtn4fZQx'},\n      'href': 'https://api.spotify.com/v1/artists/3Y2MLcrD3ZQXRXmtn4fZQx',\n      'id': '3Y2MLcrD3ZQXRXmtn4fZQx',\n      'name': 'SpotemGottem',\n      'type': 'artist',\n      'uri': 'spotify:artist:3Y2MLcrD3ZQXRXmtn4fZQx'}],\n    'external_urls': {'spotify': 'https://open.spotify.com/album/6QqwWNpKYbROin3Gq5pIrV'},\n    'href': 'https://api.spotify.com/v1/albums/6QqwWNpKYbROin3Gq5pIrV',\n    'id': '6QqwWNpKYbROin3Gq5pIrV',\n    'images': [{'height': 640,\n      'url': 'https://i.scdn.co/image/ab67616d0000b273637d8f4420da84bb0b50e757',\n      'width': 640},\n     {'height': 300,\n      'url': 'https://i.scdn.co/image/ab67616d00001e02637d8f4420da84bb0b50e757',\n      'width': 300},\n     {'height': 64,\n      'url': 'https://i.scdn.co/image/ab67616d00004851637d8f4420da84bb0b50e757',\n      'width': 64}],\n    'name': 'Beat Box 3 (feat. DaBaby)',\n    'release_date': '2021-02-26',\n    'release_date_precision': 'day',\n    'total_tracks': 1,\n    'type': 'album',\n    'uri': 'spotify:album:6QqwWNpKYbROin3Gq5pIrV'},\n   'artists': [{'external_urls': {'spotify': 'https://open.spotify.com/artist/3Y2MLcrD3ZQXRXmtn4fZQx'},\n     'href': 'https://api.spotify.com/v1/artists/3Y2MLcrD3ZQXRXmtn4fZQx',\n     'id': '3Y2MLcrD3ZQXRXmtn4fZQx',\n     'name': 'SpotemGottem',\n     'type': 'artist',\n     'uri': 'spotify:artist:3Y2MLcrD3ZQXRXmtn4fZQx'},\n    {'external_urls': {'spotify': 'https://open.spotify.com/artist/4r63FhuTkUYltbVAg5TQnk'},\n     'href': 'https://api.spotify.com/v1/artists/4r63FhuTkUYltbVAg5TQnk',\n     'id': '4r63FhuTkUYltbVAg5TQnk',\n     'name': 'DaBaby',\n     'type': 'artist',\n     'uri': 'spotify:artist:4r63FhuTkUYltbVAg5TQnk'}],\n   'disc_number': 1,\n   'duration_ms': 200424,\n   'explicit': True,\n   'external_ids': {'isrc': 'USUM72102809'},\n   'external_urls': {'spotify': 'https://open.spotify.com/track/6toQdWWc4noiOk3Eo5mVDS'},\n   'href': 'https://api.spotify.com/v1/tracks/6toQdWWc4noiOk3Eo5mVDS',\n   'id': '6toQdWWc4noiOk3Eo5mVDS',\n   'is_local': False,\n   'is_playable': True,\n   'name': 'Beat Box 3 (feat. DaBaby)',\n   'popularity': 82,\n   'preview_url': None,\n   'track_number': 1,\n   'type': 'track',\n   'uri': 'spotify:track:6toQdWWc4noiOk3Eo5mVDS'},\n  {'album': {'album_type': 'single',\n    'artists': [{'external_urls': {'spotify': 'https://open.spotify.com/artist/4r63FhuTkUYltbVAg5TQnk'},\n      'href': 'https://api.spotify.com/v1/artists/4r63FhuTkUYltbVAg5TQnk',\n      'id': '4r63FhuTkUYltbVAg5TQnk',\n      'name': 'DaBaby',\n      'type': 'artist',\n      'uri': 'spotify:artist:4r63FhuTkUYltbVAg5TQnk'}],\n    'external_urls': {'spotify': 'https://open.spotify.com/album/6kaYDcX9dNmJE5OU71IUby'},\n    'href': 'https://api.spotify.com/v1/albums/6kaYDcX9dNmJE5OU71IUby',\n    'id': '6kaYDcX9dNmJE5OU71IUby',\n    'images': [{'height': 640,\n      'url': 'https://i.scdn.co/image/ab67616d0000b2737b41da110df7023757e8f8fa',\n      'width': 640},\n     {'height': 300,\n      'url': 'https://i.scdn.co/image/ab67616d00001e027b41da110df7023757e8f8fa',\n      'width': 300},\n     {'height': 64,\n      'url': 'https://i.scdn.co/image/ab67616d000048517b41da110df7023757e8f8fa',\n      'width': 64}],\n    'name': 'Masterpiece',\n    'release_date': '2021-01-15',\n    'release_date_precision': 'day',\n    'total_tracks': 1,\n    'type': 'album',\n    'uri': 'spotify:album:6kaYDcX9dNmJE5OU71IUby'},\n   'artists': [{'external_urls': {'spotify': 'https://open.spotify.com/artist/4r63FhuTkUYltbVAg5TQnk'},\n     'href': 'https://api.spotify.com/v1/artists/4r63FhuTkUYltbVAg5TQnk',\n     'id': '4r63FhuTkUYltbVAg5TQnk',\n     'name': 'DaBaby',\n     'type': 'artist',\n     'uri': 'spotify:artist:4r63FhuTkUYltbVAg5TQnk'}],\n   'disc_number': 1,\n   'duration_ms': 181714,\n   'explicit': True,\n   'external_ids': {'isrc': 'USUM72100156'},\n   'external_urls': {'spotify': 'https://open.spotify.com/track/26UxwWl9xCb83OynXELJcL'},\n   'href': 'https://api.spotify.com/v1/tracks/26UxwWl9xCb83OynXELJcL',\n   'id': '26UxwWl9xCb83OynXELJcL',\n   'is_local': False,\n   'is_playable': True,\n   'name': 'Masterpiece',\n   'popularity': 79,\n   'preview_url': None,\n   'track_number': 1,\n   'type': 'track',\n   'uri': 'spotify:track:26UxwWl9xCb83OynXELJcL'},\n  {'album': {'album_type': 'album',\n    'artists': [{'external_urls': {'spotify': 'https://open.spotify.com/artist/4r63FhuTkUYltbVAg5TQnk'},\n      'href': 'https://api.spotify.com/v1/artists/4r63FhuTkUYltbVAg5TQnk',\n      'id': '4r63FhuTkUYltbVAg5TQnk',\n      'name': 'DaBaby',\n      'type': 'artist',\n      'uri': 'spotify:artist:4r63FhuTkUYltbVAg5TQnk'}],\n    'external_urls': {'spotify': 'https://open.spotify.com/album/0O1PJ0t69iTO5yWrIeIga0'},\n    'href': 'https://api.spotify.com/v1/albums/0O1PJ0t69iTO5yWrIeIga0',\n    'id': '0O1PJ0t69iTO5yWrIeIga0',\n    'images': [{'height': 640,\n      'url': 'https://i.scdn.co/image/ab67616d0000b27374d72ebd51dd5781d5f83ffd',\n      'width': 640},\n     {'height': 300,\n      'url': 'https://i.scdn.co/image/ab67616d00001e0274d72ebd51dd5781d5f83ffd',\n      'width': 300},\n     {'height': 64,\n      'url': 'https://i.scdn.co/image/ab67616d0000485174d72ebd51dd5781d5f83ffd',\n      'width': 64}],\n    'name': 'Baby On Baby',\n    'release_date': '2019-03-01',\n    'release_date_precision': 'day',\n    'total_tracks': 13,\n    'type': 'album',\n    'uri': 'spotify:album:0O1PJ0t69iTO5yWrIeIga0'},\n   'artists': [{'external_urls': {'spotify': 'https://open.spotify.com/artist/4r63FhuTkUYltbVAg5TQnk'},\n     'href': 'https://api.spotify.com/v1/artists/4r63FhuTkUYltbVAg5TQnk',\n     'id': '4r63FhuTkUYltbVAg5TQnk',\n     'name': 'DaBaby',\n     'type': 'artist',\n     'uri': 'spotify:artist:4r63FhuTkUYltbVAg5TQnk'}],\n   'disc_number': 1,\n   'duration_ms': 163320,\n   'explicit': True,\n   'external_ids': {'isrc': 'USUM71902966'},\n   'external_urls': {'spotify': 'https://open.spotify.com/track/2gwkD6igEhQbDQegRCcdoB'},\n   'href': 'https://api.spotify.com/v1/tracks/2gwkD6igEhQbDQegRCcdoB',\n   'id': '2gwkD6igEhQbDQegRCcdoB',\n   'is_local': False,\n   'is_playable': True,\n   'name': 'Suge',\n   'popularity': 79,\n   'preview_url': None,\n   'track_number': 2,\n   'type': 'track',\n   'uri': 'spotify:track:2gwkD6igEhQbDQegRCcdoB'},\n  {'album': {'album_type': 'album',\n    'artists': [{'external_urls': {'spotify': 'https://open.spotify.com/artist/0QHgL1lAIqAw0HtD7YldmP'},\n      'href': 'https://api.spotify.com/v1/artists/0QHgL1lAIqAw0HtD7YldmP',\n      'id': '0QHgL1lAIqAw0HtD7YldmP',\n      'name': 'DJ Khaled',\n      'type': 'artist',\n      'uri': 'spotify:artist:0QHgL1lAIqAw0HtD7YldmP'}],\n    'external_urls': {'spotify': 'https://open.spotify.com/album/5kE2OAuUYGBqqzscqgBXXf'},\n    'href': 'https://api.spotify.com/v1/albums/5kE2OAuUYGBqqzscqgBXXf',\n    'id': '5kE2OAuUYGBqqzscqgBXXf',\n    'images': [{'height': 640,\n      'url': 'https://i.scdn.co/image/ab67616d0000b2732276c462b770dc26b7214ca0',\n      'width': 640},\n     {'height': 300,\n      'url': 'https://i.scdn.co/image/ab67616d00001e022276c462b770dc26b7214ca0',\n      'width': 300},\n     {'height': 64,\n      'url': 'https://i.scdn.co/image/ab67616d000048512276c462b770dc26b7214ca0',\n      'width': 64}],\n    'name': 'KHALED KHALED',\n    'release_date': '2021-04-30',\n    'release_date_precision': 'day',\n    'total_tracks': 14,\n    'type': 'album',\n    'uri': 'spotify:album:5kE2OAuUYGBqqzscqgBXXf'},\n   'artists': [{'external_urls': {'spotify': 'https://open.spotify.com/artist/0QHgL1lAIqAw0HtD7YldmP'},\n     'href': 'https://api.spotify.com/v1/artists/0QHgL1lAIqAw0HtD7YldmP',\n     'id': '0QHgL1lAIqAw0HtD7YldmP',\n     'name': 'DJ Khaled',\n     'type': 'artist',\n     'uri': 'spotify:artist:0QHgL1lAIqAw0HtD7YldmP'},\n    {'external_urls': {'spotify': 'https://open.spotify.com/artist/246dkjvS1zLTtiykXe5h60'},\n     'href': 'https://api.spotify.com/v1/artists/246dkjvS1zLTtiykXe5h60',\n     'id': '246dkjvS1zLTtiykXe5h60',\n     'name': 'Post Malone',\n     'type': 'artist',\n     'uri': 'spotify:artist:246dkjvS1zLTtiykXe5h60'},\n    {'external_urls': {'spotify': 'https://open.spotify.com/artist/4r63FhuTkUYltbVAg5TQnk'},\n     'href': 'https://api.spotify.com/v1/artists/4r63FhuTkUYltbVAg5TQnk',\n     'id': '4r63FhuTkUYltbVAg5TQnk',\n     'name': 'DaBaby',\n     'type': 'artist',\n     'uri': 'spotify:artist:4r63FhuTkUYltbVAg5TQnk'},\n    {'external_urls': {'spotify': 'https://open.spotify.com/artist/181bsRPaVXVlUKXrxwZfHK'},\n     'href': 'https://api.spotify.com/v1/artists/181bsRPaVXVlUKXrxwZfHK',\n     'id': '181bsRPaVXVlUKXrxwZfHK',\n     'name': 'Megan Thee Stallion',\n     'type': 'artist',\n     'uri': 'spotify:artist:181bsRPaVXVlUKXrxwZfHK'},\n    {'external_urls': {'spotify': 'https://open.spotify.com/artist/5f7VJjfbwm532GiveGC0ZK'},\n     'href': 'https://api.spotify.com/v1/artists/5f7VJjfbwm532GiveGC0ZK',\n     'id': '5f7VJjfbwm532GiveGC0ZK',\n     'name': 'Lil Baby',\n     'type': 'artist',\n     'uri': 'spotify:artist:5f7VJjfbwm532GiveGC0ZK'}],\n   'disc_number': 1,\n   'duration_ms': 165366,\n   'explicit': True,\n   'external_ids': {'isrc': 'USSM12102187'},\n   'external_urls': {'spotify': 'https://open.spotify.com/track/20GrahbI4AzAOWxpYfDKkf'},\n   'href': 'https://api.spotify.com/v1/tracks/20GrahbI4AzAOWxpYfDKkf',\n   'id': '20GrahbI4AzAOWxpYfDKkf',\n   'is_local': False,\n   'is_playable': True,\n   'name': 'I DID IT (feat. Post Malone, Megan Thee Stallion, Lil Baby & DaBaby)',\n   'popularity': 78,\n   'preview_url': 'https://p.scdn.co/mp3-preview/9edaf2913deb86fd9f64dc1f5c2a66723603d872?cid=57a43e229eb045f7902cfb5a723d0e59',\n   'track_number': 5,\n   'type': 'track',\n   'uri': 'spotify:track:20GrahbI4AzAOWxpYfDKkf'},\n  {'album': {'album_type': 'album',\n    'artists': [{'external_urls': {'spotify': 'https://open.spotify.com/artist/4r63FhuTkUYltbVAg5TQnk'},\n      'href': 'https://api.spotify.com/v1/artists/4r63FhuTkUYltbVAg5TQnk',\n      'id': '4r63FhuTkUYltbVAg5TQnk',\n      'name': 'DaBaby',\n      'type': 'artist',\n      'uri': 'spotify:artist:4r63FhuTkUYltbVAg5TQnk'}],\n    'external_urls': {'spotify': 'https://open.spotify.com/album/1NsTSXjVNE7XmZ8PmyW0wl'},\n    'href': 'https://api.spotify.com/v1/albums/1NsTSXjVNE7XmZ8PmyW0wl',\n    'id': '1NsTSXjVNE7XmZ8PmyW0wl',\n    'images': [{'height': 640,\n      'url': 'https://i.scdn.co/image/ab67616d0000b273f2b94b2fda4f08836d6371ba',\n      'width': 640},\n     {'height': 300,\n      'url': 'https://i.scdn.co/image/ab67616d00001e02f2b94b2fda4f08836d6371ba',\n      'width': 300},\n     {'height': 64,\n      'url': 'https://i.scdn.co/image/ab67616d00004851f2b94b2fda4f08836d6371ba',\n      'width': 64}],\n    'name': 'KIRK',\n    'release_date': '2019-09-27',\n    'release_date_precision': 'day',\n    'total_tracks': 13,\n    'type': 'album',\n    'uri': 'spotify:album:1NsTSXjVNE7XmZ8PmyW0wl'},\n   'artists': [{'external_urls': {'spotify': 'https://open.spotify.com/artist/4r63FhuTkUYltbVAg5TQnk'},\n     'href': 'https://api.spotify.com/v1/artists/4r63FhuTkUYltbVAg5TQnk',\n     'id': '4r63FhuTkUYltbVAg5TQnk',\n     'name': 'DaBaby',\n     'type': 'artist',\n     'uri': 'spotify:artist:4r63FhuTkUYltbVAg5TQnk'}],\n   'disc_number': 1,\n   'duration_ms': 144935,\n   'explicit': True,\n   'external_ids': {'isrc': 'USUM71919281'},\n   'external_urls': {'spotify': 'https://open.spotify.com/track/0fySG6A6qLE8IvDpayb5bM'},\n   'href': 'https://api.spotify.com/v1/tracks/0fySG6A6qLE8IvDpayb5bM',\n   'id': '0fySG6A6qLE8IvDpayb5bM',\n   'is_local': False,\n   'is_playable': True,\n   'name': 'VIBEZ',\n   'popularity': 78,\n   'preview_url': None,\n   'track_number': 4,\n   'type': 'track',\n   'uri': 'spotify:track:0fySG6A6qLE8IvDpayb5bM'},\n  {'album': {'album_type': 'album',\n    'artists': [{'external_urls': {'spotify': 'https://open.spotify.com/artist/4r63FhuTkUYltbVAg5TQnk'},\n      'href': 'https://api.spotify.com/v1/artists/4r63FhuTkUYltbVAg5TQnk',\n      'id': '4r63FhuTkUYltbVAg5TQnk',\n      'name': 'DaBaby',\n      'type': 'artist',\n      'uri': 'spotify:artist:4r63FhuTkUYltbVAg5TQnk'}],\n    'external_urls': {'spotify': 'https://open.spotify.com/album/6SL49HqoUwu2hhfukBAK3Q'},\n    'href': 'https://api.spotify.com/v1/albums/6SL49HqoUwu2hhfukBAK3Q',\n    'id': '6SL49HqoUwu2hhfukBAK3Q',\n    'images': [{'height': 640,\n      'url': 'https://i.scdn.co/image/ab67616d0000b273e818d05b79be19f4d49f1ebf',\n      'width': 640},\n     {'height': 300,\n      'url': 'https://i.scdn.co/image/ab67616d00001e02e818d05b79be19f4d49f1ebf',\n      'width': 300},\n     {'height': 64,\n      'url': 'https://i.scdn.co/image/ab67616d00004851e818d05b79be19f4d49f1ebf',\n      'width': 64}],\n    'name': 'BLAME IT ON BABY (DELUXE)',\n    'release_date': '2020-08-04',\n    'release_date_precision': 'day',\n    'total_tracks': 24,\n    'type': 'album',\n    'uri': 'spotify:album:6SL49HqoUwu2hhfukBAK3Q'},\n   'artists': [{'external_urls': {'spotify': 'https://open.spotify.com/artist/4r63FhuTkUYltbVAg5TQnk'},\n     'href': 'https://api.spotify.com/v1/artists/4r63FhuTkUYltbVAg5TQnk',\n     'id': '4r63FhuTkUYltbVAg5TQnk',\n     'name': 'DaBaby',\n     'type': 'artist',\n     'uri': 'spotify:artist:4r63FhuTkUYltbVAg5TQnk'}],\n   'disc_number': 1,\n   'duration_ms': 122586,\n   'explicit': True,\n   'external_ids': {'isrc': 'USUM72015072'},\n   'external_urls': {'spotify': 'https://open.spotify.com/track/4Z5FyQlevoHoa5FsIVKZju'},\n   'href': 'https://api.spotify.com/v1/tracks/4Z5FyQlevoHoa5FsIVKZju',\n   'id': '4Z5FyQlevoHoa5FsIVKZju',\n   'is_local': False,\n   'is_playable': True,\n   'name': 'PRACTICE',\n   'popularity': 77,\n   'preview_url': None,\n   'track_number': 2,\n   'type': 'track',\n   'uri': 'spotify:track:4Z5FyQlevoHoa5FsIVKZju'},\n  {'album': {'album_type': 'album',\n    'artists': [{'external_urls': {'spotify': 'https://open.spotify.com/artist/6fWVd57NKTalqvmjRd2t8Z'},\n      'href': 'https://api.spotify.com/v1/artists/6fWVd57NKTalqvmjRd2t8Z',\n      'id': '6fWVd57NKTalqvmjRd2t8Z',\n      'name': '24kGoldn',\n      'type': 'artist',\n      'uri': 'spotify:artist:6fWVd57NKTalqvmjRd2t8Z'}],\n    'external_urls': {'spotify': 'https://open.spotify.com/album/270o30h7cAlEhBnbuSpFZq'},\n    'href': 'https://api.spotify.com/v1/albums/270o30h7cAlEhBnbuSpFZq',\n    'id': '270o30h7cAlEhBnbuSpFZq',\n    'images': [{'height': 640,\n      'url': 'https://i.scdn.co/image/ab67616d0000b27384c53fa832dfa265192419c5',\n      'width': 640},\n     {'height': 300,\n      'url': 'https://i.scdn.co/image/ab67616d00001e0284c53fa832dfa265192419c5',\n      'width': 300},\n     {'height': 64,\n      'url': 'https://i.scdn.co/image/ab67616d0000485184c53fa832dfa265192419c5',\n      'width': 64}],\n    'name': 'El Dorado',\n    'release_date': '2021-03-26',\n    'release_date_precision': 'day',\n    'total_tracks': 13,\n    'type': 'album',\n    'uri': 'spotify:album:270o30h7cAlEhBnbuSpFZq'},\n   'artists': [{'external_urls': {'spotify': 'https://open.spotify.com/artist/6fWVd57NKTalqvmjRd2t8Z'},\n     'href': 'https://api.spotify.com/v1/artists/6fWVd57NKTalqvmjRd2t8Z',\n     'id': '6fWVd57NKTalqvmjRd2t8Z',\n     'name': '24kGoldn',\n     'type': 'artist',\n     'uri': 'spotify:artist:6fWVd57NKTalqvmjRd2t8Z'},\n    {'external_urls': {'spotify': 'https://open.spotify.com/artist/4r63FhuTkUYltbVAg5TQnk'},\n     'href': 'https://api.spotify.com/v1/artists/4r63FhuTkUYltbVAg5TQnk',\n     'id': '4r63FhuTkUYltbVAg5TQnk',\n     'name': 'DaBaby',\n     'type': 'artist',\n     'uri': 'spotify:artist:4r63FhuTkUYltbVAg5TQnk'}],\n   'disc_number': 1,\n   'duration_ms': 142000,\n   'explicit': True,\n   'external_ids': {'isrc': 'USQX92004163'},\n   'external_urls': {'spotify': 'https://open.spotify.com/track/6MGRweoLPBAaPcXTMpMWsA'},\n   'href': 'https://api.spotify.com/v1/tracks/6MGRweoLPBAaPcXTMpMWsA',\n   'id': '6MGRweoLPBAaPcXTMpMWsA',\n   'is_local': False,\n   'is_playable': True,\n   'name': 'Coco (feat. DaBaby)',\n   'popularity': 76,\n   'preview_url': 'https://p.scdn.co/mp3-preview/c47ca2e92db60ace13452856889f07a9d2713d2c?cid=57a43e229eb045f7902cfb5a723d0e59',\n   'track_number': 5,\n   'type': 'track',\n   'uri': 'spotify:track:6MGRweoLPBAaPcXTMpMWsA'}]}"
     },
     "execution_count": 9,
     "metadata": {},
     "output_type": "execute_result"
    }
   ],
   "source": [
    "id = artistsDF.loc[artistsDF['name'] == 'DaBaby']['uri'].values[0]\n",
    "\n",
    "sp.artist_top_tracks(id)"
   ]
  },
  {
   "cell_type": "code",
   "execution_count": 11,
   "metadata": {},
   "outputs": [],
   "source": [
    "import os\n",
    "\n",
    "username = 'mikeydays'\n",
    "playlist = 'country'\n",
    "\n",
    "path = './Data/{}/{}'.format(username, playlist)\n",
    "\n",
    "if not os.path.exists(path):\n",
    "    os.makedirs(path)\n",
    "\n",
    "csvPath = os.path.join(path, 'SongFeatures.csv')    \n",
    "audioFeaturesDF.to_csv(csvPath, index=False)\n",
    "# audioFeaturesDF.to_csv(r'./{}/{}/SongFeatures.csv'.format('mikeydays', 'country'))"
   ]
  },
  {
   "cell_type": "code",
   "execution_count": 12,
   "metadata": {},
   "outputs": [],
   "source": [
    "audioFeaturesDF = pd.read_csv(csvPath)"
   ]
  },
  {
   "cell_type": "code",
   "execution_count": 13,
   "metadata": {},
   "outputs": [
    {
     "data": {
      "text/html": "<div>\n<style scoped>\n    .dataframe tbody tr th:only-of-type {\n        vertical-align: middle;\n    }\n\n    .dataframe tbody tr th {\n        vertical-align: top;\n    }\n\n    .dataframe thead th {\n        text-align: right;\n    }\n</style>\n<table border=\"1\" class=\"dataframe\">\n  <thead>\n    <tr style=\"text-align: right;\">\n      <th></th>\n      <th>acousticness</th>\n      <th>danceability</th>\n      <th>energy</th>\n      <th>instrumentalness</th>\n      <th>liveness</th>\n      <th>loudness</th>\n      <th>speechiness</th>\n      <th>tempo</th>\n      <th>valence</th>\n      <th>timeSignature</th>\n    </tr>\n  </thead>\n  <tbody>\n    <tr>\n      <th>acousticness</th>\n      <td>1.000000</td>\n      <td>0.073465</td>\n      <td>-0.418735</td>\n      <td>0.047989</td>\n      <td>-0.109739</td>\n      <td>-0.349164</td>\n      <td>-0.067460</td>\n      <td>-0.041576</td>\n      <td>-0.181243</td>\n      <td>-0.124422</td>\n    </tr>\n    <tr>\n      <th>danceability</th>\n      <td>0.073465</td>\n      <td>1.000000</td>\n      <td>-0.064304</td>\n      <td>0.016300</td>\n      <td>0.040428</td>\n      <td>-0.105611</td>\n      <td>-0.118407</td>\n      <td>-0.217024</td>\n      <td>0.179949</td>\n      <td>0.130447</td>\n    </tr>\n    <tr>\n      <th>energy</th>\n      <td>-0.418735</td>\n      <td>-0.064304</td>\n      <td>1.000000</td>\n      <td>-0.126034</td>\n      <td>0.192741</td>\n      <td>0.553197</td>\n      <td>0.255689</td>\n      <td>0.099748</td>\n      <td>0.369230</td>\n      <td>0.167283</td>\n    </tr>\n    <tr>\n      <th>instrumentalness</th>\n      <td>0.047989</td>\n      <td>0.016300</td>\n      <td>-0.126034</td>\n      <td>1.000000</td>\n      <td>-0.027796</td>\n      <td>-0.206628</td>\n      <td>-0.089420</td>\n      <td>-0.036668</td>\n      <td>-0.097846</td>\n      <td>-0.012175</td>\n    </tr>\n    <tr>\n      <th>liveness</th>\n      <td>-0.109739</td>\n      <td>0.040428</td>\n      <td>0.192741</td>\n      <td>-0.027796</td>\n      <td>1.000000</td>\n      <td>0.115249</td>\n      <td>0.101544</td>\n      <td>0.023938</td>\n      <td>0.140866</td>\n      <td>0.021901</td>\n    </tr>\n    <tr>\n      <th>loudness</th>\n      <td>-0.349164</td>\n      <td>-0.105611</td>\n      <td>0.553197</td>\n      <td>-0.206628</td>\n      <td>0.115249</td>\n      <td>1.000000</td>\n      <td>0.132751</td>\n      <td>0.113649</td>\n      <td>0.211996</td>\n      <td>0.069447</td>\n    </tr>\n    <tr>\n      <th>speechiness</th>\n      <td>-0.067460</td>\n      <td>-0.118407</td>\n      <td>0.255689</td>\n      <td>-0.089420</td>\n      <td>0.101544</td>\n      <td>0.132751</td>\n      <td>1.000000</td>\n      <td>0.104211</td>\n      <td>0.131239</td>\n      <td>0.062403</td>\n    </tr>\n    <tr>\n      <th>tempo</th>\n      <td>-0.041576</td>\n      <td>-0.217024</td>\n      <td>0.099748</td>\n      <td>-0.036668</td>\n      <td>0.023938</td>\n      <td>0.113649</td>\n      <td>0.104211</td>\n      <td>1.000000</td>\n      <td>0.044966</td>\n      <td>-0.096153</td>\n    </tr>\n    <tr>\n      <th>valence</th>\n      <td>-0.181243</td>\n      <td>0.179949</td>\n      <td>0.369230</td>\n      <td>-0.097846</td>\n      <td>0.140866</td>\n      <td>0.211996</td>\n      <td>0.131239</td>\n      <td>0.044966</td>\n      <td>1.000000</td>\n      <td>0.172352</td>\n    </tr>\n    <tr>\n      <th>timeSignature</th>\n      <td>-0.124422</td>\n      <td>0.130447</td>\n      <td>0.167283</td>\n      <td>-0.012175</td>\n      <td>0.021901</td>\n      <td>0.069447</td>\n      <td>0.062403</td>\n      <td>-0.096153</td>\n      <td>0.172352</td>\n      <td>1.000000</td>\n    </tr>\n  </tbody>\n</table>\n</div>",
      "text/plain": "                  acousticness  danceability    energy  instrumentalness  \\\nacousticness          1.000000      0.073465 -0.418735          0.047989   \ndanceability          0.073465      1.000000 -0.064304          0.016300   \nenergy               -0.418735     -0.064304  1.000000         -0.126034   \ninstrumentalness      0.047989      0.016300 -0.126034          1.000000   \nliveness             -0.109739      0.040428  0.192741         -0.027796   \nloudness             -0.349164     -0.105611  0.553197         -0.206628   \nspeechiness          -0.067460     -0.118407  0.255689         -0.089420   \ntempo                -0.041576     -0.217024  0.099748         -0.036668   \nvalence              -0.181243      0.179949  0.369230         -0.097846   \ntimeSignature        -0.124422      0.130447  0.167283         -0.012175   \n\n                  liveness  loudness  speechiness     tempo   valence  \\\nacousticness     -0.109739 -0.349164    -0.067460 -0.041576 -0.181243   \ndanceability      0.040428 -0.105611    -0.118407 -0.217024  0.179949   \nenergy            0.192741  0.553197     0.255689  0.099748  0.369230   \ninstrumentalness -0.027796 -0.206628    -0.089420 -0.036668 -0.097846   \nliveness          1.000000  0.115249     0.101544  0.023938  0.140866   \nloudness          0.115249  1.000000     0.132751  0.113649  0.211996   \nspeechiness       0.101544  0.132751     1.000000  0.104211  0.131239   \ntempo             0.023938  0.113649     0.104211  1.000000  0.044966   \nvalence           0.140866  0.211996     0.131239  0.044966  1.000000   \ntimeSignature     0.021901  0.069447     0.062403 -0.096153  0.172352   \n\n                  timeSignature  \nacousticness          -0.124422  \ndanceability           0.130447  \nenergy                 0.167283  \ninstrumentalness      -0.012175  \nliveness               0.021901  \nloudness               0.069447  \nspeechiness            0.062403  \ntempo                 -0.096153  \nvalence                0.172352  \ntimeSignature          1.000000  "
     },
     "execution_count": 13,
     "metadata": {},
     "output_type": "execute_result"
    }
   ],
   "source": [
    "audioFeaturesDF.corr(method='kendall')"
   ]
  },
  {
   "cell_type": "markdown",
   "metadata": {},
   "source": []
  },
  {
   "cell_type": "code",
   "execution_count": 3,
   "metadata": {},
   "outputs": [
    {
     "name": "stdout",
     "output_type": "stream",
     "text": "new instance of Viz class\n"
    },
    {
     "data": {
      "text/html": "\n<div id=\"altair-viz-c327abb56d7e40d89002157a87284c79\"></div>\n<script type=\"text/javascript\">\n  (function(spec, embedOpt){\n    let outputDiv = document.currentScript.previousElementSibling;\n    if (outputDiv.id !== \"altair-viz-c327abb56d7e40d89002157a87284c79\") {\n      outputDiv = document.getElementById(\"altair-viz-c327abb56d7e40d89002157a87284c79\");\n    }\n    const paths = {\n      \"vega\": \"https://cdn.jsdelivr.net/npm//vega@5?noext\",\n      \"vega-lib\": \"https://cdn.jsdelivr.net/npm//vega-lib?noext\",\n      \"vega-lite\": \"https://cdn.jsdelivr.net/npm//vega-lite@4.8.1?noext\",\n      \"vega-embed\": \"https://cdn.jsdelivr.net/npm//vega-embed@6?noext\",\n    };\n\n    function loadScript(lib) {\n      return new Promise(function(resolve, reject) {\n        var s = document.createElement('script');\n        s.src = paths[lib];\n        s.async = true;\n        s.onload = () => resolve(paths[lib]);\n        s.onerror = () => reject(`Error loading script: ${paths[lib]}`);\n        document.getElementsByTagName(\"head\")[0].appendChild(s);\n      });\n    }\n\n    function showError(err) {\n      outputDiv.innerHTML = `<div class=\"error\" style=\"color:red;\">${err}</div>`;\n      throw err;\n    }\n\n    function displayChart(vegaEmbed) {\n      vegaEmbed(outputDiv, spec, embedOpt)\n        .catch(err => showError(`Javascript Error: ${err.message}<br>This usually means there's a typo in your chart specification. See the javascript console for the full traceback.`));\n    }\n\n    if(typeof define === \"function\" && define.amd) {\n      requirejs.config({paths});\n      require([\"vega-embed\"], displayChart, err => showError(`Error loading script: ${err.message}`));\n    } else if (typeof vegaEmbed === \"function\") {\n      displayChart(vegaEmbed);\n    } else {\n      loadScript(\"vega\")\n        .then(() => loadScript(\"vega-lite\"))\n        .then(() => loadScript(\"vega-embed\"))\n        .catch(showError)\n        .then(() => displayChart(vegaEmbed));\n    }\n  })({\"config\": {\"view\": {\"continuousWidth\": 400, \"continuousHeight\": 300}}, \"data\": {\"name\": \"data-f60b118dbff98c99074e9072bc7e6474\"}, \"mark\": \"bar\", \"encoding\": {\"x\": {\"type\": \"nominal\", \"field\": \"index\"}, \"y\": {\"type\": \"quantitative\", \"field\": \"Mean\"}}, \"$schema\": \"https://vega.github.io/schema/vega-lite/v4.8.1.json\", \"datasets\": {\"data-f60b118dbff98c99074e9072bc7e6474\": [{\"index\": \"acousticness\", \"Mean\": 0.24617376623376622}, {\"index\": \"danceability\", \"Mean\": 0.5785350649350649}, {\"index\": \"energy\", \"Mean\": 0.6651194805194806}, {\"index\": \"instrumentalness\", \"Mean\": 0.004053299584415584}, {\"index\": \"liveness\", \"Mean\": 0.17945038961038962}, {\"index\": \"speechiness\", \"Mean\": 0.037414025974025975}, {\"index\": \"valence\", \"Mean\": 0.5557662337662338}]}}, {\"mode\": \"vega-lite\"});\n</script>",
      "text/plain": "alt.Chart(...)"
     },
     "execution_count": 3,
     "metadata": {},
     "output_type": "execute_result"
    }
   ],
   "source": [
    "audioFeaturesDF = pd.read_csv('./Data/mikeydays/country/SongFeatures.csv')\n",
    "viz = Vizualization.Viz()\n",
    "viz.graphMeans(audioFeaturesDF)"
   ]
  },
  {
   "cell_type": "code",
   "execution_count": 8,
   "metadata": {},
   "outputs": [
    {
     "name": "stdout",
     "output_type": "stream",
     "text": "new instance of Viz class\n"
    },
    {
     "ename": "NameError",
     "evalue": "name 'createSpider' is not defined",
     "output_type": "error",
     "traceback": [
      "\u001b[0;31m---------------------------------------------------------------------------\u001b[0m",
      "\u001b[0;31mNameError\u001b[0m                                 Traceback (most recent call last)",
      "\u001b[0;32m<ipython-input-8-76e98b692193>\u001b[0m in \u001b[0;36m<module>\u001b[0;34m\u001b[0m\n\u001b[1;32m      1\u001b[0m \u001b[0maudioFeaturesDF\u001b[0m \u001b[0;34m=\u001b[0m \u001b[0mpd\u001b[0m\u001b[0;34m.\u001b[0m\u001b[0mread_csv\u001b[0m\u001b[0;34m(\u001b[0m\u001b[0;34m'./Data/mikeydays/country/SongFeatures.csv'\u001b[0m\u001b[0;34m)\u001b[0m\u001b[0;34m\u001b[0m\u001b[0m\n\u001b[1;32m      2\u001b[0m \u001b[0mviz\u001b[0m \u001b[0;34m=\u001b[0m \u001b[0mVizualization\u001b[0m\u001b[0;34m.\u001b[0m\u001b[0mViz\u001b[0m\u001b[0;34m(\u001b[0m\u001b[0;34m)\u001b[0m\u001b[0;34m\u001b[0m\u001b[0m\n\u001b[0;32m----> 3\u001b[0;31m \u001b[0mviz\u001b[0m\u001b[0;34m.\u001b[0m\u001b[0mspiders\u001b[0m\u001b[0;34m(\u001b[0m\u001b[0maudioFeaturesDF\u001b[0m\u001b[0;34m[\u001b[0m\u001b[0;34m:\u001b[0m\u001b[0;36m64\u001b[0m\u001b[0;34m]\u001b[0m\u001b[0;34m,\u001b[0m \u001b[0;36m8\u001b[0m\u001b[0;34m)\u001b[0m\u001b[0;34m\u001b[0m\u001b[0m\n\u001b[0m",
      "\u001b[0;32m~/Desktop/466/AISongRecommender/Vizualization.py\u001b[0m in \u001b[0;36mspiders\u001b[0;34m(self, df, subs)\u001b[0m\n\u001b[1;32m     69\u001b[0m                 \u001b[0max\u001b[0m\u001b[0;34m.\u001b[0m\u001b[0myaxis\u001b[0m\u001b[0;34m.\u001b[0m\u001b[0mgrid\u001b[0m\u001b[0;34m(\u001b[0m\u001b[0;32mFalse\u001b[0m\u001b[0;34m)\u001b[0m\u001b[0;34m\u001b[0m\u001b[0m\n\u001b[1;32m     70\u001b[0m                 \u001b[0max\u001b[0m\u001b[0;34m.\u001b[0m\u001b[0mspines\u001b[0m\u001b[0;34m[\u001b[0m\u001b[0;34m'polar'\u001b[0m\u001b[0;34m]\u001b[0m\u001b[0;34m.\u001b[0m\u001b[0mset_visible\u001b[0m\u001b[0;34m(\u001b[0m\u001b[0;32mFalse\u001b[0m\u001b[0;34m)\u001b[0m\u001b[0;34m\u001b[0m\u001b[0m\n\u001b[0;32m---> 71\u001b[0;31m                 \u001b[0mself\u001b[0m\u001b[0;34m.\u001b[0m\u001b[0mcreateSpider\u001b[0m\u001b[0;34m(\u001b[0m\u001b[0mdf\u001b[0m\u001b[0;34m,\u001b[0m \u001b[0mx\u001b[0m\u001b[0;34m,\u001b[0m \u001b[0my\u001b[0m\u001b[0;34m,\u001b[0m \u001b[0max\u001b[0m\u001b[0;34m,\u001b[0m \u001b[0msubs\u001b[0m\u001b[0;34m)\u001b[0m\u001b[0;34m\u001b[0m\u001b[0m\n\u001b[0m\u001b[1;32m     72\u001b[0m \u001b[0;34m\u001b[0m\u001b[0m\n\u001b[1;32m     73\u001b[0m                 \u001b[0my\u001b[0m \u001b[0;34m+=\u001b[0m \u001b[0;36m1\u001b[0m\u001b[0;34m\u001b[0m\u001b[0m\n",
      "\u001b[0;31mNameError\u001b[0m: name 'createSpider' is not defined"
     ]
    }
   ],
   "source": [
    "audioFeaturesDF = pd.read_csv('./Data/mikeydays/country/SongFeatures.csv')\n",
    "viz = Vizualization.Viz()\n",
    "viz.spiders(audioFeaturesDF[:64], 8)"
   ]
  },
  {
   "cell_type": "code",
   "execution_count": null,
   "metadata": {},
   "outputs": [],
   "source": []
  }
 ],
 "metadata": {
  "file_extension": ".py",
  "kernelspec": {
   "display_name": "AISongRec",
   "language": "python",
   "name": "aisongrec"
  },
  "language_info": {
   "codemirror_mode": {
    "name": "ipython",
    "version": 3
   },
   "file_extension": ".py",
   "mimetype": "text/x-python",
   "name": "python",
   "nbconvert_exporter": "python",
   "pygments_lexer": "ipython3",
   "version": "3.6.6-final"
  },
  "metadata": {
   "interpreter": {
    "hash": "6c665822924c7e24e031e9c626139e20c5648c24538947cda87e5241bffdc688"
   }
  },
  "mimetype": "text/x-python",
  "name": "python",
  "npconvert_exporter": "python",
  "pygments_lexer": "ipython3",
  "version": 3
 },
 "nbformat": 4,
 "nbformat_minor": 2
}