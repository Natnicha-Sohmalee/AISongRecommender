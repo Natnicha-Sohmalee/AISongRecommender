{
 "cells": [
  {
   "cell_type": "code",
   "execution_count": 7,
   "metadata": {},
   "outputs": [],
   "source": [
    "import pandas as pd\n",
    "import numpy as np\n",
    "import spotipy\n",
    "import SpotipyWrapper\n",
    "import Vizualization\n"
   ]
  },
  {
   "cell_type": "code",
   "execution_count": 3,
   "metadata": {},
   "outputs": [
    {
     "name": "stdout",
     "output_type": "stream",
     "text": "Help on module SpotipyWrapper:\n\nNAME\n    SpotipyWrapper\n\nCLASSES\n    builtins.object\n        WrapperClass\n    \n    class WrapperClass(builtins.object)\n     |  Methods defined here:\n     |  \n     |  __init__(self)\n     |      Initialize self.  See help(type(self)) for accurate signature.\n     |  \n     |  doAuth(self)\n     |      Funtion: Setup and initialization of credentials manager and \n     |      master Spotify object\n     |      \n     |      Returns: Spotify Object\n     |  \n     |  getName(self, results, nameArr)\n     |  \n     |  getPlaylistGenre(self, songsDF)\n     |  \n     |  getSongsFromPlaylist(self, uri, username, name='')\n     |      Function: Get list of songs from certain playlist\n     |      \n     |      Returns: Dataframe containing [song name, uri]\n     |  \n     |  getUsersPlaylists(self, username='mikeydays')\n     |      Function: Get a list of users playlist names\n     |      \n     |      Returns: A list of names\n     |  \n     |  ----------------------------------------------------------------------\n     |  Data descriptors defined here:\n     |  \n     |  __dict__\n     |      dictionary for instance variables (if defined)\n     |  \n     |  __weakref__\n     |      list of weak references to the object (if defined)\n\nDATA\n    CLIENT_ID = '57a43e229eb045f7902cfb5a723d0e59'\n    CLIENT_SECRET = 'f301225d3cc3449ba674a36ee64a1cbf'\n    sp = None\n\nFILE\n    /Users/MichaelMoschitto/Desktop/466/AISongRecommender/SpotipyWrapper.py\n\n\n"
    }
   ],
   "source": [
    "help(SpotipyWrapper)"
   ]
  },
  {
   "cell_type": "code",
   "execution_count": 2,
   "metadata": {},
   "outputs": [],
   "source": [
    "wrapper = SpotipyWrapper.WrapperClass()\n",
    "sp = wrapper.doAuth()"
   ]
  },
  {
   "cell_type": "code",
   "execution_count": 3,
   "metadata": {},
   "outputs": [
    {
     "data": {
      "text/html": "<div>\n<style scoped>\n    .dataframe tbody tr th:only-of-type {\n        vertical-align: middle;\n    }\n\n    .dataframe tbody tr th {\n        vertical-align: top;\n    }\n\n    .dataframe thead th {\n        text-align: right;\n    }\n</style>\n<table border=\"1\" class=\"dataframe\">\n  <thead>\n    <tr style=\"text-align: right;\">\n      <th></th>\n      <th>name</th>\n      <th>uri</th>\n    </tr>\n  </thead>\n  <tbody>\n    <tr>\n      <th>0</th>\n      <td>wholesome bangers</td>\n      <td>52Z4shkqqeHL1AzX1NUgzY</td>\n    </tr>\n    <tr>\n      <th>1</th>\n      <td>Throwback Dingers</td>\n      <td>6v3WpQVrQbgfpU2EVxm3eW</td>\n    </tr>\n    <tr>\n      <th>2</th>\n      <td>eminem</td>\n      <td>2Zfrz2ddkRw64NSG3nRsf3</td>\n    </tr>\n    <tr>\n      <th>3</th>\n      <td>not country</td>\n      <td>3EaIcfySntnbcOWrBAnb96</td>\n    </tr>\n    <tr>\n      <th>4</th>\n      <td>country</td>\n      <td>0ZB9jG1uyCbs4rnQ1V5ro6</td>\n    </tr>\n  </tbody>\n</table>\n</div>",
      "text/plain": "                name                     uri\n0  wholesome bangers  52Z4shkqqeHL1AzX1NUgzY\n1  Throwback Dingers  6v3WpQVrQbgfpU2EVxm3eW\n2            eminem   2Zfrz2ddkRw64NSG3nRsf3\n3       not country   3EaIcfySntnbcOWrBAnb96\n4            country  0ZB9jG1uyCbs4rnQ1V5ro6"
     },
     "execution_count": 3,
     "metadata": {},
     "output_type": "execute_result"
    }
   ],
   "source": [
    "\n",
    "playlistDF = wrapper.getUsersPlaylists('mikeydays')\n",
    "playlistDF\n"
   ]
  },
  {
   "cell_type": "code",
   "execution_count": 6,
   "metadata": {},
   "outputs": [
    {
     "data": {
      "text/html": "<div>\n<style scoped>\n    .dataframe tbody tr th:only-of-type {\n        vertical-align: middle;\n    }\n\n    .dataframe tbody tr th {\n        vertical-align: top;\n    }\n\n    .dataframe thead th {\n        text-align: right;\n    }\n</style>\n<table border=\"1\" class=\"dataframe\">\n  <thead>\n    <tr style=\"text-align: right;\">\n      <th></th>\n      <th>name</th>\n      <th>uri</th>\n    </tr>\n  </thead>\n  <tbody>\n    <tr>\n      <th>0</th>\n      <td>2:00 AM</td>\n      <td>4tN3rZ7cChj4Wns2Wt2Nj6</td>\n    </tr>\n    <tr>\n      <th>1</th>\n      <td>2:15</td>\n      <td>4HsOm6VNKZtGh8W8GhdNu4</td>\n    </tr>\n    <tr>\n      <th>2</th>\n      <td>2:54</td>\n      <td>3LsQKoRgMc8VEkQn66jfAQ</td>\n    </tr>\n    <tr>\n      <th>3</th>\n      <td>4:20</td>\n      <td>5KCG0FDMDPzQpxcohGUnyH</td>\n    </tr>\n    <tr>\n      <th>4</th>\n      <td>6:30</td>\n      <td>5abblGojcZoe3zZBhJFBUi</td>\n    </tr>\n    <tr>\n      <th>...</th>\n      <td>...</td>\n      <td>...</td>\n    </tr>\n    <tr>\n      <th>81317</th>\n      <td>黃曉明</td>\n      <td>53F8atvCmVFVOvnKwZXBd3</td>\n    </tr>\n    <tr>\n      <th>81318</th>\n      <td>黃玠瑋</td>\n      <td>6VI0p0xTjBKKxQN8i8vGpD</td>\n    </tr>\n    <tr>\n      <th>81319</th>\n      <td>黃義達</td>\n      <td>7kaq0LysuRSgBZSorlZ7Vj</td>\n    </tr>\n    <tr>\n      <th>81320</th>\n      <td>黃顯忠 (Huang Xianzhong)</td>\n      <td>7MuuEryyseo5cvReO6gdPF</td>\n    </tr>\n    <tr>\n      <th>81321</th>\n      <td>#ERROR!</td>\n      <td>1easDqNuXyccZdonMosEiU</td>\n    </tr>\n  </tbody>\n</table>\n<p>81322 rows × 2 columns</p>\n</div>",
      "text/plain": "                        name                     uri\n0                    2:00 AM  4tN3rZ7cChj4Wns2Wt2Nj6\n1                       2:15  4HsOm6VNKZtGh8W8GhdNu4\n2                       2:54  3LsQKoRgMc8VEkQn66jfAQ\n3                       4:20  5KCG0FDMDPzQpxcohGUnyH\n4                       6:30  5abblGojcZoe3zZBhJFBUi\n...                      ...                     ...\n81317                    黃曉明  53F8atvCmVFVOvnKwZXBd3\n81318                    黃玠瑋  6VI0p0xTjBKKxQN8i8vGpD\n81319                    黃義達  7kaq0LysuRSgBZSorlZ7Vj\n81320  黃顯忠 (Huang Xianzhong)  7MuuEryyseo5cvReO6gdPF\n81321                #ERROR!  1easDqNuXyccZdonMosEiU\n\n[81322 rows x 2 columns]"
     },
     "execution_count": 6,
     "metadata": {},
     "output_type": "execute_result"
    }
   ],
   "source": [
    "artistsDF = pd.read_csv('artist-uris.csv')\n",
    "artistsDF.columns=['name', 'uri']\n",
    "artistsDF['uri'] = artistsDF['uri'].apply(lambda uri: uri.split(':')[2])\n",
    "\n",
    "artistsDF"
   ]
  },
  {
   "cell_type": "code",
   "execution_count": 5,
   "metadata": {},
   "outputs": [
    {
     "data": {
      "text/html": "<div>\n<style scoped>\n    .dataframe tbody tr th:only-of-type {\n        vertical-align: middle;\n    }\n\n    .dataframe tbody tr th {\n        vertical-align: top;\n    }\n\n    .dataframe thead th {\n        text-align: right;\n    }\n</style>\n<table border=\"1\" class=\"dataframe\">\n  <thead>\n    <tr style=\"text-align: right;\">\n      <th></th>\n      <th>name</th>\n      <th>uri</th>\n      <th>genres</th>\n    </tr>\n  </thead>\n  <tbody>\n    <tr>\n      <th>0</th>\n      <td>I Love This Life</td>\n      <td>5d0iu7Mc64GwJIMBGjDt2U</td>\n      <td>[contemporary country, country pop, country ra...</td>\n    </tr>\n    <tr>\n      <th>1</th>\n      <td>Sunday Morning</td>\n      <td>0BzIw053LdsgAu8Sb1baIn</td>\n      <td>[contemporary country, country, country pop, c...</td>\n    </tr>\n    <tr>\n      <th>2</th>\n      <td>Sun Daze</td>\n      <td>0El2Zyt68nYySFDG87hZgM</td>\n      <td>[dance pop, hip hop, pop rap, rap, southern hi...</td>\n    </tr>\n    <tr>\n      <th>3</th>\n      <td>Courtesy Of The Red, White And Blue (The Angry...</td>\n      <td>0M7mWKqwTIaVjYyxfZmtTa</td>\n      <td>[contemporary country, country, country road, ...</td>\n    </tr>\n    <tr>\n      <th>4</th>\n      <td>Loving You Easy</td>\n      <td>4ieqNz8S9pvnA0inetRkE3</td>\n      <td>[contemporary country, country, country road, ...</td>\n    </tr>\n    <tr>\n      <th>...</th>\n      <td>...</td>\n      <td>...</td>\n      <td>...</td>\n    </tr>\n    <tr>\n      <th>381</th>\n      <td>Country Folks - Livin' Loud</td>\n      <td>1P7fYBkHMxj3rQI8rUzIZo</td>\n      <td>[country, country road, modern country rock]</td>\n    </tr>\n    <tr>\n      <th>382</th>\n      <td>Wine, Beer, Whiskey</td>\n      <td>5avVDmK9FVJpd3MDO8I3Zl</td>\n      <td>[contemporary country, country, country dawn, ...</td>\n    </tr>\n    <tr>\n      <th>383</th>\n      <td>Home Run</td>\n      <td>3WcQxf3f924vU8Ae6GNJ16</td>\n      <td>[arkansas country, contemporary country, count...</td>\n    </tr>\n    <tr>\n      <th>384</th>\n      <td>Lonely One</td>\n      <td>5w5fbyYHo5129Ce4c7qeWa</td>\n      <td>[contemporary country]</td>\n    </tr>\n    <tr>\n      <th>385</th>\n      <td>Life of a Workin' Man</td>\n      <td>7w7kTTRdZ0huPsJR4UheEA</td>\n      <td>[redneck, roots americana]</td>\n    </tr>\n  </tbody>\n</table>\n<p>386 rows × 3 columns</p>\n</div>",
      "text/plain": "                                                  name  \\\n0                                     I Love This Life   \n1                                       Sunday Morning   \n2                                             Sun Daze   \n3    Courtesy Of The Red, White And Blue (The Angry...   \n4                                      Loving You Easy   \n..                                                 ...   \n381                        Country Folks - Livin' Loud   \n382                                Wine, Beer, Whiskey   \n383                                           Home Run   \n384                                         Lonely One   \n385                              Life of a Workin' Man   \n\n                        uri                                             genres  \n0    5d0iu7Mc64GwJIMBGjDt2U  [contemporary country, country pop, country ra...  \n1    0BzIw053LdsgAu8Sb1baIn  [contemporary country, country, country pop, c...  \n2    0El2Zyt68nYySFDG87hZgM  [dance pop, hip hop, pop rap, rap, southern hi...  \n3    0M7mWKqwTIaVjYyxfZmtTa  [contemporary country, country, country road, ...  \n4    4ieqNz8S9pvnA0inetRkE3  [contemporary country, country, country road, ...  \n..                      ...                                                ...  \n381  1P7fYBkHMxj3rQI8rUzIZo       [country, country road, modern country rock]  \n382  5avVDmK9FVJpd3MDO8I3Zl  [contemporary country, country, country dawn, ...  \n383  3WcQxf3f924vU8Ae6GNJ16  [arkansas country, contemporary country, count...  \n384  5w5fbyYHo5129Ce4c7qeWa                             [contemporary country]  \n385  7w7kTTRdZ0huPsJR4UheEA                         [redneck, roots americana]  \n\n[386 rows x 3 columns]"
     },
     "execution_count": 5,
     "metadata": {},
     "output_type": "execute_result"
    }
   ],
   "source": [
    "uri = playlistDF[playlistDF['name'] == 'country']['uri'].values[0]\n",
    "\n",
    "songsDF = wrapper.getSongsFromPlaylist(uri, 'mikeydays')\n",
    "songsDF"
   ]
  },
  {
   "cell_type": "code",
   "execution_count": 5,
   "metadata": {},
   "outputs": [
    {
     "ename": "NameError",
     "evalue": "name 'songsDF' is not defined",
     "output_type": "error",
     "traceback": [
      "\u001b[0;31m---------------------------------------------------------------------------\u001b[0m",
      "\u001b[0;31mNameError\u001b[0m                                 Traceback (most recent call last)",
      "\u001b[0;32m<ipython-input-5-273aa8dd1991>\u001b[0m in \u001b[0;36m<module>\u001b[0;34m\u001b[0m\n\u001b[1;32m     10\u001b[0m \u001b[0;34m\u001b[0m\u001b[0m\n\u001b[1;32m     11\u001b[0m \u001b[0mcsvPath\u001b[0m \u001b[0;34m=\u001b[0m \u001b[0mos\u001b[0m\u001b[0;34m.\u001b[0m\u001b[0mpath\u001b[0m\u001b[0;34m.\u001b[0m\u001b[0mjoin\u001b[0m\u001b[0;34m(\u001b[0m\u001b[0mpath\u001b[0m\u001b[0;34m,\u001b[0m \u001b[0;34m'SongDF.csv'\u001b[0m\u001b[0;34m)\u001b[0m\u001b[0;34m\u001b[0m\u001b[0m\n\u001b[0;32m---> 12\u001b[0;31m \u001b[0msongsDF\u001b[0m\u001b[0;34m.\u001b[0m\u001b[0mto_csv\u001b[0m\u001b[0;34m(\u001b[0m\u001b[0mcsvPath\u001b[0m\u001b[0;34m,\u001b[0m \u001b[0mindex\u001b[0m\u001b[0;34m=\u001b[0m\u001b[0;32mFalse\u001b[0m\u001b[0;34m)\u001b[0m\u001b[0;34m\u001b[0m\u001b[0m\n\u001b[0m",
      "\u001b[0;31mNameError\u001b[0m: name 'songsDF' is not defined"
     ]
    }
   ],
   "source": [
    "import os\n",
    "\n",
    "username = 'mikeydays'\n",
    "playlist = 'country'\n",
    "\n",
    "path = './Data/{}/{}'.format(username, playlist)\n",
    "\n",
    "if not os.path.exists(path):\n",
    "    os.makedirs(path)\n",
    "\n",
    "csvPath = os.path.join(path, 'SongDF.csv')    \n",
    "songsDF.to_csv(csvPath, index=False)"
   ]
  },
  {
   "cell_type": "code",
   "execution_count": 6,
   "metadata": {},
   "outputs": [
    {
     "data": {
      "text/html": "<div>\n<style scoped>\n    .dataframe tbody tr th:only-of-type {\n        vertical-align: middle;\n    }\n\n    .dataframe tbody tr th {\n        vertical-align: top;\n    }\n\n    .dataframe thead th {\n        text-align: right;\n    }\n</style>\n<table border=\"1\" class=\"dataframe\">\n  <thead>\n    <tr style=\"text-align: right;\">\n      <th></th>\n      <th>name</th>\n      <th>uri</th>\n      <th>genres</th>\n    </tr>\n  </thead>\n  <tbody>\n    <tr>\n      <th>0</th>\n      <td>I Love This Life</td>\n      <td>5d0iu7Mc64GwJIMBGjDt2U</td>\n      <td>['contemporary country', 'country pop', 'count...</td>\n    </tr>\n    <tr>\n      <th>1</th>\n      <td>Sunday Morning</td>\n      <td>0BzIw053LdsgAu8Sb1baIn</td>\n      <td>['contemporary country', 'country', 'country p...</td>\n    </tr>\n    <tr>\n      <th>2</th>\n      <td>Sun Daze</td>\n      <td>0El2Zyt68nYySFDG87hZgM</td>\n      <td>['dance pop', 'hip hop', 'pop rap', 'rap', 'so...</td>\n    </tr>\n    <tr>\n      <th>3</th>\n      <td>Courtesy Of The Red, White And Blue (The Angry...</td>\n      <td>0M7mWKqwTIaVjYyxfZmtTa</td>\n      <td>['contemporary country', 'country', 'country r...</td>\n    </tr>\n    <tr>\n      <th>4</th>\n      <td>Loving You Easy</td>\n      <td>4ieqNz8S9pvnA0inetRkE3</td>\n      <td>['contemporary country', 'country', 'country r...</td>\n    </tr>\n    <tr>\n      <th>...</th>\n      <td>...</td>\n      <td>...</td>\n      <td>...</td>\n    </tr>\n    <tr>\n      <th>381</th>\n      <td>Country Folks - Livin' Loud</td>\n      <td>1P7fYBkHMxj3rQI8rUzIZo</td>\n      <td>['country', 'country road', 'modern country ro...</td>\n    </tr>\n    <tr>\n      <th>382</th>\n      <td>Wine, Beer, Whiskey</td>\n      <td>5avVDmK9FVJpd3MDO8I3Zl</td>\n      <td>['contemporary country', 'country', 'country d...</td>\n    </tr>\n    <tr>\n      <th>383</th>\n      <td>Home Run</td>\n      <td>3WcQxf3f924vU8Ae6GNJ16</td>\n      <td>['arkansas country', 'contemporary country', '...</td>\n    </tr>\n    <tr>\n      <th>384</th>\n      <td>Lonely One</td>\n      <td>5w5fbyYHo5129Ce4c7qeWa</td>\n      <td>['contemporary country']</td>\n    </tr>\n    <tr>\n      <th>385</th>\n      <td>Life of a Workin' Man</td>\n      <td>7w7kTTRdZ0huPsJR4UheEA</td>\n      <td>['redneck', 'roots americana']</td>\n    </tr>\n  </tbody>\n</table>\n<p>386 rows × 3 columns</p>\n</div>",
      "text/plain": "                                                  name  \\\n0                                     I Love This Life   \n1                                       Sunday Morning   \n2                                             Sun Daze   \n3    Courtesy Of The Red, White And Blue (The Angry...   \n4                                      Loving You Easy   \n..                                                 ...   \n381                        Country Folks - Livin' Loud   \n382                                Wine, Beer, Whiskey   \n383                                           Home Run   \n384                                         Lonely One   \n385                              Life of a Workin' Man   \n\n                        uri                                             genres  \n0    5d0iu7Mc64GwJIMBGjDt2U  ['contemporary country', 'country pop', 'count...  \n1    0BzIw053LdsgAu8Sb1baIn  ['contemporary country', 'country', 'country p...  \n2    0El2Zyt68nYySFDG87hZgM  ['dance pop', 'hip hop', 'pop rap', 'rap', 'so...  \n3    0M7mWKqwTIaVjYyxfZmtTa  ['contemporary country', 'country', 'country r...  \n4    4ieqNz8S9pvnA0inetRkE3  ['contemporary country', 'country', 'country r...  \n..                      ...                                                ...  \n381  1P7fYBkHMxj3rQI8rUzIZo  ['country', 'country road', 'modern country ro...  \n382  5avVDmK9FVJpd3MDO8I3Zl  ['contemporary country', 'country', 'country d...  \n383  3WcQxf3f924vU8Ae6GNJ16  ['arkansas country', 'contemporary country', '...  \n384  5w5fbyYHo5129Ce4c7qeWa                           ['contemporary country']  \n385  7w7kTTRdZ0huPsJR4UheEA                     ['redneck', 'roots americana']  \n\n[386 rows x 3 columns]"
     },
     "execution_count": 6,
     "metadata": {},
     "output_type": "execute_result"
    }
   ],
   "source": [
    "songsDF = pd.read_csv('./Data/mikeydays/country/SongDF.csv')\n",
    "songsDF"
   ]
  },
  {
   "cell_type": "code",
   "execution_count": 7,
   "metadata": {},
   "outputs": [
    {
     "data": {
      "text/html": "<div>\n<style scoped>\n    .dataframe tbody tr th:only-of-type {\n        vertical-align: middle;\n    }\n\n    .dataframe tbody tr th {\n        vertical-align: top;\n    }\n\n    .dataframe thead th {\n        text-align: right;\n    }\n</style>\n<table border=\"1\" class=\"dataframe\">\n  <thead>\n    <tr style=\"text-align: right;\">\n      <th></th>\n      <th>name</th>\n      <th>length</th>\n      <th>acousticness</th>\n      <th>danceability</th>\n      <th>energy</th>\n      <th>instrumentalness</th>\n      <th>liveness</th>\n      <th>loudness</th>\n      <th>speechiness</th>\n      <th>tempo</th>\n      <th>valence</th>\n      <th>timeSignature</th>\n    </tr>\n  </thead>\n  <tbody>\n    <tr>\n      <th>0</th>\n      <td>I Love This Life</td>\n      <td>0 days 00:03:28.864000</td>\n      <td>0.01640</td>\n      <td>0.586</td>\n      <td>0.927</td>\n      <td>0.000007</td>\n      <td>0.1530</td>\n      <td>-3.014</td>\n      <td>0.0547</td>\n      <td>111.977</td>\n      <td>0.549</td>\n      <td>4</td>\n    </tr>\n    <tr>\n      <th>1</th>\n      <td>Sunday Morning</td>\n      <td>0 days 00:02:51.067000</td>\n      <td>0.00733</td>\n      <td>0.584</td>\n      <td>0.716</td>\n      <td>0.000000</td>\n      <td>0.0879</td>\n      <td>-4.737</td>\n      <td>0.0342</td>\n      <td>90.005</td>\n      <td>0.525</td>\n      <td>4</td>\n    </tr>\n    <tr>\n      <th>2</th>\n      <td>Sun Daze</td>\n      <td>0 days 00:03:04.707000</td>\n      <td>0.09810</td>\n      <td>0.476</td>\n      <td>0.952</td>\n      <td>0.000003</td>\n      <td>0.4380</td>\n      <td>-3.783</td>\n      <td>0.0410</td>\n      <td>170.062</td>\n      <td>0.849</td>\n      <td>4</td>\n    </tr>\n    <tr>\n      <th>3</th>\n      <td>Courtesy Of The Red, White And Blue (The Angry...</td>\n      <td>0 days 00:03:15.533000</td>\n      <td>0.52100</td>\n      <td>0.424</td>\n      <td>0.661</td>\n      <td>0.000002</td>\n      <td>0.0719</td>\n      <td>-5.547</td>\n      <td>0.0425</td>\n      <td>111.762</td>\n      <td>0.384</td>\n      <td>4</td>\n    </tr>\n    <tr>\n      <th>4</th>\n      <td>Loving You Easy</td>\n      <td>0 days 00:02:35.653000</td>\n      <td>0.01250</td>\n      <td>0.717</td>\n      <td>0.591</td>\n      <td>0.000000</td>\n      <td>0.0691</td>\n      <td>-3.939</td>\n      <td>0.0267</td>\n      <td>99.003</td>\n      <td>0.388</td>\n      <td>4</td>\n    </tr>\n    <tr>\n      <th>...</th>\n      <td>...</td>\n      <td>...</td>\n      <td>...</td>\n      <td>...</td>\n      <td>...</td>\n      <td>...</td>\n      <td>...</td>\n      <td>...</td>\n      <td>...</td>\n      <td>...</td>\n      <td>...</td>\n      <td>...</td>\n    </tr>\n    <tr>\n      <th>381</th>\n      <td>Country Folks - Livin' Loud</td>\n      <td>0 days 00:03:45.173000</td>\n      <td>0.23000</td>\n      <td>0.527</td>\n      <td>0.841</td>\n      <td>0.000000</td>\n      <td>0.0912</td>\n      <td>-2.854</td>\n      <td>0.0505</td>\n      <td>79.927</td>\n      <td>0.762</td>\n      <td>4</td>\n    </tr>\n    <tr>\n      <th>382</th>\n      <td>Wine, Beer, Whiskey</td>\n      <td>0 days 00:03:16.160000</td>\n      <td>0.61700</td>\n      <td>0.727</td>\n      <td>0.914</td>\n      <td>0.000000</td>\n      <td>0.5960</td>\n      <td>-5.850</td>\n      <td>0.0743</td>\n      <td>106.021</td>\n      <td>0.784</td>\n      <td>4</td>\n    </tr>\n    <tr>\n      <th>383</th>\n      <td>Home Run</td>\n      <td>0 days 00:03:05.573000</td>\n      <td>0.04350</td>\n      <td>0.600</td>\n      <td>0.745</td>\n      <td>0.000000</td>\n      <td>0.3620</td>\n      <td>-5.677</td>\n      <td>0.0315</td>\n      <td>104.023</td>\n      <td>0.424</td>\n      <td>4</td>\n    </tr>\n    <tr>\n      <th>384</th>\n      <td>Lonely One</td>\n      <td>0 days 00:03:26.107000</td>\n      <td>0.13100</td>\n      <td>0.495</td>\n      <td>0.628</td>\n      <td>0.000007</td>\n      <td>0.1040</td>\n      <td>-5.288</td>\n      <td>0.0290</td>\n      <td>144.944</td>\n      <td>0.414</td>\n      <td>4</td>\n    </tr>\n    <tr>\n      <th>385</th>\n      <td>Life of a Workin' Man</td>\n      <td>0 days 00:03:58.724000</td>\n      <td>0.68300</td>\n      <td>0.624</td>\n      <td>0.635</td>\n      <td>0.000000</td>\n      <td>0.3510</td>\n      <td>-4.901</td>\n      <td>0.0278</td>\n      <td>128.013</td>\n      <td>0.501</td>\n      <td>4</td>\n    </tr>\n  </tbody>\n</table>\n<p>386 rows × 12 columns</p>\n</div>",
      "text/plain": "                                                  name                 length  \\\n0                                     I Love This Life 0 days 00:03:28.864000   \n1                                       Sunday Morning 0 days 00:02:51.067000   \n2                                             Sun Daze 0 days 00:03:04.707000   \n3    Courtesy Of The Red, White And Blue (The Angry... 0 days 00:03:15.533000   \n4                                      Loving You Easy 0 days 00:02:35.653000   \n..                                                 ...                    ...   \n381                        Country Folks - Livin' Loud 0 days 00:03:45.173000   \n382                                Wine, Beer, Whiskey 0 days 00:03:16.160000   \n383                                           Home Run 0 days 00:03:05.573000   \n384                                         Lonely One 0 days 00:03:26.107000   \n385                              Life of a Workin' Man 0 days 00:03:58.724000   \n\n     acousticness  danceability  energy  instrumentalness  liveness  loudness  \\\n0         0.01640         0.586   0.927          0.000007    0.1530    -3.014   \n1         0.00733         0.584   0.716          0.000000    0.0879    -4.737   \n2         0.09810         0.476   0.952          0.000003    0.4380    -3.783   \n3         0.52100         0.424   0.661          0.000002    0.0719    -5.547   \n4         0.01250         0.717   0.591          0.000000    0.0691    -3.939   \n..            ...           ...     ...               ...       ...       ...   \n381       0.23000         0.527   0.841          0.000000    0.0912    -2.854   \n382       0.61700         0.727   0.914          0.000000    0.5960    -5.850   \n383       0.04350         0.600   0.745          0.000000    0.3620    -5.677   \n384       0.13100         0.495   0.628          0.000007    0.1040    -5.288   \n385       0.68300         0.624   0.635          0.000000    0.3510    -4.901   \n\n     speechiness    tempo  valence  timeSignature  \n0         0.0547  111.977    0.549              4  \n1         0.0342   90.005    0.525              4  \n2         0.0410  170.062    0.849              4  \n3         0.0425  111.762    0.384              4  \n4         0.0267   99.003    0.388              4  \n..           ...      ...      ...            ...  \n381       0.0505   79.927    0.762              4  \n382       0.0743  106.021    0.784              4  \n383       0.0315  104.023    0.424              4  \n384       0.0290  144.944    0.414              4  \n385       0.0278  128.013    0.501              4  \n\n[386 rows x 12 columns]"
     },
     "execution_count": 7,
     "metadata": {},
     "output_type": "execute_result"
    }
   ],
   "source": [
    "wrapper.doAuth()\n",
    "\n",
    "wrapper.getFeatures(songsDF)"
   ]
  },
  {
   "cell_type": "code",
   "execution_count": 8,
   "metadata": {},
   "outputs": [
    {
     "data": {
      "text/plain": "382"
     },
     "execution_count": 8,
     "metadata": {},
     "output_type": "execute_result"
    }
   ],
   "source": [
    "len(songsDF['name'].unique())\n",
    "# len(songsDF['name'])"
   ]
  },
  {
   "cell_type": "code",
   "execution_count": 9,
   "metadata": {},
   "outputs": [
    {
     "data": {
      "text/plain": "//api.spotify.com/v1/artists/4r63FhuTkUYltbVAg5TQnk',\n      'id': '4r63FhuTkUYltbVAg5TQnk',\n      'name': 'DaBaby',\n      'type': 'artist',\n      'uri': 'spotify:artist:4r63FhuTkUYltbVAg5TQnk'}],\n    'external_urls': {'spotify': 'https://open.spotify.com/album/623PL2MBg50Br5dLXC9E9e'},\n    'href': 'https://api.spotify.com/v1/albums/623PL2MBg50Br5dLXC9E9e',\n    'id': '623PL2MBg50Br5dLXC9E9e',\n    'images': [{'height': 640,\n      'url': 'https://i.scdn.co/image/ab67616d0000b27320e08c8cc23f404d723b5647',\n      'width': 640},\n     {'height': 300,\n      'url': 'https://i.scdn.co/image/ab67616d00001e0220e08c8cc23f404d723b5647',\n      'width': 300},\n     {'height': 64,\n      'url': 'https://i.scdn.co/image/ab67616d0000485120e08c8cc23f404d723b5647',\n      'width': 64}],\n    'name': 'BLAME IT ON BABY',\n    'release_date': '2020-04-17',\n    'release_date_precision': 'day',\n    'total_tracks': 13,\n    'type': 'album',\n    'uri': 'spotify:album:623PL2MBg50Br5dLXC9E9e'},\n   'artists': [{'external_urls': {'spotify': 'https://open.spotify.com/artist/4r63FhuTkUYltbVAg5TQnk'},\n     'href': 'https://api.spotify.com/v1/artists/4r63FhuTkUYltbVAg5TQnk',\n     'id': '4r63FhuTkUYltbVAg5TQnk',\n     'name': 'DaBaby',\n     'type': 'artist',\n     'uri': 'spotify:artist:4r63FhuTkUYltbVAg5TQnk'},\n    {'external_urls': {'spotify': 'https://open.spotify.com/artist/757aE44tKEUQEqRuT6GnEB'},\n     'href': 'https://api.spotify.com/v1/artists/757aE44tKEUQEqRuT6GnEB',\n     'id': '757aE44tKEUQEqRuT6GnEB',\n     'name': 'Roddy Ricch',\n     'type': 'artist',\n     'uri': 'spotify:artist:757aE44tKEUQEqRuT6GnEB'}],\n   'disc_number': 1,\n   'duration_ms': 181733,\n   'explicit': True,\n   'external_ids': {'isrc': 'USUM72007941'},\n   'external_urls': {'spotify': 'https://open.spotify.com/track/7ytR5pFWmSjzHJIeQkgog4'},\n   'href': 'https://api.spotify.com/v1/tracks/7ytR5pFWmSjzHJIeQkgog4',\n   'id': '7ytR5pFWmSjzHJIeQkgog4',\n   'is_local': False,\n   'is_playable': True,\n   'name': 'ROCKSTAR (feat. Roddy Ricch)',\n   'popularity': 89,\n   'preview_url': None,\n   'track_number': 7,\n   'type': 'track',\n   'uri': 'spotify:track:7ytR5pFWmSjzHJIeQkgog4'},\n  {'album': {'album_type': 'album',\n    'artists': [{'external_urls': {'spotify': 'https://open.spotify.com/artist/4r63FhuTkUYltbVAg5TQnk'},\n      'href': 'https://api.spotify.com/v1/artists/4r63FhuTkUYltbVAg5TQnk',\n      'id': '4r63FhuTkUYltbVAg5TQnk',\n      'name': 'DaBaby',\n      'type': 'artist',\n      'uri': 'spotify:artist:4r63FhuTkUYltbVAg5TQnk'}],\n    'external_urls': {'spotify': 'https://open.spotify.com/album/1NsTSXjVNE7XmZ8PmyW0wl'},\n    'href': 'https://api.spotify.com/v1/albums/1NsTSXjVNE7XmZ8PmyW0wl',\n    'id': '1NsTSXjVNE7XmZ8PmyW0wl',\n    'images': [{'height': 640,\n      'url': 'https://i.scdn.co/image/ab67616d0000b273f2b94b2fda4f08836d6371ba',\n      'width': 640},\n     {'height': 300,\n      'url': 'https://i.scdn.co/image/ab67616d00001e02f2b94b2fda4f08836d6371ba',\n      'width': 300},\n     {'height': 64,\n      'url': 'https://i.scdn.co/image/ab67616d00004851f2b94b2fda4f08836d6371ba',\n      'width': 64}],\n    'name': 'KIRK',\n    'release_date': '2019-09-27',\n    'release_date_precision': 'day',\n    'total_tracks': 13,\n    'type': 'album',\n    'uri': 'spotify:album:1NsTSXjVNE7XmZ8PmyW0wl'},\n   'artists': [{'external_urls': {'spotify': 'https://open.spotify.com/artist/4r63FhuTkUYltbVAg5TQnk'},\n     'href': 'https://api.spotify.com/v1/artists/4r63FhuTkUYltbVAg5TQnk',\n     'id': '4r63FhuTkUYltbVAg5TQnk',\n     'name': 'DaBaby',\n     'type': 'artist',\n     'uri': 'spotify:artist:4r63FhuTkUYltbVAg5TQnk'}],\n   'disc_number': 1,\n   'duration_ms': 159714,\n   'explicit': True,\n   'external_ids': {'isrc': 'USUM71918972'},\n   'external_urls': {'spotify': 'https://open.spotify.com/track/6Ozh9Ok6h4Oi1wUSLtBseN'},\n   'href': 'https://api.spotify.com/v1/tracks/6Ozh9Ok6h4Oi1wUSLtBseN',\n   'id': '6Ozh9Ok6h4Oi1wUSLtBseN',\n   'is_local': False,\n   'is_playable': True,\n   'name': 'BOP',\n   'popularity': 83,\n   'preview_url': None,\n   'track_number': 3,\n   'type': 'track',\n   'uri': 'spotify:track:6Ozh9Ok6h4Oi1wUSLtBseN'},\n  {'album': {'album_type': 'single',\n    'artists': [{'external_urls': {'spotify': 'https://open.spotify.com/artist/3Y2MLcrD3ZQXRXmtn4fZQx'},\n      'href': 'https://api.spotify.com/v1/artists/3Y2MLcrD3ZQXRXmtn4fZQx',\n      'id': '3Y2MLcrD3ZQXRXmtn4fZQx',\n      'name': 'SpotemGottem',\n      'type': 'artist',\n      'uri': 'spotify:artist:3Y2MLcrD3ZQXRXmtn4fZQx'}],\n    'external_urls': {'spotify': 'https://open.spotify.com/album/6QqwWNpKYbROin3Gq5pIrV'},\n    'href': 'https://api.spotify.com/v1/albums/6QqwWNpKYbROin3Gq5pIrV',\n    'id': '6QqwWNpKYbROin3Gq5pIrV',\n    'images': [{'height': 640,\n      'url': 'https://i.scdn.co/image/ab67616d0000b273637d8f4420da84bb0b50e757',\n      'width': 640},\n     {'height': 300,\n      'url': 'https://i.scdn.co/image/ab67616d00001e02637d8f4420da84bb0b50e757',\n      'width': 300},\n     {'height': 64,\n      'url': 'https://i.scdn.co/image/ab67616d00004851637d8f4420da84bb0b50e757',\n      'width': 64}],\n    'name': 'Beat Box 3 (feat. DaBaby)',\n    'release_date': '2021-02-26',\n    'release_date_precision': 'day',\n    'total_tracks': 1,\n    'type': 'album',\n    'uri': 'spotify:album:6QqwWNpKYbROin3Gq5pIrV'},\n   'artists': [{'external_urls': {'spotify': 'https://open.spotify.com/artist/3Y2MLcrD3ZQXRXmtn4fZQx'},\n     'href': 'https://api.spotify.com/v1/artists/3Y2MLcrD3ZQXRXmtn4fZQx',\n     'id': '3Y2MLcrD3ZQXRXmtn4fZQx',\n     'name': 'SpotemGottem',\n     'type': 'artist',\n     'uri': 'spotify:artist:3Y2MLcrD3ZQXRXmtn4fZQx'},\n    {'external_urls': {'spotify': 'https://open.spotify.com/artist/4r63FhuTkUYltbVAg5TQnk'},\n     'href': 'https://api.spotify.com/v1/artists/4r63FhuTkUYltbVAg5TQnk',\n     'id': '4r63FhuTkUYltbVAg5TQnk',\n     'name': 'DaBaby',\n     'type': 'artist',\n     'uri': 'spotify:artist:4r63FhuTkUYltbVAg5TQnk'}],\n   'disc_number': 1,\n   'duration_ms': 200424,\n   'explicit': True,\n   'external_ids': {'isrc': 'USUM72102809'},\n   'external_urls': {'spotify': 'https://open.spotify.com/track/6toQdWWc4noiOk3Eo5mVDS'},\n   'href': 'https://api.spotify.com/v1/tracks/6toQdWWc4noiOk3Eo5mVDS',\n   'id': '6toQdWWc4noiOk3Eo5mVDS',\n   'is_local': False,\n   'is_playable': True,\n   'name': 'Beat Box 3 (feat. DaBaby)',\n   'popularity': 82,\n   'preview_url': None,\n   'track_number': 1,\n   'type': 'track',\n   'uri': 'spotify:track:6toQdWWc4noiOk3Eo5mVDS'},\n  {'album': {'album_type': 'single',\n    'artists': [{'external_urls': {'spotify': 'https://open.spotify.com/artist/4r63FhuTkUYltbVAg5TQnk'},\n      'href': 'https://api.spotify.com/v1/artists/4r63FhuTkUYltbVAg5TQnk',\n      'id': '4r63FhuTkUYltbVAg5TQnk',\n      'name': 'DaBaby',\n      'type': 'artist',\n      'uri': 'spotify:artist:4r63FhuTkUYltbVAg5TQnk'}],\n    'external_urls': {'spotify': 'https://open.spotify.com/album/6kaYDcX9dNmJE5OU71IUby'},\n    'href': 'https://api.spotify.com/v1/albums/6kaYDcX9dNmJE5OU71IUby',\n    'id': '6kaYDcX9dNmJE5OU71IUby',\n    'images': [{'height': 640,\n      'url': 'https://i.scdn.co/image/ab67616d0000b2737b41da110df7023757e8f8fa',\n      'width': 640},\n     {'height': 300,\n      'url': 'https://i.scdn.co/image/ab67616d00001e027b41da110df7023757e8f8fa',\n      'width': 300},\n     {'height': 64,\n      'url': 'https://i.scdn.co/image/ab67616d000048517b41da110df7023757e8f8fa',\n      'width': 64}],\n    'name': 'Masterpiece',\n    'release_date': '2021-01-15',\n    'release_date_precision': 'day',\n    'total_tracks': 1,\n    'type': 'album',\n    'uri': 'spotify:album:6kaYDcX9dNmJE5OU71IUby'},\n   'artists': [{'external_urls': {'spotify': 'https://open.spotify.com/artist/4r63FhuTkUYltbVAg5TQnk'},\n     'href': 'https://api.spotify.com/v1/artists/4r63FhuTkUYltbVAg5TQnk',\n     'id': '4r63FhuTkUYltbVAg5TQnk',\n     'name': 'DaBaby',\n     'type': 'artist',\n     'uri': 'spotify:artist:4r63FhuTkUYltbVAg5TQnk'}],\n   'disc_number': 1,\n   'duration_ms': 181714,\n   'explicit': True,\n   'external_ids': {'isrc': 'USUM72100156'},\n   'external_urls': {'spotify': 'https://open.spotify.com/track/26UxwWl9xCb83OynXELJcL'},\n   'href': 'https://api.spotify.com/v1/tracks/26UxwWl9xCb83OynXELJcL',\n   'id': '26UxwWl9xCb83OynXELJcL',\n   'is_local': False,\n   'is_playable': True,\n   'name': 'Masterpiece',\n   'popularity': 79,\n   'preview_url': None,\n   'track_number': 1,\n   'type': 'track',\n   'uri': 'spotify:track:26UxwWl9xCb83OynXELJcL'},\n  {'album': {'album_type': 'album',\n    'artists': [{'external_urls': {'spotify': 'https://open.spotify.com/artist/4r63FhuTkUYltbVAg5TQnk'},\n      'href': 'https://api.spotify.com/v1/artists/4r63FhuTkUYltbVAg5TQnk',\n      'id': '4r63FhuTkUYltbVAg5TQnk',\n      'name': 'DaBaby',\n      'type': 'artist',\n      'uri': 'spotify:artist:4r63FhuTkUYltbVAg5TQnk'}],\n    'external_urls': {'spotify': 'https://open.spotify.com/album/0O1PJ0t69iTO5yWrIeIga0'},\n    'href': 'https://api.spotify.com/v1/albums/0O1PJ0t69iTO5yWrIeIga0',\n    'id': '0O1PJ0t69iTO5yWrIeIga0',\n    'images': [{'height': 640,\n      'url': 'https://i.scdn.co/image/ab67616d0000b27374d72ebd51dd5781d5f83ffd',\n      'width': 640},\n     {'height': 300,\n      'url': 'https://i.scdn.co/image/ab67616d00001e0274d72ebd51dd5781d5f83ffd',\n      'width': 300},\n     {'height': 64,\n      'url': 'https://i.scdn.co/image/ab67616d0000485174d72ebd51dd5781d5f83ffd',\n      'width': 64}],\n    'name': 'Baby On Baby',\n    'release_date': '2019-03-01',\n    'release_date_precision': 'day',\n    'total_tracks': 13,\n    'type': 'album',\n    'uri': 'spotify:album:0O1PJ0t69iTO5yWrIeIga0'},\n   'artists': [{'external_urls': {'spotify': 'https://open.spotify.com/artist/4r63FhuTkUYltbVAg5TQnk'},\n     'href': 'https://api.spotify.com/v1/artists/4r63FhuTkUYltbVAg5TQnk',\n     'id': '4r63FhuTkUYltbVAg5TQnk',\n     'name': 'DaBaby',\n     'type': 'artist',\n     'uri': 'spotify:artist:4r63FhuTkUYltbVAg5TQnk'}],\n   'disc_number': 1,\n   'duration_ms': 163320,\n   'explicit': True,\n   'external_ids': {'isrc': 'USUM71902966'},\n   'external_urls': {'spotify': 'https://open.spotify.com/track/2gwkD6igEhQbDQegRCcdoB'},\n   'href': 'https://api.spotify.com/v1/tracks/2gwkD6igEhQbDQegRCcdoB',\n   'id': '2gwkD6igEhQbDQegRCcdoB',\n   'is_local': False,\n   'is_playable': True,\n   'name': 'Suge',\n   'popularity': 79,\n   'preview_url': None,\n   'track_number': 2,\n   'type': 'track',\n   'uri': 'spotify:track:2gwkD6igEhQbDQegRCcdoB'},\n  {'album': {'album_type': 'album',\n    'artists': [{'external_urls': {'spotify': 'https://open.spotify.com/artist/0QHgL1lAIqAw0HtD7YldmP'},\n      'href': 'https://api.spotify.com/v1/artists/0QHgL1lAIqAw0HtD7YldmP',\n      'id': '0QHgL1lAIqAw0HtD7YldmP',\n      'name': 'DJ Khaled',\n      'type': 'artist',\n      'uri': 'spotify:artist:0QHgL1lAIqAw0HtD7YldmP'}],\n    'external_urls': {'spotify': 'https://open.spotify.com/album/5kE2OAuUYGBqqzscqgBXXf'},\n    'href': 'https://api.spotify.com/v1/albums/5kE2OAuUYGBqqzscqgBXXf',\n    'id': '5kE2OAuUYGBqqzscqgBXXf',\n    'images': [{'height': 640,\n      'url': 'https://i.scdn.co/image/ab67616d0000b2732276c462b770dc26b7214ca0',\n      'width': 640},\n     {'height': 300,\n      'url': 'https://i.scdn.co/image/ab67616d00001e022276c462b770dc26b7214ca0',\n      'width': 300},\n     {'height': 64,\n      'url': 'https://i.scdn.co/image/ab67616d000048512276c462b770dc26b7214ca0',\n      'width': 64}],\n    'name': 'KHALED KHALED',\n    'release_date': '2021-04-30',\n    'release_date_precision': 'day',\n    'total_tracks': 14,\n    'type': 'album',\n    'uri': 'spotify:album:5kE2OAuUYGBqqzscqgBXXf'},\n   'artists': [{'external_urls': {'spotify': 'https://open.spotify.com/artist/0QHgL1lAIqAw0HtD7YldmP'},\n     'href': 'https://api.spotify.com/v1/artists/0QHgL1lAIqAw0HtD7YldmP',\n     'id': '0QHgL1lAIqAw0HtD7YldmP',\n     'name': 'DJ Khaled',\n     'type': 'artist',\n     'uri': 'spotify:artist:0QHgL1lAIqAw0HtD7YldmP'},\n    {'external_urls': {'spotify': 'https://open.spotify.com/artist/246dkjvS1zLTtiykXe5h60'},\n     'href': 'https://api.spotify.com/v1/artists/246dkjvS1zLTtiykXe5h60',\n     'id': '246dkjvS1zLTtiykXe5h60',\n     'name': 'Post Malone',\n     'type': 'artist',\n     'uri': 'spotify:artist:246dkjvS1zLTtiykXe5h60'},\n    {'external_urls': {'spotify': 'https://open.spotify.com/artist/4r63FhuTkUYltbVAg5TQnk'},\n     'href': 'https://api.spotify.com/v1/artists/4r63FhuTkUYltbVAg5TQnk',\n     'id': '4r63FhuTkUYltbVAg5TQnk',\n     'name': 'DaBaby',\n     'type': 'artist',\n     'uri': 'spotify:artist:4r63FhuTkUYltbVAg5TQnk'},\n    {'external_urls': {'spotify': 'https://open.spotify.com/artist/181bsRPaVXVlUKXrxwZfHK'},\n     'href': 'https://api.spotify.com/v1/artists/181bsRPaVXVlUKXrxwZfHK',\n     'id': '181bsRPaVXVlUKXrxwZfHK',\n     'name': 'Megan Thee Stallion',\n     'type': 'artist',\n     'uri': 'spotify:artist:181bsRPaVXVlUKXrxwZfHK'},\n    {'external_urls': {'spotify': 'https://open.spotify.com/artist/5f7VJjfbwm532GiveGC0ZK'},\n     'href': 'https://api.spotify.com/v1/artists/5f7VJjfbwm532GiveGC0ZK',\n     'id': '5f7VJjfbwm532GiveGC0ZK',\n     'name': 'Lil Baby',\n     'type': 'artist',\n     'uri': 'spotify:artist:5f7VJjfbwm532GiveGC0ZK'}],\n   'disc_number': 1,\n   'duration_ms': 165366,\n   'explicit': True,\n   'external_ids': {'isrc': 'USSM12102187'},\n   'external_urls': {'spotify': 'https://open.spotify.com/track/20GrahbI4AzAOWxpYfDKkf'},\n   'href': 'https://api.spotify.com/v1/tracks/20GrahbI4AzAOWxpYfDKkf',\n   'id': '20GrahbI4AzAOWxpYfDKkf',\n   'is_local': False,\n   'is_playable': True,\n   'name': 'I DID IT (feat. Post Malone, Megan Thee Stallion, Lil Baby & DaBaby)',\n   'popularity': 78,\n   'preview_url': 'https://p.scdn.co/mp3-preview/9edaf2913deb86fd9f64dc1f5c2a66723603d872?cid=57a43e229eb045f7902cfb5a723d0e59',\n   'track_number': 5,\n   'type': 'track',\n   'uri': 'spotify:track:20GrahbI4AzAOWxpYfDKkf'},\n  {'album': {'album_type': 'album',\n    'artists': [{'external_urls': {'spotify': 'https://open.spotify.com/artist/4r63FhuTkUYltbVAg5TQnk'},\n      'href': 'https://api.spotify.com/v1/artists/4r63FhuTkUYltbVAg5TQnk',\n      'id': '4r63FhuTkUYltbVAg5TQnk',\n      'name': 'DaBaby',\n      'type': 'artist',\n      'uri': 'spotify:artist:4r63FhuTkUYltbVAg5TQnk'}],\n    'external_urls': {'spotify': 'https://open.spotify.com/album/1NsTSXjVNE7XmZ8PmyW0wl'},\n    'href': 'https://api.spotify.com/v1/albums/1NsTSXjVNE7XmZ8PmyW0wl',\n    'id': '1NsTSXjVNE7XmZ8PmyW0wl',\n    'images': [{'height': 640,\n      'url': 'https://i.scdn.co/image/ab67616d0000b273f2b94b2fda4f08836d6371ba',\n      'width': 640},\n     {'height': 300,\n      'url': 'https://i.scdn.co/image/ab67616d00001e02f2b94b2fda4f08836d6371ba',\n      'width': 300},\n     {'height': 64,\n      'url': 'https://i.scdn.co/image/ab67616d00004851f2b94b2fda4f08836d6371ba',\n      'width': 64}],\n    'name': 'KIRK',\n    'release_date': '2019-09-27',\n    'release_date_precision': 'day',\n    'total_tracks': 13,\n    'type': 'album',\n    'uri': 'spotify:album:1NsTSXjVNE7XmZ8PmyW0wl'},\n   'artists': [{'external_urls': {'spotify': 'https://open.spotify.com/artist/4r63FhuTkUYltbVAg5TQnk'},\n     'href': 'https://api.spotify.com/v1/artists/4r63FhuTkUYltbVAg5TQnk',\n     'id': '4r63FhuTkUYltbVAg5TQnk',\n     'name': 'DaBaby',\n     'type': 'artist',\n     'uri': 'spotify:artist:4r63FhuTkUYltbVAg5TQnk'}],\n   'disc_number': 1,\n   'duration_ms': 144935,\n   'explicit': True,\n   'external_ids': {'isrc': 'USUM71919281'},\n   'external_urls': {'spotify': 'https://open.spotify.com/track/0fySG6A6qLE8IvDpayb5bM'},\n   'href': 'https://api.spotify.com/v1/tracks/0fySG6A6qLE8IvDpayb5bM',\n   'id': '0fySG6A6qLE8IvDpayb5bM',\n   'is_local': False,\n   'is_playable': True,\n   'name': 'VIBEZ',\n   'popularity': 78,\n   'preview_url': None,\n   'track_number': 4,\n   'type': 'track',\n   'uri': 'spotify:track:0fySG6A6qLE8IvDpayb5bM'},\n  {'album': {'album_type': 'album',\n    'artists': [{'external_urls': {'spotify': 'https://open.spotify.com/artist/4r63FhuTkUYltbVAg5TQnk'},\n      'href': 'https://api.spotify.com/v1/artists/4r63FhuTkUYltbVAg5TQnk',\n      'id': '4r63FhuTkUYltbVAg5TQnk',\n      'name': 'DaBaby',\n      'type': 'artist',\n      'uri': 'spotify:artist:4r63FhuTkUYltbVAg5TQnk'}],\n    'external_urls': {'spotify': 'https://open.spotify.com/album/6SL49HqoUwu2hhfukBAK3Q'},\n    'href': 'https://api.spotify.com/v1/albums/6SL49HqoUwu2hhfukBAK3Q',\n    'id': '6SL49HqoUwu2hhfukBAK3Q',\n    'images': [{'height': 640,\n      'url': 'https://i.scdn.co/image/ab67616d0000b273e818d05b79be19f4d49f1ebf',\n      'width': 640},\n     {'height': 300,\n      'url': 'https://i.scdn.co/image/ab67616d00001e02e818d05b79be19f4d49f1ebf',\n      'width': 300},\n     {'height': 64,\n      'url': 'https://i.scdn.co/image/ab67616d00004851e818d05b79be19f4d49f1ebf',\n      'width': 64}],\n    'name': 'BLAME IT ON BABY (DELUXE)',\n    'release_date': '2020-08-04',\n    'release_date_precision': 'day',\n    'total_tracks': 24,\n    'type': 'album',\n    'uri': 'spotify:album:6SL49HqoUwu2hhfukBAK3Q'},\n   'artists': [{'external_urls': {'spotify': 'https://open.spotify.com/artist/4r63FhuTkUYltbVAg5TQnk'},\n     'href': 'https://api.spotify.com/v1/artists/4r63FhuTkUYltbVAg5TQnk',\n     'id': '4r63FhuTkUYltbVAg5TQnk',\n     'name': 'DaBaby',\n     'type': 'artist',\n     'uri': 'spotify:artist:4r63FhuTkUYltbVAg5TQnk'}],\n   'disc_number': 1,\n   'duration_ms': 122586,\n   'explicit': True,\n   'external_ids': {'isrc': 'USUM72015072'},\n   'external_urls': {'spotify': 'https://open.spotify.com/track/4Z5FyQlevoHoa5FsIVKZju'},\n   'href': 'https://api.spotify.com/v1/tracks/4Z5FyQlevoHoa5FsIVKZju',\n   'id': '4Z5FyQlevoHoa5FsIVKZju',\n   'is_local': False,\n   'is_playable': True,\n   'name': 'PRACTICE',\n   'popularity': 77,\n   'preview_url': None,\n   'track_number': 2,\n   'type': 'track',\n   'uri': 'spotify:track:4Z5FyQlevoHoa5FsIVKZju'},\n  {'album': {'album_type': 'album',\n    'artists': [{'external_urls': {'spotify': 'https://open.spotify.com/artist/6fWVd57NKTalqvmjRd2t8Z'},\n      'href': 'https://api.spotify.com/v1/artists/6fWVd57NKTalqvmjRd2t8Z',\n      'id': '6fWVd57NKTalqvmjRd2t8Z',\n      'name': '24kGoldn',\n      'type': 'artist',\n      'uri': 'spotify:artist:6fWVd57NKTalqvmjRd2t8Z'}],\n    'external_urls': {'spotify': 'https://open.spotify.com/album/270o30h7cAlEhBnbuSpFZq'},\n    'href': 'https://api.spotify.com/v1/albums/270o30h7cAlEhBnbuSpFZq',\n    'id': '270o30h7cAlEhBnbuSpFZq',\n    'images': [{'height': 640,\n      'url': 'https://i.scdn.co/image/ab67616d0000b27384c53fa832dfa265192419c5',\n      'width': 640},\n     {'height': 300,\n      'url': 'https://i.scdn.co/image/ab67616d00001e0284c53fa832dfa265192419c5',\n      'width': 300},\n     {'height': 64,\n      'url': 'https://i.scdn.co/image/ab67616d0000485184c53fa832dfa265192419c5',\n      'width': 64}],\n    'name': 'El Dorado',\n    'release_date': '2021-03-26',\n    'release_date_precision': 'day',\n    'total_tracks': 13,\n    'type': 'album',\n    'uri': 'spotify:album:270o30h7cAlEhBnbuSpFZq'},\n   'artists': [{'external_urls': {'spotify': 'https://open.spotify.com/artist/6fWVd57NKTalqvmjRd2t8Z'},\n     'href': 'https://api.spotify.com/v1/artists/6fWVd57NKTalqvmjRd2t8Z',\n     'id': '6fWVd57NKTalqvmjRd2t8Z',\n     'name': '24kGoldn',\n     'type': 'artist',\n     'uri': 'spotify:artist:6fWVd57NKTalqvmjRd2t8Z'},\n    {'external_urls': {'spotify': 'https://open.spotify.com/artist/4r63FhuTkUYltbVAg5TQnk'},\n     'href': 'https://api.spotify.com/v1/artists/4r63FhuTkUYltbVAg5TQnk',\n     'id': '4r63FhuTkUYltbVAg5TQnk',\n     'name': 'DaBaby',\n     'type': 'artist',\n     'uri': 'spotify:artist:4r63FhuTkUYltbVAg5TQnk'}],\n   'disc_number': 1,\n   'duration_ms': 142000,\n   'explicit': True,\n   'external_ids': {'isrc': 'USQX92004163'},\n   'external_urls': {'spotify': 'https://open.spotify.com/track/6MGRweoLPBAaPcXTMpMWsA'},\n   'href': 'https://api.spotify.com/v1/tracks/6MGRweoLPBAaPcXTMpMWsA',\n   'id': '6MGRweoLPBAaPcXTMpMWsA',\n   'is_local': False,\n   'is_playable': True,\n   'name': 'Coco (feat. DaBaby)',\n   'popularity': 76,\n   'preview_url': 'https://p.scdn.co/mp3-preview/c47ca2e92db60ace13452856889f07a9d2713d2c?cid=57a43e229eb045f7902cfb5a723d0e59',\n   'track_number': 5,\n   'type': 'track',\n   'uri': 'spotify:track:6MGRweoLPBAaPcXTMpMWsA'}]}"
     },
     "execution_count": 9,
     "metadata": {},
     "output_type": "execute_result"
    }
   ],
   "source": [
    "id = artistsDF.loc[artistsDF['name'] == 'DaBaby']['uri'].values[0]\n",
    "\n",
    "sp.artist_top_tracks(id)"
   ]
  },
  {
   "cell_type": "code",
   "execution_count": 11,
   "metadata": {},
   "outputs": [],
   "source": [
    "import os\n",
    "\n",
    "username = 'mikeydays'\n",
    "playlist = 'country'\n",
    "\n",
    "path = './Data/{}/{}'.format(username, playlist)\n",
    "\n",
    "if not os.path.exists(path):\n",
    "    os.makedirs(path)\n",
    "\n",
    "csvPath = os.path.join(path, 'SongFeatures.csv')    \n",
    "audioFeaturesDF.to_csv(csvPath, index=False)\n",
    "# audioFeaturesDF.to_csv(r'./{}/{}/SongFeatures.csv'.format('mikeydays', 'country'))"
   ]
  },
  {
   "cell_type": "code",
   "execution_count": 12,
   "metadata": {},
   "outputs": [],
   "source": [
    "audioFeaturesDF = pd.read_csv(csvPath)"
   ]
  },
  {
   "cell_type": "code",
   "execution_count": 13,
   "metadata": {},
   "outputs": [
    {
     "data": {
      "text/html": "<div>\n<style scoped>\n    .dataframe tbody tr th:only-of-type {\n        vertical-align: middle;\n    }\n\n    .dataframe tbody tr th {\n        vertical-align: top;\n    }\n\n    .dataframe thead th {\n        text-align: right;\n    }\n</style>\n<table border=\"1\" class=\"dataframe\">\n  <thead>\n    <tr style=\"text-align: right;\">\n      <th></th>\n      <th>acousticness</th>\n      <th>danceability</th>\n      <th>energy</th>\n      <th>instrumentalness</th>\n      <th>liveness</th>\n      <th>loudness</th>\n      <th>speechiness</th>\n      <th>tempo</th>\n      <th>valence</th>\n      <th>timeSignature</th>\n    </tr>\n  </thead>\n  <tbody>\n    <tr>\n      <th>acousticness</th>\n      <td>1.000000</td>\n      <td>0.073465</td>\n      <td>-0.418735</td>\n      <td>0.047989</td>\n      <td>-0.109739</td>\n      <td>-0.349164</td>\n      <td>-0.067460</td>\n      <td>-0.041576</td>\n      <td>-0.181243</td>\n      <td>-0.124422</td>\n    </tr>\n    <tr>\n      <th>danceability</th>\n      <td>0.073465</td>\n      <td>1.000000</td>\n      <td>-0.064304</td>\n      <td>0.016300</td>\n      <td>0.040428</td>\n      <td>-0.105611</td>\n      <td>-0.118407</td>\n      <td>-0.217024</td>\n      <td>0.179949</td>\n      <td>0.130447</td>\n    </tr>\n    <tr>\n      <th>energy</th>\n      <td>-0.418735</td>\n      <td>-0.064304</td>\n      <td>1.000000</td>\n      <td>-0.126034</td>\n      <td>0.192741</td>\n      <td>0.553197</td>\n      <td>0.255689</td>\n      <td>0.099748</td>\n      <td>0.369230</td>\n      <td>0.167283</td>\n    </tr>\n    <tr>\n      <th>instrumentalness</th>\n      <td>0.047989</td>\n      <td>0.016300</td>\n      <td>-0.126034</td>\n      <td>1.000000</td>\n      <td>-0.027796</td>\n      <td>-0.206628</td>\n      <td>-0.089420</td>\n      <td>-0.036668</td>\n      <td>-0.097846</td>\n      <td>-0.012175</td>\n    </tr>\n    <tr>\n      <th>liveness</th>\n      <td>-0.109739</td>\n      <td>0.040428</td>\n      <td>0.192741</td>\n      <td>-0.027796</td>\n      <td>1.000000</td>\n      <td>0.115249</td>\n      <td>0.101544</td>\n      <td>0.023938</td>\n      <td>0.140866</td>\n      <td>0.021901</td>\n    </tr>\n    <tr>\n      <th>loudness</th>\n      <td>-0.349164</td>\n      <td>-0.105611</td>\n      <td>0.553197</td>\n      <td>-0.206628</td>\n      <td>0.115249</td>\n      <td>1.000000</td>\n      <td>0.132751</td>\n      <td>0.113649</td>\n      <td>0.211996</td>\n      <td>0.069447</td>\n    </tr>\n    <tr>\n      <th>speechiness</th>\n      <td>-0.067460</td>\n      <td>-0.118407</td>\n      <td>0.255689</td>\n      <td>-0.089420</td>\n      <td>0.101544</td>\n      <td>0.132751</td>\n      <td>1.000000</td>\n      <td>0.104211</td>\n      <td>0.131239</td>\n      <td>0.062403</td>\n    </tr>\n    <tr>\n      <th>tempo</th>\n      <td>-0.041576</td>\n      <td>-0.217024</td>\n      <td>0.099748</td>\n      <td>-0.036668</td>\n      <td>0.023938</td>\n      <td>0.113649</td>\n      <td>0.104211</td>\n      <td>1.000000</td>\n      <td>0.044966</td>\n      <td>-0.096153</td>\n    </tr>\n    <tr>\n      <th>valence</th>\n      <td>-0.181243</td>\n      <td>0.179949</td>\n      <td>0.369230</td>\n      <td>-0.097846</td>\n      <td>0.140866</td>\n      <td>0.211996</td>\n      <td>0.131239</td>\n      <td>0.044966</td>\n      <td>1.000000</td>\n      <td>0.172352</td>\n    </tr>\n    <tr>\n      <th>timeSignature</th>\n      <td>-0.124422</td>\n      <td>0.130447</td>\n      <td>0.167283</td>\n      <td>-0.012175</td>\n      <td>0.021901</td>\n      <td>0.069447</td>\n      <td>0.062403</td>\n      <td>-0.096153</td>\n      <td>0.172352</td>\n      <td>1.000000</td>\n    </tr>\n  </tbody>\n</table>\n</div>",
      "text/plain": "                  acousticness  danceability    energy  instrumentalness  \\\nacousticness          1.000000      0.073465 -0.418735          0.047989   \ndanceability          0.073465      1.000000 -0.064304          0.016300   \nenergy               -0.418735     -0.064304  1.000000         -0.126034   \ninstrumentalness      0.047989      0.016300 -0.126034          1.000000   \nliveness             -0.109739      0.040428  0.192741         -0.027796   \nloudness             -0.349164     -0.105611  0.553197         -0.206628   \nspeechiness          -0.067460     -0.118407  0.255689         -0.089420   \ntempo                -0.041576     -0.217024  0.099748         -0.036668   \nvalence              -0.181243      0.179949  0.369230         -0.097846   \ntimeSignature        -0.124422      0.130447  0.167283         -0.012175   \n\n                  liveness  loudness  speechiness     tempo   valence  \\\nacousticness     -0.109739 -0.349164    -0.067460 -0.041576 -0.181243   \ndanceability      0.040428 -0.105611    -0.118407 -0.217024  0.179949   \nenergy            0.192741  0.553197     0.255689  0.099748  0.369230   \ninstrumentalness -0.027796 -0.206628    -0.089420 -0.036668 -0.097846   \nliveness          1.000000  0.115249     0.101544  0.023938  0.140866   \nloudness          0.115249  1.000000     0.132751  0.113649  0.211996   \nspeechiness       0.101544  0.132751     1.000000  0.104211  0.131239   \ntempo             0.023938  0.113649     0.104211  1.000000  0.044966   \nvalence           0.140866  0.211996     0.131239  0.044966  1.000000   \ntimeSignature     0.021901  0.069447     0.062403 -0.096153  0.172352   \n\n                  timeSignature  \nacousticness          -0.124422  \ndanceability           0.130447  \nenergy                 0.167283  \ninstrumentalness      -0.012175  \nliveness               0.021901  \nloudness               0.069447  \nspeechiness            0.062403  \ntempo                 -0.096153  \nvalence                0.172352  \ntimeSignature          1.000000  "
     },
     "execution_count": 13,
     "metadata": {},
     "output_type": "execute_result"
    }
   ],
   "source": [
    "audioFeaturesDF.corr(method='kendall')"
   ]
  },
  {
   "cell_type": "markdown",
   "metadata": {},
   "source": []
  },
  {
   "cell_type": "code",
   "execution_count": 3,
   "metadata": {},
   "outputs": [
    {
     "name": "stdout",
     "output_type": "stream",
     "text": "new instance of Viz class\n"
    },
    {
     "data": {
      "text/html": "\n<div id=\"altair-viz-c327abb56d7e40d89002157a87284c79\"></div>\n<script type=\"text/javascript\">\n  (function(spec, embedOpt){\n    let outputDiv = document.currentScript.previousElementSibling;\n    if (outputDiv.id !== \"altair-viz-c327abb56d7e40d89002157a87284c79\") {\n      outputDiv = document.getElementById(\"altair-viz-c327abb56d7e40d89002157a87284c79\");\n    }\n    const paths = {\n      \"vega\": \"https://cdn.jsdelivr.net/npm//vega@5?noext\",\n      \"vega-lib\": \"https://cdn.jsdelivr.net/npm//vega-lib?noext\",\n      \"vega-lite\": \"https://cdn.jsdelivr.net/npm//vega-lite@4.8.1?noext\",\n      \"vega-embed\": \"https://cdn.jsdelivr.net/npm//vega-embed@6?noext\",\n    };\n\n    function loadScript(lib) {\n      return new Promise(function(resolve, reject) {\n        var s = document.createElement('script');\n        s.src = paths[lib];\n        s.async = true;\n        s.onload = () => resolve(paths[lib]);\n        s.onerror = () => reject(`Error loading script: ${paths[lib]}`);\n        document.getElementsByTagName(\"head\")[0].appendChild(s);\n      });\n    }\n\n    function showError(err) {\n      outputDiv.innerHTML = `<div class=\"error\" style=\"color:red;\">${err}</div>`;\n      throw err;\n    }\n\n    function displayChart(vegaEmbed) {\n      vegaEmbed(outputDiv, spec, embedOpt)\n        .catch(err => showError(`Javascript Error: ${err.message}<br>This usually means there's a typo in your chart specification. See the javascript console for the full traceback.`));\n    }\n\n    if(typeof define === \"function\" && define.amd) {\n      requirejs.config({paths});\n      require([\"vega-embed\"], displayChart, err => showError(`Error loading script: ${err.message}`));\n    } else if (typeof vegaEmbed === \"function\") {\n      displayChart(vegaEmbed);\n    } else {\n      loadScript(\"vega\")\n        .then(() => loadScript(\"vega-lite\"))\n        .then(() => loadScript(\"vega-embed\"))\n        .catch(showError)\n        .then(() => displayChart(vegaEmbed));\n    }\n  })({\"config\": {\"view\": {\"continuousWidth\": 400, \"continuousHeight\": 300}}, \"data\": {\"name\": \"data-f60b118dbff98c99074e9072bc7e6474\"}, \"mark\": \"bar\", \"encoding\": {\"x\": {\"type\": \"nominal\", \"field\": \"index\"}, \"y\": {\"type\": \"quantitative\", \"field\": \"Mean\"}}, \"$schema\": \"https://vega.github.io/schema/vega-lite/v4.8.1.json\", \"datasets\": {\"data-f60b118dbff98c99074e9072bc7e6474\": [{\"index\": \"acousticness\", \"Mean\": 0.24617376623376622}, {\"index\": \"danceability\", \"Mean\": 0.5785350649350649}, {\"index\": \"energy\", \"Mean\": 0.6651194805194806}, {\"index\": \"instrumentalness\", \"Mean\": 0.004053299584415584}, {\"index\": \"liveness\", \"Mean\": 0.17945038961038962}, {\"index\": \"speechiness\", \"Mean\": 0.037414025974025975}, {\"index\": \"valence\", \"Mean\": 0.5557662337662338}]}}, {\"mode\": \"vega-lite\"});\n</script>",
      "text/plain": "alt.Chart(...)"
     },
     "execution_count": 3,
     "metadata": {},
     "output_type": "execute_result"
    }
   ],
   "source": [
    "audioFeaturesDF = pd.read_csv('./Data/mikeydays/country/SongFeatures.csv')\n",
    "viz = Vizualization.Viz()\n",
    "viz.graphMeans(audioFeaturesDF)"
   ]
  },
  {
   "cell_type": "code",
   "execution_count": 8,
   "metadata": {},
   "outputs": [
    {
     "name": "stdout",
     "output_type": "stream",
     "text": "new instance of Viz class\n"
    },
    {
     "ename": "NameError",
     "evalue": "name 'createSpider' is not defined",
     "output_type": "error",
     "traceback": [
      "\u001b[0;31m---------------------------------------------------------------------------\u001b[0m",
      "\u001b[0;31mNameError\u001b[0m                                 Traceback (most recent call last)",
      "\u001b[0;32m<ipython-input-8-76e98b692193>\u001b[0m in \u001b[0;36m<module>\u001b[0;34m\u001b[0m\n\u001b[1;32m      1\u001b[0m \u001b[0maudioFeaturesDF\u001b[0m \u001b[0;34m=\u001b[0m \u001b[0mpd\u001b[0m\u001b[0;34m.\u001b[0m\u001b[0mread_csv\u001b[0m\u001b[0;34m(\u001b[0m\u001b[0;34m'./Data/mikeydays/country/SongFeatures.csv'\u001b[0m\u001b[0;34m)\u001b[0m\u001b[0;34m\u001b[0m\u001b[0m\n\u001b[1;32m      2\u001b[0m \u001b[0mviz\u001b[0m \u001b[0;34m=\u001b[0m \u001b[0mVizualization\u001b[0m\u001b[0;34m.\u001b[0m\u001b[0mViz\u001b[0m\u001b[0;34m(\u001b[0m\u001b[0;34m)\u001b[0m\u001b[0;34m\u001b[0m\u001b[0m\n\u001b[0;32m----> 3\u001b[0;31m \u001b[0mviz\u001b[0m\u001b[0;34m.\u001b[0m\u001b[0mspiders\u001b[0m\u001b[0;34m(\u001b[0m\u001b[0maudioFeaturesDF\u001b[0m\u001b[0;34m[\u001b[0m\u001b[0;34m:\u001b[0m\u001b[0;36m64\u001b[0m\u001b[0;34m]\u001b[0m\u001b[0;34m,\u001b[0m \u001b[0;36m8\u001b[0m\u001b[0;34m)\u001b[0m\u001b[0;34m\u001b[0m\u001b[0m\n\u001b[0m",
      "\u001b[0;32m~/Desktop/466/AISongRecommender/Vizualization.py\u001b[0m in \u001b[0;36mspiders\u001b[0;34m(self, df, subs)\u001b[0m\n\u001b[1;32m     69\u001b[0m                 \u001b[0max\u001b[0m\u001b[0;34m.\u001b[0m\u001b[0myaxis\u001b[0m\u001b[0;34m.\u001b[0m\u001b[0mgrid\u001b[0m\u001b[0;34m(\u001b[0m\u001b[0;32mFalse\u001b[0m\u001b[0;34m)\u001b[0m\u001b[0;34m\u001b[0m\u001b[0m\n\u001b[1;32m     70\u001b[0m                 \u001b[0max\u001b[0m\u001b[0;34m.\u001b[0m\u001b[0mspines\u001b[0m\u001b[0;34m[\u001b[0m\u001b[0;34m'polar'\u001b[0m\u001b[0;34m]\u001b[0m\u001b[0;34m.\u001b[0m\u001b[0mset_visible\u001b[0m\u001b[0;34m(\u001b[0m\u001b[0;32mFalse\u001b[0m\u001b[0;34m)\u001b[0m\u001b[0;34m\u001b[0m\u001b[0m\n\u001b[0;32m---> 71\u001b[0;31m                 \u001b[0mself\u001b[0m\u001b[0;34m.\u001b[0m\u001b[0mcreateSpider\u001b[0m\u001b[0;34m(\u001b[0m\u001b[0mdf\u001b[0m\u001b[0;34m,\u001b[0m \u001b[0mx\u001b[0m\u001b[0;34m,\u001b[0m \u001b[0my\u001b[0m\u001b[0;34m,\u001b[0m \u001b[0max\u001b[0m\u001b[0;34m,\u001b[0m \u001b[0msubs\u001b[0m\u001b[0;34m)\u001b[0m\u001b[0;34m\u001b[0m\u001b[0m\n\u001b[0m\u001b[1;32m     72\u001b[0m \u001b[0;34m\u001b[0m\u001b[0m\n\u001b[1;32m     73\u001b[0m                 \u001b[0my\u001b[0m \u001b[0;34m+=\u001b[0m \u001b[0;36m1\u001b[0m\u001b[0;34m\u001b[0m\u001b[0m\n",
      "\u001b[0;31mNameError\u001b[0m: name 'createSpider' is not defined"
     ]
    }
   ],
   "source": [
    "audioFeaturesDF = pd.read_csv('./Data/mikeydays/country/SongFeatures.csv')\n",
    "viz = Vizualization.Viz()\n",
    "viz.spiders(audioFeaturesDF[:64], 8)"
   ]
  },
  {
   "cell_type": "code",
   "execution_count": null,
   "metadata": {},
   "outputs": [],
   "source": []
  }
 ],
 "metadata": {
  "file_extension": ".py",
  "kernelspec": {
   "display_name": "AISongRec",
   "language": "python",
   "name": "aisongrec"
  },
  "language_info": {
   "codemirror_mode": {
    "name": "ipython",
    "version": 3
   },
   "file_extension": ".py",
   "mimetype": "text/x-python",
   "name": "python",
   "nbconvert_exporter": "python",
   "pygments_lexer": "ipython3",
   "version": "3.6.6-final"
  },
  "metadata": {
   "interpreter": {
    "hash": "6c665822924c7e24e031e9c626139e20c5648c24538947cda87e5241bffdc688"
   }
  },
  "mimetype": "text/x-python",
  "name": "python",
  "npconvert_exporter": "python",
  "pygments_lexer": "ipython3",
  "version": 3
 },
 "nbformat": 4,
 "nbformat_minor": 2
}