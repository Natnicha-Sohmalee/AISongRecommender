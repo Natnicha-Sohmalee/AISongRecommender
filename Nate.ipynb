{
 "metadata": {
  "language_info": {
   "codemirror_mode": {
    "name": "ipython",
    "version": 3
   },
   "file_extension": ".py",
   "mimetype": "text/x-python",
   "name": "python",
   "nbconvert_exporter": "python",
   "pygments_lexer": "ipython3",
   "version": "3.6.6"
  },
  "orig_nbformat": 4,
  "kernelspec": {
   "name": "python3",
   "display_name": "Python 3.6.6 64-bit ('env': venv)"
  },
  "interpreter": {
   "hash": "2ecc74a26e5c09198d6bf58ef29b52005dd2e5c1632fd970afc6d541623e27e6"
  }
 },
 "nbformat": 4,
 "nbformat_minor": 2,
 "cells": [
  {
   "cell_type": "code",
   "execution_count": 2,
   "metadata": {},
   "outputs": [
    {
     "output_type": "stream",
     "name": "stdout",
     "text": [
      "Running\n"
     ]
    }
   ],
   "source": [
    "import pandas as pd\n",
    "import numpy as np\n",
    "import spotipy\n",
    "import SpotipyWrapper\n",
    "import Visualization"
   ]
  },
  {
   "cell_type": "code",
   "execution_count": 3,
   "metadata": {},
   "outputs": [],
   "source": [
    "wrapper = SpotipyWrapper.WrapperClass()\n",
    "sp = wrapper.doAuth()"
   ]
  },
  {
   "cell_type": "code",
   "execution_count": 4,
   "metadata": {},
   "outputs": [
    {
     "output_type": "execute_result",
     "data": {
      "text/plain": [
       "                                  name                     uri\n",
       "0   MOOD Playlist (Upbeat & Energetic)  4x2NeIADXQ2qnfZsVw1JUu\n",
       "1       Various Artists  Happy Feeling  5ki3U2u6lPNMkjtslgpioD\n",
       "2                           beachy (2)  0IrCPlcDJTK56O2TN593Ql\n",
       "3                      Chill dance (2)  5JUMpdVkvd8lPOCLEYQHth\n",
       "4                          w ltc e (2)  4pf5PRIAaMcpbPvrZZ3KCL\n",
       "5                          V Chill (2)  3YWTVa3xeLGULOTT1MZg27\n",
       "6                              YtG (2)  4PJsMqtmgufDCki1LDCbA6\n",
       "7             Contemporary Country (2)  27gT22pW8htgpzFUR10h8A\n",
       "8                       Roots Rock (2)  1D6TaKmTTfebpQibNgwiyX\n",
       "9                             Trap (2)  5ezhnYHYoioFzxmNzEL2Hd\n",
       "10                Stomp and Holler (2)  70rsDbS1B8EZ0b4BihH49Y\n",
       "11                    Indietronica (2)  6B5UEUnkWScmvTcZl0JIoo\n",
       "12                      Indie Folk (2)  2oYRkIppLu2w5WeJtw99t6\n",
       "13                      Vapor Soul (2)  1qMRVrNIKOhXeTOLUSXltx\n",
       "14                    Vapor twitch x 2  2DVirtJ1t7oiQ0Y3FfcPxt\n",
       "15                        Vapor twitch  4utE0AVMWa7MznAvT0r5yL\n",
       "16                   Your new playlist  1g19MPvFnU6QAnKd19jzOw\n",
       "17                   Your new playlist  3Y0nVZYpbwpTaQMuW0lPGr\n",
       "18                          Indie Folk  6hDAQ5c2hD68aIGW6Nnzck\n",
       "19                    Stomp and Holler  5Ysu1FEz2Qf9oN7tsMOBUd\n",
       "20                          Vapor Soul  71Qj5PK0R7DzHp8ROpreyE\n",
       "21                                 Edm  0RRWXXO24GpBSRJ0yQgyYQ\n",
       "22                        Indietronica  2CXFR20g19iol6VXQ9UL9s\n",
       "23                                Trap  0xyOtD9BHEt5ZwxYUZTTUw\n",
       "24                                 edm  6FlZglwMLMSDU55VBoOgq6\n",
       "25                Contemporary Country  66sAYgjrodJeyb5u8o3Zaq\n",
       "26                          Roots Rock  46C0AbVqEuOcDcBaTXytOk\n",
       "27                   Your new playlist  5Ex39REcrIj6B9QxyhduPA\n",
       "28                        NEw playlist  40IkzrCiL1sialGIwr79jU\n",
       "29                           Hozierish  61CLxFpVkoqLUbMrESYX9q\n",
       "30                                 YtG  7jRWZACNFDuOaCYxPYM1mn\n",
       "31                            Just old  0uRWw7RD57nMKqpSi8GSxX\n",
       "32                                Haha  1VLqJDfTOAPvqCo5zHBuee\n",
       "33                             V Chill  1yTlW1Dkl806TFPYi8lmNW\n",
       "34                       Kweku Collins  5rBtlaOsdifVhiqvJTBHWK\n",
       "35                             Country  15ERyvlLOPdzTcJKx7DN6F\n",
       "36                          RnB chill?  0oxVlElOn0FioBw27CyOSs\n",
       "37                           Old Skool  2w2spyVjvEP1OkyVsLFAHZ\n",
       "38                     Feel Good-Chill  0XlIC29bd8MqIa73DpqrKT\n",
       "39                        Feel Good-up  0KDfADWQZsOnJg2I4BbvIX\n",
       "40                             new one  20kHHHdDQRacBRf2ckKigo\n",
       "41                               house  2R07ftLOjkpjiZhau3DTUK\n",
       "42                          chill- out  2COfik4jCc7olVQRDs0Kou\n",
       "43                          new chill   6MYMZa1xQIn9rwQr5hxFQF\n",
       "44                                 out  54l6OZJ1KSAUE0APD5ligA\n",
       "45                             w ltc e  6X3OQPn1FODdRwTAdUw6Jn\n",
       "46                    Leadership prezi  4WAJYc1qAA5kBIrvt1vZuX\n",
       "47                              beachy  3GIZLAQtNoyzVLfh1xxw6X\n",
       "48                         low key alt  49cbzlidNneUouiM4I4HHM\n",
       "49                          upbeat alt  6j2AW3unybHVj3jLfQvRop"
      ],
      "text/html": "<div>\n<style scoped>\n    .dataframe tbody tr th:only-of-type {\n        vertical-align: middle;\n    }\n\n    .dataframe tbody tr th {\n        vertical-align: top;\n    }\n\n    .dataframe thead th {\n        text-align: right;\n    }\n</style>\n<table border=\"1\" class=\"dataframe\">\n  <thead>\n    <tr style=\"text-align: right;\">\n      <th></th>\n      <th>name</th>\n      <th>uri</th>\n    </tr>\n  </thead>\n  <tbody>\n    <tr>\n      <th>0</th>\n      <td>MOOD Playlist (Upbeat &amp; Energetic)</td>\n      <td>4x2NeIADXQ2qnfZsVw1JUu</td>\n    </tr>\n    <tr>\n      <th>1</th>\n      <td>Various Artists  Happy Feeling</td>\n      <td>5ki3U2u6lPNMkjtslgpioD</td>\n    </tr>\n    <tr>\n      <th>2</th>\n      <td>beachy (2)</td>\n      <td>0IrCPlcDJTK56O2TN593Ql</td>\n    </tr>\n    <tr>\n      <th>3</th>\n      <td>Chill dance (2)</td>\n      <td>5JUMpdVkvd8lPOCLEYQHth</td>\n    </tr>\n    <tr>\n      <th>4</th>\n      <td>w ltc e (2)</td>\n      <td>4pf5PRIAaMcpbPvrZZ3KCL</td>\n    </tr>\n    <tr>\n      <th>5</th>\n      <td>V Chill (2)</td>\n      <td>3YWTVa3xeLGULOTT1MZg27</td>\n    </tr>\n    <tr>\n      <th>6</th>\n      <td>YtG (2)</td>\n      <td>4PJsMqtmgufDCki1LDCbA6</td>\n    </tr>\n    <tr>\n      <th>7</th>\n      <td>Contemporary Country (2)</td>\n      <td>27gT22pW8htgpzFUR10h8A</td>\n    </tr>\n    <tr>\n      <th>8</th>\n      <td>Roots Rock (2)</td>\n      <td>1D6TaKmTTfebpQibNgwiyX</td>\n    </tr>\n    <tr>\n      <th>9</th>\n      <td>Trap (2)</td>\n      <td>5ezhnYHYoioFzxmNzEL2Hd</td>\n    </tr>\n    <tr>\n      <th>10</th>\n      <td>Stomp and Holler (2)</td>\n      <td>70rsDbS1B8EZ0b4BihH49Y</td>\n    </tr>\n    <tr>\n      <th>11</th>\n      <td>Indietronica (2)</td>\n      <td>6B5UEUnkWScmvTcZl0JIoo</td>\n    </tr>\n    <tr>\n      <th>12</th>\n      <td>Indie Folk (2)</td>\n      <td>2oYRkIppLu2w5WeJtw99t6</td>\n    </tr>\n    <tr>\n      <th>13</th>\n      <td>Vapor Soul (2)</td>\n      <td>1qMRVrNIKOhXeTOLUSXltx</td>\n    </tr>\n    <tr>\n      <th>14</th>\n      <td>Vapor twitch x 2</td>\n      <td>2DVirtJ1t7oiQ0Y3FfcPxt</td>\n    </tr>\n    <tr>\n      <th>15</th>\n      <td>Vapor twitch</td>\n      <td>4utE0AVMWa7MznAvT0r5yL</td>\n    </tr>\n    <tr>\n      <th>16</th>\n      <td>Your new playlist</td>\n      <td>1g19MPvFnU6QAnKd19jzOw</td>\n    </tr>\n    <tr>\n      <th>17</th>\n      <td>Your new playlist</td>\n      <td>3Y0nVZYpbwpTaQMuW0lPGr</td>\n    </tr>\n    <tr>\n      <th>18</th>\n      <td>Indie Folk</td>\n      <td>6hDAQ5c2hD68aIGW6Nnzck</td>\n    </tr>\n    <tr>\n      <th>19</th>\n      <td>Stomp and Holler</td>\n      <td>5Ysu1FEz2Qf9oN7tsMOBUd</td>\n    </tr>\n    <tr>\n      <th>20</th>\n      <td>Vapor Soul</td>\n      <td>71Qj5PK0R7DzHp8ROpreyE</td>\n    </tr>\n    <tr>\n      <th>21</th>\n      <td>Edm</td>\n      <td>0RRWXXO24GpBSRJ0yQgyYQ</td>\n    </tr>\n    <tr>\n      <th>22</th>\n      <td>Indietronica</td>\n      <td>2CXFR20g19iol6VXQ9UL9s</td>\n    </tr>\n    <tr>\n      <th>23</th>\n      <td>Trap</td>\n      <td>0xyOtD9BHEt5ZwxYUZTTUw</td>\n    </tr>\n    <tr>\n      <th>24</th>\n      <td>edm</td>\n      <td>6FlZglwMLMSDU55VBoOgq6</td>\n    </tr>\n    <tr>\n      <th>25</th>\n      <td>Contemporary Country</td>\n      <td>66sAYgjrodJeyb5u8o3Zaq</td>\n    </tr>\n    <tr>\n      <th>26</th>\n      <td>Roots Rock</td>\n      <td>46C0AbVqEuOcDcBaTXytOk</td>\n    </tr>\n    <tr>\n      <th>27</th>\n      <td>Your new playlist</td>\n      <td>5Ex39REcrIj6B9QxyhduPA</td>\n    </tr>\n    <tr>\n      <th>28</th>\n      <td>NEw playlist</td>\n      <td>40IkzrCiL1sialGIwr79jU</td>\n    </tr>\n    <tr>\n      <th>29</th>\n      <td>Hozierish</td>\n      <td>61CLxFpVkoqLUbMrESYX9q</td>\n    </tr>\n    <tr>\n      <th>30</th>\n      <td>YtG</td>\n      <td>7jRWZACNFDuOaCYxPYM1mn</td>\n    </tr>\n    <tr>\n      <th>31</th>\n      <td>Just old</td>\n      <td>0uRWw7RD57nMKqpSi8GSxX</td>\n    </tr>\n    <tr>\n      <th>32</th>\n      <td>Haha</td>\n      <td>1VLqJDfTOAPvqCo5zHBuee</td>\n    </tr>\n    <tr>\n      <th>33</th>\n      <td>V Chill</td>\n      <td>1yTlW1Dkl806TFPYi8lmNW</td>\n    </tr>\n    <tr>\n      <th>34</th>\n      <td>Kweku Collins</td>\n      <td>5rBtlaOsdifVhiqvJTBHWK</td>\n    </tr>\n    <tr>\n      <th>35</th>\n      <td>Country</td>\n      <td>15ERyvlLOPdzTcJKx7DN6F</td>\n    </tr>\n    <tr>\n      <th>36</th>\n      <td>RnB chill?</td>\n      <td>0oxVlElOn0FioBw27CyOSs</td>\n    </tr>\n    <tr>\n      <th>37</th>\n      <td>Old Skool</td>\n      <td>2w2spyVjvEP1OkyVsLFAHZ</td>\n    </tr>\n    <tr>\n      <th>38</th>\n      <td>Feel Good-Chill</td>\n      <td>0XlIC29bd8MqIa73DpqrKT</td>\n    </tr>\n    <tr>\n      <th>39</th>\n      <td>Feel Good-up</td>\n      <td>0KDfADWQZsOnJg2I4BbvIX</td>\n    </tr>\n    <tr>\n      <th>40</th>\n      <td>new one</td>\n      <td>20kHHHdDQRacBRf2ckKigo</td>\n    </tr>\n    <tr>\n      <th>41</th>\n      <td>house</td>\n      <td>2R07ftLOjkpjiZhau3DTUK</td>\n    </tr>\n    <tr>\n      <th>42</th>\n      <td>chill- out</td>\n      <td>2COfik4jCc7olVQRDs0Kou</td>\n    </tr>\n    <tr>\n      <th>43</th>\n      <td>new chill</td>\n      <td>6MYMZa1xQIn9rwQr5hxFQF</td>\n    </tr>\n    <tr>\n      <th>44</th>\n      <td>out</td>\n      <td>54l6OZJ1KSAUE0APD5ligA</td>\n    </tr>\n    <tr>\n      <th>45</th>\n      <td>w ltc e</td>\n      <td>6X3OQPn1FODdRwTAdUw6Jn</td>\n    </tr>\n    <tr>\n      <th>46</th>\n      <td>Leadership prezi</td>\n      <td>4WAJYc1qAA5kBIrvt1vZuX</td>\n    </tr>\n    <tr>\n      <th>47</th>\n      <td>beachy</td>\n      <td>3GIZLAQtNoyzVLfh1xxw6X</td>\n    </tr>\n    <tr>\n      <th>48</th>\n      <td>low key alt</td>\n      <td>49cbzlidNneUouiM4I4HHM</td>\n    </tr>\n    <tr>\n      <th>49</th>\n      <td>upbeat alt</td>\n      <td>6j2AW3unybHVj3jLfQvRop</td>\n    </tr>\n  </tbody>\n</table>\n</div>"
     },
     "metadata": {},
     "execution_count": 4
    }
   ],
   "source": [
    "playlistDF = wrapper.getUsersPlaylists('natefay')\n",
    "playlistDF"
   ]
  },
  {
   "cell_type": "code",
   "execution_count": 7,
   "metadata": {},
   "outputs": [
    {
     "output_type": "execute_result",
     "data": {
      "text/plain": [
       "                        name                     uri\n",
       "0                    2:00 AM  4tN3rZ7cChj4Wns2Wt2Nj6\n",
       "1                       2:15  4HsOm6VNKZtGh8W8GhdNu4\n",
       "2                       2:54  3LsQKoRgMc8VEkQn66jfAQ\n",
       "3                       4:20  5KCG0FDMDPzQpxcohGUnyH\n",
       "4                       6:30  5abblGojcZoe3zZBhJFBUi\n",
       "...                      ...                     ...\n",
       "81317                    黃曉明  53F8atvCmVFVOvnKwZXBd3\n",
       "81318                    黃玠瑋  6VI0p0xTjBKKxQN8i8vGpD\n",
       "81319                    黃義達  7kaq0LysuRSgBZSorlZ7Vj\n",
       "81320  黃顯忠 (Huang Xianzhong)  7MuuEryyseo5cvReO6gdPF\n",
       "81321                #ERROR!  1easDqNuXyccZdonMosEiU\n",
       "\n",
       "[81322 rows x 2 columns]"
      ],
      "text/html": "<div>\n<style scoped>\n    .dataframe tbody tr th:only-of-type {\n        vertical-align: middle;\n    }\n\n    .dataframe tbody tr th {\n        vertical-align: top;\n    }\n\n    .dataframe thead th {\n        text-align: right;\n    }\n</style>\n<table border=\"1\" class=\"dataframe\">\n  <thead>\n    <tr style=\"text-align: right;\">\n      <th></th>\n      <th>name</th>\n      <th>uri</th>\n    </tr>\n  </thead>\n  <tbody>\n    <tr>\n      <th>0</th>\n      <td>2:00 AM</td>\n      <td>4tN3rZ7cChj4Wns2Wt2Nj6</td>\n    </tr>\n    <tr>\n      <th>1</th>\n      <td>2:15</td>\n      <td>4HsOm6VNKZtGh8W8GhdNu4</td>\n    </tr>\n    <tr>\n      <th>2</th>\n      <td>2:54</td>\n      <td>3LsQKoRgMc8VEkQn66jfAQ</td>\n    </tr>\n    <tr>\n      <th>3</th>\n      <td>4:20</td>\n      <td>5KCG0FDMDPzQpxcohGUnyH</td>\n    </tr>\n    <tr>\n      <th>4</th>\n      <td>6:30</td>\n      <td>5abblGojcZoe3zZBhJFBUi</td>\n    </tr>\n    <tr>\n      <th>...</th>\n      <td>...</td>\n      <td>...</td>\n    </tr>\n    <tr>\n      <th>81317</th>\n      <td>黃曉明</td>\n      <td>53F8atvCmVFVOvnKwZXBd3</td>\n    </tr>\n    <tr>\n      <th>81318</th>\n      <td>黃玠瑋</td>\n      <td>6VI0p0xTjBKKxQN8i8vGpD</td>\n    </tr>\n    <tr>\n      <th>81319</th>\n      <td>黃義達</td>\n      <td>7kaq0LysuRSgBZSorlZ7Vj</td>\n    </tr>\n    <tr>\n      <th>81320</th>\n      <td>黃顯忠 (Huang Xianzhong)</td>\n      <td>7MuuEryyseo5cvReO6gdPF</td>\n    </tr>\n    <tr>\n      <th>81321</th>\n      <td>#ERROR!</td>\n      <td>1easDqNuXyccZdonMosEiU</td>\n    </tr>\n  </tbody>\n</table>\n<p>81322 rows × 2 columns</p>\n</div>"
     },
     "metadata": {},
     "execution_count": 7
    }
   ],
   "source": [
    "artistsDF = pd.read_csv('./Data/Training/artist-uris.csv')\n",
    "artistsDF.columns=['name', 'uri']\n",
    "artistsDF['uri'] = artistsDF['uri'].apply(lambda uri: uri.split(':')[2])\n",
    "\n",
    "artistsDF"
   ]
  },
  {
   "cell_type": "code",
   "execution_count": null,
   "metadata": {},
   "outputs": [],
   "source": [
    "\n"
   ]
  }
 ]
}